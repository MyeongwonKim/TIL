{
 "cells": [
  {
   "cell_type": "markdown",
   "metadata": {},
   "source": [
    "# Lab 09 XOR - tensorboard - eager\n",
    "* XOR 문제를 Deep Neural Network 활용해 풀어보고 Tensorboard에 출력해 보도록 하겠습니다.\n",
    "\n",
    "### 기본 Library 선언 및 Tensorflow 버전 확인"
   ]
  },
  {
   "cell_type": "code",
   "execution_count": 1,
   "metadata": {},
   "outputs": [],
   "source": [
    "%load_ext tensorboard"
   ]
  },
  {
   "cell_type": "code",
   "execution_count": 2,
   "metadata": {
    "scrolled": true
   },
   "outputs": [
    {
     "data": {
      "text/plain": [
       "ERROR: Timed out waiting for TensorBoard to start. It may still be running as pid 10496."
      ]
     },
     "metadata": {},
     "output_type": "display_data"
    }
   ],
   "source": [
    "%tensorboard --logdir logs/xor"
   ]
  },
  {
   "cell_type": "code",
   "execution_count": 9,
   "metadata": {},
   "outputs": [
    {
     "name": "stderr",
     "output_type": "stream",
     "text": [
      "'kill'은(는) 내부 또는 외부 명령, 실행할 수 있는 프로그램, 또는\n",
      "배치 파일이 아닙니다.\n"
     ]
    }
   ],
   "source": [
    "!kill 10496"
   ]
  },
  {
   "cell_type": "code",
   "execution_count": 3,
   "metadata": {
    "scrolled": true
   },
   "outputs": [
    {
     "name": "stdout",
     "output_type": "stream",
     "text": [
      "2.3.1\n"
     ]
    }
   ],
   "source": [
    "import numpy as np\n",
    "import matplotlib.pyplot as plt\n",
    "%matplotlib inline\n",
    "import tensorflow as tf\n",
    "\n",
    "tf.random.set_seed(777)  # for reproducibility\n",
    "\n",
    "print(tf.__version__)"
   ]
  },
  {
   "cell_type": "markdown",
   "metadata": {},
   "source": [
    "### 강의에 설명할 Data입니다\n",
    "* x_data가 2차원 배열이기에 2차원 공간에 표현하여 x1과 x2를 기준으로 y_data 0과 1로 구분하는 예제입니다\n",
    "* 붉은색과 푸른색으로 0과 1을 표시해 보도록 하겠습니다."
   ]
  },
  {
   "cell_type": "code",
   "execution_count": 4,
   "metadata": {
    "scrolled": true
   },
   "outputs": [
    {
     "data": {
      "image/png": "[encoded data removed]",
      "text/plain": [
       "<Figure size 432x288 with 1 Axes>"
      ]
     },
     "metadata": {
      "needs_background": "light"
     },
     "output_type": "display_data"
    }
   ],
   "source": [
    "x_data = [[0, 0],\n",
    "          [0, 1],\n",
    "          [1, 0],\n",
    "          [1, 1]]\n",
    "y_data = [[0],\n",
    "          [1],\n",
    "          [1],\n",
    "          [0]]\n",
    "\n",
    "plt.scatter(x_data[0][0],x_data[0][1], c='red' , marker='^')\n",
    "plt.scatter(x_data[3][0],x_data[3][1], c='red' , marker='^')\n",
    "plt.scatter(x_data[1][0],x_data[1][1], c='blue' , marker='^')\n",
    "plt.scatter(x_data[2][0],x_data[2][1], c='blue' , marker='^')\n",
    "\n",
    "plt.xlabel(\"x1\")\n",
    "plt.ylabel(\"x2\")\n",
    "plt.show()"
   ]
  },
  {
   "cell_type": "markdown",
   "metadata": {},
   "source": [
    "##  Tensorboard\n",
    "### 위 Data를 기준으로 XOR처리를 위한 모델을 만들도록 하겠습니다\n",
    "* 위의 Data를 4Layer의 Neural Network를 통해 학습시킨 후 모델을 생성합니다.\n",
    "* tensorboard --logdir=./logs/ 실행합니다.\n",
    "* summary 값을 logs폴더에 저장하고 아래 명령어로 실행해서 확인한다 (http://0.0.0.0:6006)"
   ]
  },
  {
   "cell_type": "code",
   "execution_count": 5,
   "metadata": {},
   "outputs": [],
   "source": [
    "dataset = tf.data.Dataset.from_tensor_slices((x_data, y_data)).batch(len(x_data))\n",
    "\n",
    "def preprocess_data(features, labels):\n",
    "    features = tf.cast(features, tf.float32)\n",
    "    labels = tf.cast(labels, tf.float32)\n",
    "    return features, labels"
   ]
  },
  {
   "cell_type": "markdown",
   "metadata": {},
   "source": [
    "* summary 값을 logs폴더에 저장하고 아래 명령어로 실행해서 확인한다 (http://0.0.0.0:6006)\n",
    "* tensorboard --logdir=./logs/xor"
   ]
  },
  {
   "cell_type": "code",
   "execution_count": 6,
   "metadata": {},
   "outputs": [],
   "source": [
    "log_path = \"./logs/xor\"\n",
    "writer = tf.summary.create_file_writer(log_path)"
   ]
  },
  {
   "cell_type": "markdown",
   "metadata": {},
   "source": [
    "### Deep Neural Network를 통해 XOR해결 \n",
    "* 위의 Data를 4Layer의 Neural Network를 통해 학습시킨 후 모델을 생성합니다. \n",
    "* 각각의 값을 histogram으로 tensorboard에 저장한다 (Model)\n",
    "* 각각의 값을 scalar값으로 tensorboard에 저장한다 (cost, accuracy)"
   ]
  },
  {
   "cell_type": "code",
   "execution_count": 7,
   "metadata": {},
   "outputs": [],
   "source": [
    "W1 = tf.Variable(tf.random.normal((2, 10)), name='weight1')\n",
    "b1 = tf.Variable(tf.random.normal((10,)), name='bias1')\n",
    "\n",
    "W2 = tf.Variable(tf.random.normal((10, 10)), name='weight2')\n",
    "b2 = tf.Variable(tf.random.normal((10,)), name='bias2')\n",
    "\n",
    "W3 = tf.Variable(tf.random.normal((10, 10)), name='weight3')\n",
    "b3 = tf.Variable(tf.random.normal((10,)), name='bias3')\n",
    "\n",
    "W4 = tf.Variable(tf.random.normal((10, 1)), name='weight4')\n",
    "b4 = tf.Variable(tf.random.normal((1,)), name='bias4')\n",
    "\n",
    "def neural_net(features, step):\n",
    "    layer1 = tf.sigmoid(tf.matmul(features, W1) + b1)\n",
    "    layer2 = tf.sigmoid(tf.matmul(layer1, W2) + b2)\n",
    "    layer3 = tf.sigmoid(tf.matmul(layer2, W3) + b3)\n",
    "    hypothesis = tf.sigmoid(tf.matmul(layer3, W4) + b4)\n",
    "\n",
    "    with writer.as_default():\n",
    "        tf.summary.histogram(\"weights1\", W1, step=step)\n",
    "        tf.summary.histogram(\"biases1\", b1, step=step)\n",
    "        tf.summary.histogram(\"layer1\", layer1, step=step)\n",
    "\n",
    "        tf.summary.histogram(\"weights2\", W2, step=step)\n",
    "        tf.summary.histogram(\"biases2\", b2, step=step)\n",
    "        tf.summary.histogram(\"layer2\", layer2, step=step)\n",
    "\n",
    "        tf.summary.histogram(\"weights3\", W3, step=step)\n",
    "        tf.summary.histogram(\"biases3\", b3, step=step)\n",
    "        tf.summary.histogram(\"layer3\", layer3, step=step)\n",
    "\n",
    "        tf.summary.histogram(\"weights4\", W4, step=step)\n",
    "        tf.summary.histogram(\"biases4\", b4, step=step)\n",
    "        tf.summary.histogram(\"hypothesis\", hypothesis, step=step)\n",
    "    return hypothesis\n",
    "\n",
    "def loss_fn(hypothesis, labels):\n",
    "    cost = -tf.reduce_mean(labels * tf.math.log(hypothesis) + (1 - labels) * tf.math.log(1 - hypothesis))\n",
    "    with writer.as_default():\n",
    "        tf.summary.scalar('loss', cost, step=step)\n",
    "    return cost\n",
    "\n",
    "optimizer = tf.keras.optimizers.SGD(learning_rate=0.1)\n",
    "\n",
    "def accuracy_fn(hypothesis, labels):\n",
    "    predicted = tf.cast(hypothesis > 0.5, dtype=tf.float32)\n",
    "    accuracy = tf.reduce_mean(tf.cast(tf.equal(predicted, labels), dtype=tf.float32))\n",
    "    return accuracy\n",
    "\n",
    "def grad(hypothesis, features, labels, step):\n",
    "    with tf.GradientTape() as tape:\n",
    "        loss_value = loss_fn(neural_net(features, step),labels)\n",
    "    return tape.gradient(loss_value, [W1, W2, W3, W4, b1, b2, b3, b4])"
   ]
  },
  {
   "cell_type": "code",
   "execution_count": 8,
   "metadata": {},
   "outputs": [
    {
     "name": "stdout",
     "output_type": "stream",
     "text": [
      "Iter: 0, Loss: 0.9517\n",
      "Iter: 50, Loss: 0.6936\n",
      "Iter: 100, Loss: 0.6923\n",
      "Iter: 150, Loss: 0.6912\n",
      "Iter: 200, Loss: 0.6901\n",
      "Iter: 250, Loss: 0.6890\n",
      "Iter: 300, Loss: 0.6879\n",
      "Iter: 350, Loss: 0.6867\n",
      "Iter: 400, Loss: 0.6855\n",
      "Iter: 450, Loss: 0.6842\n",
      "Iter: 500, Loss: 0.6827\n",
      "Iter: 550, Loss: 0.6811\n",
      "Iter: 600, Loss: 0.6793\n",
      "Iter: 650, Loss: 0.6772\n",
      "Iter: 700, Loss: 0.6749\n",
      "Iter: 750, Loss: 0.6722\n",
      "Iter: 800, Loss: 0.6690\n",
      "Iter: 850, Loss: 0.6654\n",
      "Iter: 900, Loss: 0.6611\n",
      "Iter: 950, Loss: 0.6561\n",
      "Iter: 1000, Loss: 0.6502\n",
      "Iter: 1050, Loss: 0.6432\n",
      "Iter: 1100, Loss: 0.6349\n",
      "Iter: 1150, Loss: 0.6251\n",
      "Iter: 1200, Loss: 0.6134\n",
      "Iter: 1250, Loss: 0.5992\n",
      "Iter: 1300, Loss: 0.5821\n",
      "Iter: 1350, Loss: 0.5612\n",
      "Iter: 1400, Loss: 0.5357\n",
      "Iter: 1450, Loss: 0.5047\n",
      "Iter: 1500, Loss: 0.4677\n",
      "Iter: 1550, Loss: 0.4248\n",
      "Iter: 1600, Loss: 0.3774\n",
      "Iter: 1650, Loss: 0.3281\n",
      "Iter: 1700, Loss: 0.2798\n",
      "Iter: 1750, Loss: 0.2356\n",
      "Iter: 1800, Loss: 0.1971\n",
      "Iter: 1850, Loss: 0.1649\n",
      "Iter: 1900, Loss: 0.1385\n",
      "Iter: 1950, Loss: 0.1173\n",
      "Iter: 2000, Loss: 0.1003\n",
      "Iter: 2050, Loss: 0.0865\n",
      "Iter: 2100, Loss: 0.0754\n",
      "Iter: 2150, Loss: 0.0663\n",
      "Iter: 2200, Loss: 0.0588\n",
      "Iter: 2250, Loss: 0.0526\n",
      "Iter: 2300, Loss: 0.0474\n",
      "Iter: 2350, Loss: 0.0429\n",
      "Iter: 2400, Loss: 0.0392\n",
      "Iter: 2450, Loss: 0.0359\n",
      "Iter: 2500, Loss: 0.0331\n",
      "Iter: 2550, Loss: 0.0306\n",
      "Iter: 2600, Loss: 0.0285\n",
      "Iter: 2650, Loss: 0.0265\n",
      "Iter: 2700, Loss: 0.0248\n",
      "Iter: 2750, Loss: 0.0233\n",
      "Iter: 2800, Loss: 0.0220\n",
      "Iter: 2850, Loss: 0.0207\n",
      "Iter: 2900, Loss: 0.0196\n",
      "Iter: 2950, Loss: 0.0186\n",
      "Testset Accuracy: 1.0000\n"
     ]
    }
   ],
   "source": [
    "EPOCHS = 3000\n",
    "\n",
    "for step in range(EPOCHS):    \n",
    "    for features, labels  in dataset:\n",
    "        features, labels = preprocess_data(features, labels)\n",
    "        grads = grad(neural_net(features, step), features, labels, step)\n",
    "        optimizer.apply_gradients(grads_and_vars=zip(grads,[W1, W2, W3, W4, b1, b2, b3, b4]))\n",
    "        if step % 50 == 0:\n",
    "            loss_value = loss_fn(neural_net(features, step),labels)\n",
    "            print(\"Iter: {}, Loss: {:.4f}\".format(step, loss_value))\n",
    "x_data, y_data = preprocess_data(x_data, y_data)\n",
    "test_acc = accuracy_fn(neural_net(x_data, step),y_data)\n",
    "print(\"Testset Accuracy: {:.4f}\".format(test_acc))"
   ]
  },
  {
   "cell_type": "markdown",
   "metadata": {},
   "source": [
    "## (Optional) Jupyter Notebook에서 Tensorboard 실행하기"
   ]
  },
  {
   "cell_type": "code",
   "execution_count": 7,
   "metadata": {},
   "outputs": [],
   "source": [
    "# Load the TensorBoard notebook extension\n",
    "%load_ext tensorboard"
   ]
  },
  {
   "cell_type": "code",
   "execution_count": 10,
   "metadata": {},
   "outputs": [
    {
     "data": {
      "text/plain": [
       "Reusing TensorBoard on port 6006 (pid 23072), started 0:01:00 ago. (Use '!kill 23072' to kill it.)"
      ]
     },
     "metadata": {},
     "output_type": "display_data"
    },
    {
     "data": {
      "text/html": [
       "\n",
       "      <iframe id=\"tensorboard-frame-8234f9f598ea7c9d\" width=\"100%\" height=\"800\" frameborder=\"0\">\n",
       "      </iframe>\n",
       "      <script>\n",
       "        (function() {\n",
       "          const frame = document.getElementById(\"tensorboard-frame-8234f9f598ea7c9d\");\n",
       "          const url = new URL(\"/\", window.location);\n",
       "          url.port = 6006;\n",
       "          frame.src = url;\n",
       "        })();\n",
       "      </script>\n",
       "  "
      ],
      "text/plain": [
       "<IPython.core.display.HTML object>"
      ]
     },
     "metadata": {},
     "output_type": "display_data"
    }
   ],
   "source": [
    "'''Start TensorBoard through the command line or within a notebook experience. \n",
    "The two interfaces are generally the same. In notebooks, use the %tensorboard line magic. \n",
    "On the command line, run the same command without \"%\".'''\n",
    "\n",
    "%tensorboard --logdir logs/xor"
   ]
  },
  {
   "cell_type": "code",
   "execution_count": null,
   "metadata": {},
   "outputs": [],
   "source": []
  }
 ],
 "metadata": {
  "kernelspec": {
   "display_name": "Python 3",
   "language": "python",
   "name": "python3"
  },
  "language_info": {
   "codemirror_mode": {
    "name": "ipython",
    "version": 3
   },
   "file_extension": ".py",
   "mimetype": "text/x-python",
   "name": "python",
   "nbconvert_exporter": "python",
   "pygments_lexer": "ipython3",
   "version": "3.6.10"
  }
 },
 "nbformat": 4,
 "nbformat_minor": 4
}
