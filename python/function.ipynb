{
 "cells": [
  {
   "cell_type": "markdown",
   "metadata": {},
   "source": [
    "### return\n",
    "- 기본적으로 함수의 종료를 명시\n",
    "- return 옆에 값이나 수식이 있다면 해당 값을 반환\n",
    "- return 만 존재하면 None을 반환 (return이 없는 경우 코드 블록이 종료되면 종료로 간주하고 None을 반환)\n",
    "- mutiple return: tuple을 반환하여 복수개의 값을 반환\n",
    "\n",
    "~~~python\n",
    "def add_mul(x,y):\n",
    "    return x+y, x*y\n",
    "~~~\n",
    "\n",
    "### 변수의 범위\n",
    "- 코드 블록에서 선언된 변수는 지역변수 (local variable). 코드 블록이 종료되면 소멸됨\n",
    "- 가장 상단에서 정의되어 프로그램 종료 전까지 유지되는 변수는 전역변수 (global variable)\n",
    "- 같은 이름인 경우 지역변수가 우선"
   ]
  },
  {
   "cell_type": "markdown",
   "metadata": {},
   "source": [
    "### 가변 길이 인자 (variable length argument)\n",
    "- 전달되는 파라미터의 개수가 동적임\n",
    "- ex) print함수 / format함수\n",
    "- *args: 파라미터를 tuple의 형태로 전달\n",
    "- **kwargs: 파라미터를 딕셔너리 형태로 전달 (key, value 함께 전달)"
   ]
  },
  {
   "cell_type": "code",
   "execution_count": 3,
   "metadata": {},
   "outputs": [
    {
     "name": "stdout",
     "output_type": "stream",
     "text": [
      "<class 'tuple'>\n",
      "1\n",
      "2\n",
      "3\n"
     ]
    }
   ],
   "source": [
    "# 가변 길이 인자를 갖는 함수 선언\n",
    "def test(*args):            # arguments\n",
    "    print(type(args))       # tuple\n",
    "    for item in args:\n",
    "        print(item)\n",
    "        \n",
    "test(1,2,3)"
   ]
  },
  {
   "cell_type": "code",
   "execution_count": 9,
   "metadata": {},
   "outputs": [
    {
     "name": "stdout",
     "output_type": "stream",
     "text": [
      "<class 'dict'>\n",
      "a : 1\n",
      "b : 2\n",
      "name : Bob\n"
     ]
    }
   ],
   "source": [
    "# keyword parameter\n",
    "def test2(**kwargs):       #keyword arguments\n",
    "    print(type(kwargs))\n",
    "    for key, value in kwargs.items():\n",
    "        print(key, ':',value)\n",
    "\n",
    "test2(a=1, b=2, name='Bob')"
   ]
  },
  {
   "cell_type": "markdown",
   "metadata": {},
   "source": [
    "### 문자열 format 함수\n",
    "- 여러가지 값과 포맷을 이용하여 문자열 정의\n",
    "- format 함수의 인자값이 {} placeholder로 전달됨 ({}의 이름을 명시하지 않으면 순서대로 전달)"
   ]
  },
  {
   "cell_type": "code",
   "execution_count": 13,
   "metadata": {},
   "outputs": [
    {
     "name": "stdout",
     "output_type": "stream",
     "text": [
      "오늘 온도: 30도, 강수확률: 80%\n"
     ]
    }
   ],
   "source": [
    "String = '오늘 온도: {a}도, 강수확률: {b}%'.format(b=80, a=30)\n",
    "print(String)"
   ]
  },
  {
   "cell_type": "markdown",
   "metadata": {},
   "source": [
    "### Lambda 함수\n",
    "- 단일문으로 표현되는 익명함수. 1회성으로 만들어서 쓸 때 사용\n",
    "- :을 사이에 두고, 왼쪽에 입력값, 오른쪽에 출력값이 옴"
   ]
  },
  {
   "cell_type": "code",
   "execution_count": 15,
   "metadata": {},
   "outputs": [
    {
     "data": {
      "text/plain": [
       "25"
      ]
     },
     "execution_count": 15,
     "metadata": {},
     "output_type": "execute_result"
    }
   ],
   "source": [
    "square = lambda x:x**2 \n",
    "square(5)"
   ]
  },
  {
   "cell_type": "code",
   "execution_count": 18,
   "metadata": {},
   "outputs": [
    {
     "name": "stdout",
     "output_type": "stream",
     "text": [
      "['aaaaa', 'bbb', 'dddd', 'tt', 'z']\n",
      "['z', 'tt', 'bbb', 'dddd', 'aaaaa']\n"
     ]
    }
   ],
   "source": [
    "strings = ['z', 'tt', 'bbb', 'dddd', 'aaaaa']\n",
    "strings.sort()\n",
    "print(strings)\n",
    "strings.sort(key=lambda s:len(s))          # key에 sorting의 기준이 되는 함수를 넣음\n",
    "print(strings)"
   ]
  },
  {
   "cell_type": "markdown",
   "metadata": {},
   "source": [
    "#### filter, map, reduce\n",
    "- lambda 함수가 자주 쓰이는 세 함수. 함수형 프로그래밍의 기본\n",
    "- filter: 조건을 만족하는 요소만 남김. 함수를 만족하는 요소만 리스트에 추가. filter(함수, 리스트) 형태\n",
    "- map: 각 원소를 주어진 함수에 따라 변형하여 새로운 리스트를 반환. map(함수, 리스트) 형태\n",
    "- reduce: 차례대로 앞 2개의 원소를 가지고 연산. 연산의 결과가 다음 연산의 입력이 됨. 결국 하나의 값만 남김"
   ]
  },
  {
   "cell_type": "code",
   "execution_count": 21,
   "metadata": {},
   "outputs": [
    {
     "data": {
      "text/plain": [
       "[2, 4, 6, 8]"
      ]
     },
     "execution_count": 21,
     "metadata": {},
     "output_type": "execute_result"
    }
   ],
   "source": [
    " # filter 예시: 짝수만 남김\n",
    "nums = [1,2,3,4,6,8,9]\n",
    "list(filter(lambda n:n%2==0, nums))       "
   ]
  },
  {
   "cell_type": "code",
   "execution_count": 22,
   "metadata": {},
   "outputs": [
    {
     "data": {
      "text/plain": [
       "[1, 4, 9, 16, 25, 36, 49, 64]"
      ]
     },
     "execution_count": 22,
     "metadata": {},
     "output_type": "execute_result"
    }
   ],
   "source": [
    "# map 예시: 각 숫자를 제곱한 숫자로 새로운 리스트 반환\n",
    "nums = [1,2,3,4,5,6,7,8]\n",
    "list(map(lambda n:n**2, nums))"
   ]
  },
  {
   "cell_type": "code",
   "execution_count": 24,
   "metadata": {},
   "outputs": [
    {
     "data": {
      "text/plain": [
       "17"
      ]
     },
     "execution_count": 24,
     "metadata": {},
     "output_type": "execute_result"
    }
   ],
   "source": [
    "# reduce 예시: 리스트 내의 모든 수의 합 반환\n",
    "import functools     # python3부터는 reduce 함수가 functools에 포함됨\n",
    "a= [1,3,5,8]\n",
    "functools.reduce(lambda x,y:x+y,a)"
   ]
  },
  {
   "cell_type": "code",
   "execution_count": 39,
   "metadata": {},
   "outputs": [
    {
     "data": {
      "text/plain": [
       "3.0"
      ]
     },
     "execution_count": 39,
     "metadata": {},
     "output_type": "execute_result"
    }
   ],
   "source": [
    "# 연습문제 1: 리스트 내 숫자들의 평균 구하기\n",
    "def mean(nums):\n",
    "    return sum(nums)/len(nums)        # 내장함수 sum 사용\n",
    "mean([1,2,3,4,5])"
   ]
  },
  {
   "cell_type": "code",
   "execution_count": 50,
   "metadata": {},
   "outputs": [
    {
     "name": "stdout",
     "output_type": "stream",
     "text": [
      "True\n",
      "False\n"
     ]
    }
   ],
   "source": [
    "# 연습문제 2: 소수인지 판별하는 함수 구현\n",
    "\n",
    "def is_prime(n):\n",
    "    for i in range(2,n):\n",
    "        if n%i == 0:\n",
    "            return False\n",
    "    return True\n",
    "\n",
    "print(is_prime(17))\n",
    "print(is_prime(4))"
   ]
  },
  {
   "cell_type": "code",
   "execution_count": 51,
   "metadata": {},
   "outputs": [
    {
     "data": {
      "text/plain": [
       "4"
      ]
     },
     "execution_count": 51,
     "metadata": {},
     "output_type": "execute_result"
    }
   ],
   "source": [
    "# 연습문제 3: 2부터 해당 숫자 사이에 소수가 몇개인지 출력하는 함수 구현\n",
    "# 입력: 해당 숫자, 출력: 개수\n",
    "\n",
    "def count_primes(n):\n",
    "    count = 0\n",
    "    for i in range(2,n+1):\n",
    "        if is_prime(i):\n",
    "            count += 1\n",
    "    return count\n",
    "\n",
    "count_primes(10)"
   ]
  }
 ],
 "metadata": {
  "kernelspec": {
   "display_name": "Python 3",
   "language": "python",
   "name": "python3"
  },
  "language_info": {
   "codemirror_mode": {
    "name": "ipython",
    "version": 3
   },
   "file_extension": ".py",
   "mimetype": "text/x-python",
   "name": "python",
   "nbconvert_exporter": "python",
   "pygments_lexer": "ipython3",
   "version": "3.6.10"
  }
 },
 "nbformat": 4,
 "nbformat_minor": 4
}
