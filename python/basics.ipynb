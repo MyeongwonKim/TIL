{
 "cells": [
  {
   "cell_type": "markdown",
   "metadata": {},
   "source": [
    "### 1. 변수: 데이터를 저장하는 공간\n",
    "저장공간(memory)에 값을 생성하고 이름(name)을 지정. = 를 사용.\n",
    "\n",
    "*함수: 특정 기능을 반복적으로 호출하여 사용가능한 코드블럭\n",
    "\n",
    "shift + tap : 함수에 대한 Docstring 제공\n",
    "\n",
    "type() : 변수의 type을 return\n",
    "\n",
    "c = None  ==> 초기화시 값을 정하지 않을 때 사용 (null과 같음)\n",
    "\n",
    "a ** b = a^b\n",
    "\n",
    "### 2. 문자열\n",
    "'' 또는 \"\"로 생성\n",
    "''' ''' 를 사용할 경우 문자열 내에 줄띄움 가능\n",
    "\n",
    "~~~python\n",
    "a = 'Hello World'\n",
    "print(a[10])      # d\n",
    "print(a[0:5])     # Hello\n",
    "\n",
    "a.upper()            # HELLO WORLD\n",
    "a.replace('H', 'j')  # jello World\n",
    "~~~"
   ]
  },
  {
   "cell_type": "code",
   "execution_count": 4,
   "metadata": {},
   "outputs": [
    {
     "data": {
      "text/plain": [
       "'오늘 기온은 25.5도 이고, 비올 확률은 80.0% 입니다.'"
      ]
     },
     "execution_count": 4,
     "metadata": {},
     "output_type": "execute_result"
    }
   ],
   "source": [
    "# format 함수 : 문자열 내의 특정 값을 변수로부터 초기화하여 동적으로 문자열을 생성\n",
    "temp = 25.5\n",
    "prob = 80.0\n",
    "\n",
    "a = '오늘 기온은 {}도 이고, 비올 확률은 {}% 입니다.' .format(temp, prob)\n",
    "a"
   ]
  },
  {
   "cell_type": "code",
   "execution_count": 2,
   "metadata": {
    "scrolled": true
   },
   "outputs": [
    {
     "data": {
      "text/plain": [
       "['hello', 'world.', 'What', 'a', 'nice', 'weather!']"
      ]
     },
     "execution_count": 2,
     "metadata": {},
     "output_type": "execute_result"
    }
   ],
   "source": [
    "# split 함수 : 특정한 문자 구분을 기준으로 문자열을 리스트로 치환\n",
    "a = 'hello world. What a nice weather!'\n",
    "a.split()"
   ]
  },
  {
   "cell_type": "markdown",
   "metadata": {},
   "source": [
    "### 우선순위\n",
    "- NOT > AND > OR"
   ]
  },
  {
   "cell_type": "code",
   "execution_count": 2,
   "metadata": {},
   "outputs": [],
   "source": [
    "a = 10\n",
    "b = 8\n",
    "c = 11"
   ]
  },
  {
   "cell_type": "code",
   "execution_count": 3,
   "metadata": {},
   "outputs": [
    {
     "name": "stdout",
     "output_type": "stream",
     "text": [
      "that is true\n"
     ]
    }
   ],
   "source": [
    "if a == 10 or b == 9 and c == 12:\n",
    "    print('that is true')"
   ]
  },
  {
   "cell_type": "code",
   "execution_count": 4,
   "metadata": {},
   "outputs": [],
   "source": [
    "if (a == 10 or b == 9) and c == 12:\n",
    "    print('that is true')"
   ]
  },
  {
   "cell_type": "markdown",
   "metadata": {},
   "source": [
    "### if의 조건이 bool이 아닌 경우\n",
    "- False로 간주되는 값 (각 타입의 기본값)\n",
    " - None, 0, 0.0, ''\n",
    " - [], (), {}, set()\n",
    "- 그 밖에는 모두 True로 간주"
   ]
  },
  {
   "cell_type": "code",
   "execution_count": null,
   "metadata": {},
   "outputs": [],
   "source": [
    "# ! ~ 100까지 더하기\n",
    "num = 1\n",
    "_sum = 0\n",
    "\n",
    "while num <= 100:\n",
    "    _sum += num\n",
    "    num += 1\n",
    "    \n",
    "print(_sum)"
   ]
  },
  {
   "cell_type": "code",
   "execution_count": 1,
   "metadata": {
    "scrolled": true
   },
   "outputs": [
    {
     "name": "stdout",
     "output_type": "stream",
     "text": [
      "a 1\n",
      "b 2\n",
      "c 3\n"
     ]
    }
   ],
   "source": [
    "# dict 순회하기\n",
    "a = {'a':1, 'b':2, 'c':3}\n",
    "\n",
    "for key in a:\n",
    "    print(key, a[key])"
   ]
  },
  {
   "cell_type": "code",
   "execution_count": 2,
   "metadata": {},
   "outputs": [
    {
     "name": "stdout",
     "output_type": "stream",
     "text": [
      "a 1\n",
      "b 2\n",
      "c 3\n"
     ]
    }
   ],
   "source": [
    "# tuple을 이용해서 key, value 출력\n",
    "# items() : (key, value) 형태의 tuple들을 출력 \n",
    "for key, value in a.items():\n",
    "    print(key, value)"
   ]
  },
  {
   "cell_type": "markdown",
   "metadata": {},
   "source": [
    "#### range 함수\n",
    "- 리스트를 쉽게 만들게 하는 내장함수\n",
    "- 물론 리스트화 하려면 list(range(a))와 같이 써야함\n",
    "\n",
    "~~~python\n",
    "range(a)        # 0 ~ a-1까지의 리스트\n",
    "range(a, b)     # a ~ b-1까지의 리스트\n",
    "range(a, b, c)  # a ~ b-1까지를 c의 interval로 리스트화\n",
    "~~~"
   ]
  },
  {
   "cell_type": "code",
   "execution_count": null,
   "metadata": {},
   "outputs": [],
   "source": [
    "# 구구단 출력\n",
    "for i in range(2,10):\n",
    "    for dan in range(1, 10):\n",
    "        print(i, 'x', dan, '=', i*dan)"
   ]
  }
 ],
 "metadata": {
  "kernelspec": {
   "display_name": "Python 3",
   "language": "python",
   "name": "python3"
  },
  "language_info": {
   "codemirror_mode": {
    "name": "ipython",
    "version": 3
   },
   "file_extension": ".py",
   "mimetype": "text/x-python",
   "name": "python",
   "nbconvert_exporter": "python",
   "pygments_lexer": "ipython3",
   "version": "3.6.10"
  }
 },
 "nbformat": 4,
 "nbformat_minor": 4
}
