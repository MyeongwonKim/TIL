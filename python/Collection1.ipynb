{
 "cells": [
  {
   "cell_type": "markdown",
   "metadata": {},
   "source": [
    "### list & tuple\n",
    "\n",
    "list - mutable\n",
    "\n",
    "tuple - immutable       ==> 요소의 값을 바꿀 수 없음\n",
    "\n",
    "cf) string - **immutable**   \n",
    "\n",
    "~~~python\n",
    "a = 'Hello' \n",
    "a[0] = 'j'               # error\n",
    "d = a.replace('H','j')   # 가능\n",
    "print(a)                 # Hello\n",
    "~~~\n",
    "\n",
    "\n",
    "list : 다른 type의 변수도 함께 담을 수 있음"
   ]
  },
  {
   "cell_type": "code",
   "execution_count": 2,
   "metadata": {},
   "outputs": [
    {
     "name": "stdout",
     "output_type": "stream",
     "text": [
      "['h', 'e', 'l', 'l', 'o', ' ', 'w', 'o', 'r', 'l', 'd']\n"
     ]
    }
   ],
   "source": [
    "# list() 함수 : 다른 데이터 타입을 리스트로 변환\n",
    "a = 'hello world'\n",
    "b = list(a)\n",
    "print(b)"
   ]
  },
  {
   "cell_type": "code",
   "execution_count": 4,
   "metadata": {},
   "outputs": [
    {
     "name": "stdout",
     "output_type": "stream",
     "text": [
      "[4, 5]\n",
      "[2, 3, 4, 5, 6, 7, 8]\n",
      "[2, 4, 6]\n"
     ]
    }
   ],
   "source": [
    "# list slicing\n",
    "# start:end:increment(1)\n",
    "a = [1,2,3,4,5,6,7,8]\n",
    "print(a[3:5])\n",
    "print(a[1:])\n",
    "print(a[1:7:2])"
   ]
  },
  {
   "cell_type": "code",
   "execution_count": 14,
   "metadata": {},
   "outputs": [
    {
     "name": "stdout",
     "output_type": "stream",
     "text": [
      "[1, 2, 3, 4, 5, 10]\n",
      "[1, 2, 3, 4, 5, 10, 6, 7, 8, 9, 10]\n",
      "[40, 1, 2, 3, 4, 5, 10, 6, 7, 8, 9, 10]\n",
      "[40, 1, 3, 4, 5, 10, 6, 7, 8, 9, 10]\n",
      "[40, 1, 4, 5, 10, 6, 7, 8, 9, 10]\n",
      "3\n"
     ]
    }
   ],
   "source": [
    "# list 멤버 함수\n",
    "a = [1,2,3,4,5]\n",
    "a.append(10)\n",
    "print(a)\n",
    "\n",
    "b = [6,7,8,9,10]\n",
    "\n",
    "# a.extend(b)\n",
    "a += b\n",
    "print(a)\n",
    "\n",
    "a.insert(0,40)\n",
    "print(a)\n",
    "\n",
    "a.remove(2)\n",
    "print(a)\n",
    "\n",
    "c= a.pop(2)      # 값이 없을 경우 마지막 것 지움. 값을 넣으면 인덱스로 지움. 반환값 있음\n",
    "print(a)\n",
    "print(c)"
   ]
  },
  {
   "cell_type": "code",
   "execution_count": 16,
   "metadata": {
    "scrolled": true
   },
   "outputs": [
    {
     "name": "stdout",
     "output_type": "stream",
     "text": [
      "False\n",
      "[0, 1, 3, 3, 7, 7, 12, 62, 91, 245, 293, 6545]\n"
     ]
    }
   ],
   "source": [
    "# in\n",
    "a = [1,2,3,4,5,10]\n",
    "b = 7\n",
    "\n",
    "c = b in a  \n",
    "print(c)\n",
    "\n",
    "# 정렬\n",
    "d = [3,7,1,3,7,0,293,62,6545,245,12,91]\n",
    "d.sort()        #reverse=True 라고 할 경우 역정렬\n",
    "\n",
    "print(d)\n",
    "\n",
    "# sorted() : 정렬된 list를 반환. 원 정렬은 변하지 않음"
   ]
  },
  {
   "cell_type": "code",
   "execution_count": 5,
   "metadata": {},
   "outputs": [
    {
     "name": "stdout",
     "output_type": "stream",
     "text": [
      "100 200 300\n"
     ]
    }
   ],
   "source": [
    "# Tuple unpacking : 값을 차례대로 변수에 대입\n",
    "a, b, c= 100, 200, 300\n",
    "print(a, b, c)"
   ]
  },
  {
   "cell_type": "code",
   "execution_count": 8,
   "metadata": {
    "scrolled": true
   },
   "outputs": [
    {
     "name": "stdout",
     "output_type": "stream",
     "text": [
      "5 4\n",
      "4 5\n"
     ]
    }
   ],
   "source": [
    "a = 5\n",
    "b = 4\n",
    "print(a,b)\n",
    "\n",
    "a, b = b, a\n",
    "print(a,b)"
   ]
  },
  {
   "cell_type": "markdown",
   "metadata": {},
   "source": [
    "### dictionary\n",
    "- 키:값 형태로 요소 저장\n",
    "- hashMap과 같음\n",
    "- 순서를 따지지 않음. 즉, 인덱스가 없음\n",
    "- 사용빈도 높음\n",
    "\n",
    "### set\n",
    "- dictionary에서 key만 활용하는 데이터 구조로 이해\n",
    "- 중복 허용 X, 순서 없음\n",
    "- 수학에서 집합의 개념과 동일"
   ]
  },
  {
   "cell_type": "code",
   "execution_count": 2,
   "metadata": {},
   "outputs": [
    {
     "name": "stdout",
     "output_type": "stream",
     "text": [
      "{'a': 2, 'b': 2, 'c': 3, 'd': 4, 'e': 5}\n"
     ]
    }
   ],
   "source": [
    "# update() : 두 개의 dict를 병합\n",
    "\n",
    "a = {'a':1, 'b':2, 'c':3}\n",
    "b = {'a':2, 'd':4, 'e':5}\n",
    "\n",
    "a.update(b)\n",
    "\n",
    "print(a)"
   ]
  },
  {
   "cell_type": "code",
   "execution_count": 4,
   "metadata": {},
   "outputs": [
    {
     "name": "stdout",
     "output_type": "stream",
     "text": [
      "{'a': 1, 'b': 2, 'c': 3}\n",
      "{'a': 1, 'c': 3}\n",
      "{'a': 1}\n"
     ]
    }
   ],
   "source": [
    "# del 키워드 / pop() 함수\n",
    "\n",
    "a = {'a':1, 'b':2, 'c':3}\n",
    "print(a)\n",
    "\n",
    "a.pop('b')\n",
    "print(a)\n",
    "\n",
    "del a['c']\n",
    "print(a)"
   ]
  },
  {
   "cell_type": "code",
   "execution_count": 5,
   "metadata": {},
   "outputs": [
    {
     "name": "stdout",
     "output_type": "stream",
     "text": [
      "{'a': 1, 'b': 2, 'c': 3}\n",
      "{}\n"
     ]
    }
   ],
   "source": [
    "# clear()\n",
    "a = {'a':1, 'b':2, 'c':3}\n",
    "print(a)\n",
    "a.clear()\n",
    "print(a)"
   ]
  },
  {
   "cell_type": "code",
   "execution_count": 10,
   "metadata": {},
   "outputs": [
    {
     "name": "stdout",
     "output_type": "stream",
     "text": [
      "{'a': 1, 'b': 2, 'c': 3}\n",
      "True\n",
      "True\n"
     ]
    }
   ],
   "source": [
    "# in\n",
    "a = {'a':1, 'b':2, 'c':3}\n",
    "print(a)\n",
    "\n",
    "b = [1,2,3,4,5,6,9,10,100]\n",
    "\n",
    "print(100 in b)      # O(n)\n",
    "print('b' in a)      # O(1)"
   ]
  },
  {
   "cell_type": "code",
   "execution_count": 12,
   "metadata": {},
   "outputs": [
    {
     "name": "stdout",
     "output_type": "stream",
     "text": [
      "None\n"
     ]
    }
   ],
   "source": [
    "# get() ==> 키 값이 없을 경우 none을 반환\n",
    "print(a.get('d'))\n",
    "\n",
    "#print(a['d'] ==> 키 값이 없을 경우 에러"
   ]
  },
  {
   "cell_type": "code",
   "execution_count": 20,
   "metadata": {},
   "outputs": [
    {
     "name": "stdout",
     "output_type": "stream",
     "text": [
      "{'a': 1, 'b': 2, 'c': 3}\n",
      "['a', 'b', 'c']\n",
      "[1, 2, 3]\n"
     ]
    },
    {
     "data": {
      "text/plain": [
       "[('a', 1), ('b', 2), ('c', 3)]"
      ]
     },
     "execution_count": 20,
     "metadata": {},
     "output_type": "execute_result"
    }
   ],
   "source": [
    "# 모든 keys, values 접근\n",
    "print(a)\n",
    "print(list(a.keys()))\n",
    "print(list(a.values()))\n",
    "\n",
    "list(a.items())     # key, value 형태의 tuple들을 반환"
   ]
  },
  {
   "cell_type": "code",
   "execution_count": 22,
   "metadata": {},
   "outputs": [],
   "source": [
    "#set 선언\n",
    "a = {1,2,3,4,5,6,7}\n",
    "\n",
    "#빈 set 생성\n",
    "b = set()"
   ]
  },
  {
   "cell_type": "code",
   "execution_count": 25,
   "metadata": {},
   "outputs": [
    {
     "name": "stdout",
     "output_type": "stream",
     "text": [
      "[1, 2, 3, 3, 3, 4, 56, 67, 78]\n",
      "{1, 2, 3, 4, 67, 78, 56}\n"
     ]
    }
   ],
   "source": [
    "# list -> set\n",
    "a = [1,2,3,3,3,4,56,67,78]\n",
    "print(a)\n",
    "b = set(a)\n",
    "print(b)"
   ]
  },
  {
   "cell_type": "code",
   "execution_count": 28,
   "metadata": {
    "scrolled": true
   },
   "outputs": [
    {
     "name": "stdout",
     "output_type": "stream",
     "text": [
      "{1, 2, 3, 4}\n",
      "{2, 3}\n",
      "{1}\n",
      "False\n"
     ]
    }
   ],
   "source": [
    "# set에서 수학의 연산 수행\n",
    "a = {1,2,3}\n",
    "b = {2,3,4}\n",
    "\n",
    "print(a.union(b))  # 합집합\n",
    "print(a.intersection(b))  # 교집합\n",
    "print(a.difference(b))  # 차집합\n",
    "print(a.issubset(b))  # 부분집합?"
   ]
  },
  {
   "cell_type": "markdown",
   "metadata": {},
   "source": [
    "### dictionary\n",
    "- 키:값 형태로 요소 저장\n",
    "- hashMap과 같음\n",
    "- 순서를 따지지 않음. 즉, 인덱스가 없음\n",
    "- 사용빈도 높음\n",
    "\n",
    "### set\n",
    "- dictionary에서 key만 활용하는 데이터 구조로 이해\n",
    "- 중복 허용 X, 순서 없음\n",
    "- 수학에서 집합의 개념과 동일"
   ]
  },
  {
   "cell_type": "code",
   "execution_count": 2,
   "metadata": {},
   "outputs": [
    {
     "name": "stdout",
     "output_type": "stream",
     "text": [
      "{'a': 2, 'b': 2, 'c': 3, 'd': 4, 'e': 5}\n"
     ]
    }
   ],
   "source": [
    "# update() : 두 개의 dict를 병합\n",
    "\n",
    "a = {'a':1, 'b':2, 'c':3}\n",
    "b = {'a':2, 'd':4, 'e':5}\n",
    "\n",
    "a.update(b)\n",
    "\n",
    "print(a)"
   ]
  },
  {
   "cell_type": "code",
   "execution_count": 4,
   "metadata": {},
   "outputs": [
    {
     "name": "stdout",
     "output_type": "stream",
     "text": [
      "{'a': 1, 'b': 2, 'c': 3}\n",
      "{'a': 1, 'c': 3}\n",
      "{'a': 1}\n"
     ]
    }
   ],
   "source": [
    "# del 키워드 / pop() 함수\n",
    "\n",
    "a = {'a':1, 'b':2, 'c':3}\n",
    "print(a)\n",
    "\n",
    "a.pop('b')\n",
    "print(a)\n",
    "\n",
    "del a['c']\n",
    "print(a)"
   ]
  },
  {
   "cell_type": "code",
   "execution_count": 5,
   "metadata": {},
   "outputs": [
    {
     "name": "stdout",
     "output_type": "stream",
     "text": [
      "{'a': 1, 'b': 2, 'c': 3}\n",
      "{}\n"
     ]
    }
   ],
   "source": [
    "# clear()\n",
    "a = {'a':1, 'b':2, 'c':3}\n",
    "print(a)\n",
    "a.clear()\n",
    "print(a)"
   ]
  },
  {
   "cell_type": "code",
   "execution_count": 10,
   "metadata": {},
   "outputs": [
    {
     "name": "stdout",
     "output_type": "stream",
     "text": [
      "{'a': 1, 'b': 2, 'c': 3}\n",
      "True\n",
      "True\n"
     ]
    }
   ],
   "source": [
    "# in\n",
    "a = {'a':1, 'b':2, 'c':3}\n",
    "print(a)\n",
    "\n",
    "b = [1,2,3,4,5,6,9,10,100]\n",
    "\n",
    "print(100 in b)      # O(n)\n",
    "print('b' in a)      # O(1)"
   ]
  },
  {
   "cell_type": "code",
   "execution_count": 12,
   "metadata": {},
   "outputs": [
    {
     "name": "stdout",
     "output_type": "stream",
     "text": [
      "None\n"
     ]
    }
   ],
   "source": [
    "# get() ==> 키 값이 없을 경우 none을 반환\n",
    "print(a.get('d'))\n",
    "\n",
    "#print(a['d'] ==> 키 값이 없을 경우 에러"
   ]
  },
  {
   "cell_type": "code",
   "execution_count": 20,
   "metadata": {},
   "outputs": [
    {
     "name": "stdout",
     "output_type": "stream",
     "text": [
      "{'a': 1, 'b': 2, 'c': 3}\n",
      "['a', 'b', 'c']\n",
      "[1, 2, 3]\n"
     ]
    },
    {
     "data": {
      "text/plain": [
       "[('a', 1), ('b', 2), ('c', 3)]"
      ]
     },
     "execution_count": 20,
     "metadata": {},
     "output_type": "execute_result"
    }
   ],
   "source": [
    "# 모든 keys, values 접근\n",
    "print(a)\n",
    "print(list(a.keys()))\n",
    "print(list(a.values()))\n",
    "\n",
    "list(a.items())     # key, value 형태의 tuple들을 반환"
   ]
  },
  {
   "cell_type": "code",
   "execution_count": 22,
   "metadata": {},
   "outputs": [],
   "source": [
    "#set 선언\n",
    "a = {1,2,3,4,5,6,7}\n",
    "\n",
    "#빈 set 생성\n",
    "b = set()"
   ]
  },
  {
   "cell_type": "code",
   "execution_count": 25,
   "metadata": {},
   "outputs": [
    {
     "name": "stdout",
     "output_type": "stream",
     "text": [
      "[1, 2, 3, 3, 3, 4, 56, 67, 78]\n",
      "{1, 2, 3, 4, 67, 78, 56}\n"
     ]
    }
   ],
   "source": [
    "# list -> set\n",
    "a = [1,2,3,3,3,4,56,67,78]\n",
    "print(a)\n",
    "b = set(a)\n",
    "print(b)"
   ]
  },
  {
   "cell_type": "code",
   "execution_count": 28,
   "metadata": {},
   "outputs": [
    {
     "name": "stdout",
     "output_type": "stream",
     "text": [
      "{1, 2, 3, 4}\n",
      "{2, 3}\n",
      "{1}\n",
      "False\n"
     ]
    }
   ],
   "source": [
    "# set에서 수학의 연산 수행\n",
    "a = {1,2,3}\n",
    "b = {2,3,4}\n",
    "\n",
    "print(a.union(b))  # 합집합\n",
    "print(a.intersection(b))  # 교집합\n",
    "print(a.difference(b))  # 차집합\n",
    "print(a.issubset(b))  # 부분집합?"
   ]
  }
 ],
 "metadata": {
  "kernelspec": {
   "display_name": "Python 3",
   "language": "python",
   "name": "python3"
  },
  "language_info": {
   "codemirror_mode": {
    "name": "ipython",
    "version": 3
   },
   "file_extension": ".py",
   "mimetype": "text/x-python",
   "name": "python",
   "nbconvert_exporter": "python",
   "pygments_lexer": "ipython3",
   "version": "3.6.10"
  }
 },
 "nbformat": 4,
 "nbformat_minor": 4
}
