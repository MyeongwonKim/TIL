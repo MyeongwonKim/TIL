{
 "cells": [
  {
   "cell_type": "markdown",
   "metadata": {},
   "source": [
    "### 상하좌우"
   ]
  },
  {
   "cell_type": "code",
   "execution_count": 4,
   "metadata": {},
   "outputs": [
    {
     "name": "stdout",
     "output_type": "stream",
     "text": [
      "5\n",
      "R R R U D D\n",
      "3 4\n"
     ]
    }
   ],
   "source": [
    "n = int(input())\n",
    "direction = input().split()\n",
    "\n",
    "x, y = 1, 1\n",
    "\n",
    "for step in direction:\n",
    "    dx, dy = 0, 0\n",
    "    if step == 'L':\n",
    "        dy = -1\n",
    "    elif step == 'R':\n",
    "        dy = 1\n",
    "    elif step == 'U':\n",
    "        dx = -1\n",
    "    elif step == 'D':\n",
    "        dx = 1\n",
    "    if x + dx < 1 or y + dy < 1 or x + dx > n or y + dy > n:\n",
    "        continue\n",
    "    x, y = x + dx, y + dy\n",
    "print(x, y)"
   ]
  },
  {
   "cell_type": "markdown",
   "metadata": {},
   "source": [
    "### 시각\n",
    "- 정수 N(0~23)에 대해, 0시 0분 0초부터 N시 59분 59초 까지 3이 하나라도 포함되는 모든 경우의 수의 개수를 출력"
   ]
  },
  {
   "cell_type": "code",
   "execution_count": 5,
   "metadata": {},
   "outputs": [
    {
     "name": "stdout",
     "output_type": "stream",
     "text": [
      "5\n",
      "11475\n"
     ]
    }
   ],
   "source": [
    "n = int(input())\n",
    "\n",
    "count = 0\n",
    "\n",
    "for i in range(n+1):\n",
    "    for j in range(60):\n",
    "        for k in range(60):\n",
    "            if '3' in str(i)+str(j)+str(k):\n",
    "                count += 1\n",
    "print(count)"
   ]
  },
  {
   "cell_type": "markdown",
   "metadata": {},
   "source": [
    "### [백준] 윷놀이\n",
    "- 배(0), 등(1)의 조합이 주어졌을 때, 이에 맞는 도개걸윷모를 출력하시오."
   ]
  },
  {
   "cell_type": "code",
   "execution_count": null,
   "metadata": {},
   "outputs": [],
   "source": [
    "# 세 번의 입력\n",
    "# 각각의 입력에 대해 계산해야함\n",
    "# 0의 개수로 판단\n",
    "\n",
    "result = ['E','A','B','C','D']\n",
    "\n",
    "for i in range(3):\n",
    "  data = list(map(int, input().split()))\n",
    "  \n",
    "  num = data.count(0)\n",
    "  print(result[num])  "
   ]
  },
  {
   "cell_type": "markdown",
   "metadata": {},
   "source": [
    "### [백준] 직각삼각형\n",
    "- 세 변의 길이가 주어졌을 때, 직각삼각형인지 구분하시오."
   ]
  },
  {
   "cell_type": "code",
   "execution_count": null,
   "metadata": {},
   "outputs": [],
   "source": [
    "# 0, 0, 0이 입력되면 종료\n",
    "# 각각의 케이스에 대해 한번씩 출력\n",
    "# sort 후 피타고라스 정리 사용\n",
    "\n",
    "while True:\n",
    "  data = list(map(int, input().split()))\n",
    "\n",
    "  if data[0] == 0:\n",
    "    break\n",
    "  \n",
    "  data.sort()\n",
    "  if data[0]**2 + data[1]**2 == data[2]**2:\n",
    "    print('right')\n",
    "  else:\n",
    "    print('wrong')"
   ]
  }
 ],
 "metadata": {
  "kernelspec": {
   "display_name": "Python 3",
   "language": "python",
   "name": "python3"
  },
  "language_info": {
   "codemirror_mode": {
    "name": "ipython",
    "version": 3
   },
   "file_extension": ".py",
   "mimetype": "text/x-python",
   "name": "python",
   "nbconvert_exporter": "python",
   "pygments_lexer": "ipython3",
   "version": "3.6.10"
  }
 },
 "nbformat": 4,
 "nbformat_minor": 4
}
