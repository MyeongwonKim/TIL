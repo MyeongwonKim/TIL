{
 "cells": [
  {
   "cell_type": "markdown",
   "metadata": {},
   "source": [
    "### [백준] 사칙연산\n",
    "공백으로 분리된 입력을 받아서 사칙연산 수행 후 출력"
   ]
  },
  {
   "cell_type": "code",
   "execution_count": 12,
   "metadata": {
    "scrolled": false
   },
   "outputs": [
    {
     "name": "stdout",
     "output_type": "stream",
     "text": [
      "5 10\n",
      "15\n",
      "-5\n",
      "50\n",
      "0\n",
      "5\n"
     ]
    }
   ],
   "source": [
    "a, b = map(int, input().split())\n",
    "\n",
    "print(a+b, a-b, a*b, a//b, a%b, sep='\\n')"
   ]
  },
  {
   "cell_type": "markdown",
   "metadata": {},
   "source": [
    "### [백준] A+B-8\n",
    "특정한 형식으로 출력하기"
   ]
  },
  {
   "cell_type": "code",
   "execution_count": 3,
   "metadata": {},
   "outputs": [
    {
     "name": "stdout",
     "output_type": "stream",
     "text": [
      "5\n",
      "1 2\n",
      "Case #1: 1 + 2 = 3\n",
      "3 4\n",
      "Case #2: 3 + 4 = 7\n",
      "5 7\n",
      "Case #3: 5 + 7 = 12\n",
      "2 43\n",
      "Case #4: 2 + 43 = 45\n",
      "3 5\n",
      "Case #5: 3 + 5 = 8\n"
     ]
    }
   ],
   "source": [
    "cases = int(input())\n",
    "\n",
    "for i in range(1, cases+1):\n",
    "    a, b = map(int, input().split())\n",
    "    print(\"Case #%s: %s + %s = %s\" %(i,a,b,a+b))"
   ]
  },
  {
   "cell_type": "markdown",
   "metadata": {},
   "source": [
    "### 테스트 케이스가 없는 경우에 대한 처리\n",
    "try / except 사용"
   ]
  },
  {
   "cell_type": "code",
   "execution_count": 5,
   "metadata": {},
   "outputs": [
    {
     "name": "stdout",
     "output_type": "stream",
     "text": [
      "\n"
     ]
    }
   ],
   "source": [
    "while True:\n",
    "    try:\n",
    "        a, b = map(int, input().split())\n",
    "        print(a+b)\n",
    "    except:\n",
    "        break"
   ]
  },
  {
   "cell_type": "code",
   "execution_count": 10,
   "metadata": {
    "scrolled": true
   },
   "outputs": [
    {
     "name": "stdout",
     "output_type": "stream",
     "text": [
      "A\n",
      "65\n"
     ]
    }
   ],
   "source": [
    "#ord() : 헤당 문자의 아스키 코드 출력\n",
    "a = input()\n",
    "print(ord(a))"
   ]
  },
  {
   "cell_type": "markdown",
   "metadata": {},
   "source": [
    "### [백준] 알파벳 찾기\n",
    "주어진 문자열에 대해 각 알파벳이 나온 첫번째 index를 출력"
   ]
  },
  {
   "cell_type": "code",
   "execution_count": 16,
   "metadata": {},
   "outputs": [
    {
     "name": "stdout",
     "output_type": "stream",
     "text": [
      "baekjoon\n",
      "1 0 -1 -1 2 -1 -1 -1 -1 4 3 -1 -1 7 5 -1 -1 -1 -1 -1 -1 -1 -1 -1 -1 -1 "
     ]
    }
   ],
   "source": [
    "Str = input()\n",
    "ans = [-1] * 26\n",
    "for i in range(len(Str)):\n",
    "    if ans[ord(Str[i])-ord('a')] != -1:       #이미 값이 있는 할당된 경우 continue\n",
    "        continue\n",
    "    else:\n",
    "        ans[ord(Str[i])-ord('a')] = i         #해당 문자의 인덱스를 ans 리스트의 요소로 할당\n",
    "\n",
    "for i in ans:\n",
    "    print(i, end=' ')"
   ]
  },
  {
   "cell_type": "code",
   "execution_count": 7,
   "metadata": {},
   "outputs": [
    {
     "name": "stdout",
     "output_type": "stream",
     "text": [
      "2\n",
      "5 aa\n",
      "aaaaaaaaaa\n",
      "3 abc\n",
      "aaabbbccc\n"
     ]
    }
   ],
   "source": [
    "cases = int(input())\n",
    "\n",
    "for i in range(cases):\n",
    "    n, str = input().split()\n",
    "    for s in str:\n",
    "        print(int(n)*s, end='')\n",
    "    print()"
   ]
  },
  {
   "cell_type": "code",
   "execution_count": null,
   "metadata": {},
   "outputs": [],
   "source": [
    "Str = input().upper()\n",
    "cnt = [0]*26\n",
    "for i in range(len(Str)):\n",
    "    cnt[ord(str[i])-65] += 1\n",
    "max_num = max(count)\n",
    "print(max_num)\n",
    "if cnt.count(max_num) >= 2:\n",
    "    print('?')\n",
    "else:\n",
    "    print(chr(cnt.index(max_num) + ord('A')))\n",
    "print(ord('A'))"
   ]
  },
  {
   "cell_type": "markdown",
   "metadata": {},
   "source": [
    "### [백준] 숫자의 개수\n",
    "자연수 A,B,C에 대해 AXBXC의 값에서 0부터 9까지의 숫자가 몇 번씩 쓰였는지 출력"
   ]
  },
  {
   "cell_type": "code",
   "execution_count": null,
   "metadata": {},
   "outputs": [],
   "source": [
    "#풀이1 : count list 이용. O(n)\n",
    "multiplied = 1\n",
    "for i in range(3):\n",
    "    n = int(input())\n",
    "    multiplied *= n\n",
    "\n",
    "count = [0]*10\n",
    "for s in str(multiplied):\n",
    "    count[int(s)] += 1\n",
    "\n",
    "for i in count:\n",
    "    print(i)"
   ]
  },
  {
   "cell_type": "code",
   "execution_count": null,
   "metadata": {},
   "outputs": [],
   "source": [
    "#풀이2 : str.count() 함수 사용. O(n^2). 하지만 여기서는 개수가 정해져있으므로 빠르게 수행됨\n",
    "mult = int(input()) * int(input()) * int(input())\n",
    "for i in range(10):\n",
    "    print(str(mult).count(str(i)))"
   ]
  },
  {
   "cell_type": "markdown",
   "metadata": {},
   "source": [
    "### [백준] 셀프 넘버\n",
    "10000 이하의 자연수 중 셀프 넘버가 아닌 수를 출력하시오.\n",
    "셀프 넘버: (어떤 수 + 각 자리 숫자들의 합) 으로 표현될 수 없는 수"
   ]
  },
  {
   "cell_type": "code",
   "execution_count": null,
   "metadata": {},
   "outputs": [],
   "source": [
    "def d(n):\n",
    "    for s in str(n):\n",
    "        n += int(s)\n",
    "    return n\n",
    "\n",
    "NotSelfNum = []\n",
    "for i in range(1,10001):\n",
    "    NotSelfNum.append(d(i))\n",
    "\n",
    "for j in range(1,10001):\n",
    "    if j not in NotSelfNum:\n",
    "        print(j)"
   ]
  },
  {
   "cell_type": "markdown",
   "metadata": {},
   "source": [
    "### [백준] 한수"
   ]
  },
  {
   "cell_type": "code",
   "execution_count": 14,
   "metadata": {},
   "outputs": [
    {
     "name": "stdout",
     "output_type": "stream",
     "text": [
      "1000\n",
      "144\n"
     ]
    }
   ],
   "source": [
    "n = int(input())\n",
    "def isHan(num):\n",
    "    Han = True\n",
    "    NumtoList = list(map(int, str(num)))\n",
    "    d = NumtoList[1] - NumtoList[0]\n",
    "    for i in range(2,len(NumtoList)):\n",
    "        dTemp = NumtoList[i] - NumtoList[i-1]\n",
    "        if dTemp != d:\n",
    "            Han = False\n",
    "\n",
    "    return Han\n",
    "\n",
    "if n <= 99:\n",
    "    print(n)\n",
    "else:\n",
    "    count = 99\n",
    "    for i in range(100, n+1):\n",
    "        if isHan(i):\n",
    "            count += 1\n",
    "    print(count)"
   ]
  },
  {
   "cell_type": "markdown",
   "metadata": {},
   "source": [
    "### [백준] 상수"
   ]
  },
  {
   "cell_type": "code",
   "execution_count": 8,
   "metadata": {},
   "outputs": [
    {
     "name": "stdout",
     "output_type": "stream",
     "text": [
      "394 382\n",
      "493\n"
     ]
    }
   ],
   "source": [
    "a, b = input().split()\n",
    "a = int(a[::-1])\n",
    "b = int(b[::-1])\n",
    "\n",
    "print(max(a,b))"
   ]
  }
 ],
 "metadata": {
  "kernelspec": {
   "display_name": "Python 3",
   "language": "python",
   "name": "python3"
  },
  "language_info": {
   "codemirror_mode": {
    "name": "ipython",
    "version": 3
   },
   "file_extension": ".py",
   "mimetype": "text/x-python",
   "name": "python",
   "nbconvert_exporter": "python",
   "pygments_lexer": "ipython3",
   "version": "3.6.10"
  }
 },
 "nbformat": 4,
 "nbformat_minor": 4
}
