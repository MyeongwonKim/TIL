{
 "cells": [
  {
   "cell_type": "markdown",
   "metadata": {},
   "source": [
    "### Class\n",
    "- 실세계의 것을 모델링하여 속성(attribute)와 동작(method)를 갖는 데이터 타입\n",
    "- string, int, list, dict 등 모두 클래스로 존재\n",
    "- 데이터 (변수)와 연산(함수)를 하나로 캡슐화(encapsulation)하여 클래스로 표현\n",
    "\n",
    "### Object\n",
    "- 클래스가 구체화된 것. 메모리에 상주하는 상태"
   ]
  },
  {
   "cell_type": "code",
   "execution_count": 2,
   "metadata": {},
   "outputs": [
    {
     "name": "stdout",
     "output_type": "stream",
     "text": [
      "<class '__main__.Person'>\n"
     ]
    }
   ],
   "source": [
    "# class 선언 및 객체 생성\n",
    "class Person:\n",
    "    pass\n",
    "\n",
    "bob = Person()\n",
    "print(type(bob))"
   ]
  },
  {
   "cell_type": "markdown",
   "metadata": {},
   "source": [
    "### 생성자(__init__)\n",
    "- 해당 클래스의 객체가 생성될 때 호출됨\n",
    "- self 인자는 항상 첫번째에 오며 자기 자신을 가리킴\n",
    "- 생성자에서는 해당 클래스가 다루는 데이터를 정의 (이 데이터를 member variable 또는 attribute라고 함)\n",
    "\n",
    "### self\n",
    "- 모든 method의 첫번째 인자는 항상 self임\n",
    "- self는 method가 속한 객체 자기 자신을 가리킴 (Java의 this)"
   ]
  },
  {
   "cell_type": "code",
   "execution_count": 8,
   "metadata": {},
   "outputs": [
    {
     "name": "stdout",
     "output_type": "stream",
     "text": [
      "Aaron 20\n",
      "Aaron 은 잠을 잡니다.\n"
     ]
    }
   ],
   "source": [
    "class Person:\n",
    "    def __init__(self, name, age):    # self는 항상 들어가는 파라미터임\n",
    "        # print(self, 'is generaged')\n",
    "        self.name = name              # self.~ : class의 속성으로 정의됨\n",
    "        self.age = age\n",
    "    \n",
    "    def sleep(self):\n",
    "        print(self.name, '은 잠을 잡니다.')\n",
    "        \n",
    "p1 = Person('Aaron', 20)\n",
    "\n",
    "print(p1.name, p1.age)\n",
    "p1.sleep()"
   ]
  },
  {
   "cell_type": "markdown",
   "metadata": {},
   "source": [
    "### Method\n",
    "- 멤버함수라고도 하며 해당 클래스의 object에서만 호출 가능\n",
    "- 해당 객체의 속성에 대한 연산을 행함\n",
    "- instance method: 객체로 호출. method를 호출한 객체에만 영향을 미침. 항상 self 키워드를 가짐\n",
    "- class method (static method): 객체 생성 없이 class로 호출. 내부적인 속성을 유지할 필요가 없는 경우. 여러 함수들을 모듈화"
   ]
  },
  {
   "cell_type": "code",
   "execution_count": 16,
   "metadata": {},
   "outputs": [
    {
     "data": {
      "text/plain": [
       "30"
      ]
     },
     "execution_count": 16,
     "metadata": {},
     "output_type": "execute_result"
    }
   ],
   "source": [
    "# class method 예시\n",
    "class Math:\n",
    "    @staticmethod\n",
    "    def add(a,b):\n",
    "        return a+b\n",
    "    @staticmethod\n",
    "    def multiply(a,b):\n",
    "        return a*b\n",
    "Math.add(10,20)"
   ]
  },
  {
   "cell_type": "markdown",
   "metadata": {},
   "source": [
    "### 상속\n",
    "- 기존에 정의된 클래스의 기능을 물려받음. 코드를 재사용 가능하게 함\n",
    "- Parent - Child. is-a 관계를 가짐\n",
    "- method override: 부모 클래스의 method를 재정의\n",
    "- super(): 자식 클래스에서 부모클래스의 method를 호출할 때 사용\n",
    "\n",
    "~~~python\n",
    "class Child(Parent):\n",
    "~~~"
   ]
  },
  {
   "cell_type": "markdown",
   "metadata": {},
   "source": [
    "### special method\n",
    "- __~__ 형태로 명명된 함수\n",
    "- 해당 method를 overrding 하면 내장 함수나 연산자를 커스텀 객체에 적용 가능\n",
    "- docs.python.org에서 리스트 확인 가능"
   ]
  },
  {
   "cell_type": "code",
   "execution_count": 25,
   "metadata": {},
   "outputs": [
    {
     "name": "stdout",
     "output_type": "stream",
     "text": [
      "(3,4)\n",
      "(8,11)\n",
      "(9,12)\n",
      "9\n"
     ]
    }
   ],
   "source": [
    "# special method overriding 예시\n",
    "class Point:\n",
    "    def __init__(self, x, y):\n",
    "        self.x = x\n",
    "        self.y = y\n",
    "        \n",
    "    def __add__(self, pt):         # + 연산자 overriding\n",
    "        new_x = self.x + pt.x\n",
    "        new_y = self.y + pt.y\n",
    "        return Point(new_x, new_y)\n",
    "    \n",
    "    def __mul__(self, factor):     # * 연산자 overriding\n",
    "        return Point(self.x * factor, self.y * factor)\n",
    "    \n",
    "    def __getitem__(self, index):  # Point[0] overriding\n",
    "        if index == 0:\n",
    "            return self.x\n",
    "        elif index == 1:\n",
    "            return self.y\n",
    "        else:\n",
    "            return 'index 에러'\n",
    "    \n",
    "    def __str__(self):             # Java의 toString overriding\n",
    "        return '({},{})'.format(self.x, self.y)\n",
    "\n",
    "p1 = Point(3,4)\n",
    "p2 = Point(5,7)\n",
    "\n",
    "p3 = p1 + p2\n",
    "p4 = p1 * 3\n",
    "\n",
    "print(p1)\n",
    "print(p3)\n",
    "print(p4)\n",
    "print(p4[0])"
   ]
  },
  {
   "cell_type": "markdown",
   "metadata": {},
   "source": [
    "### 복소수 클래스 구현"
   ]
  },
  {
   "cell_type": "code",
   "execution_count": 11,
   "metadata": {},
   "outputs": [
    {
     "data": {
      "text/plain": [
       "2.23606797749979"
      ]
     },
     "execution_count": 11,
     "metadata": {},
     "output_type": "execute_result"
    }
   ],
   "source": [
    "import math\n",
    "class ComplexNumber:\n",
    "    def __init__(self, real, img):\n",
    "        self.real = real\n",
    "        self.img = img\n",
    "    \n",
    "    def __add__(self, cn):\n",
    "        return ComplexNumber(self.real + cn.real, self.img + cn.img)\n",
    "    \n",
    "    def __sub__(self, cn):\n",
    "        return ComplexNumber(self.real - cn.real, self.img - cn.img)\n",
    "    \n",
    "    def __mul__(self, x):\n",
    "        if type(x) == int:\n",
    "            return ComplexNumber(self.real * x, self.img * x)\n",
    "        elif type(x) == ComplexNumber:\n",
    "            # (a + bj) * (c + dj) = (ac - bd) + (ad + bc)j\n",
    "            return ComplexNumber(self.real*x.real - self.img*x.img, self.real*x.img+self.img*x.real)\n",
    "    \n",
    "    def __str__(self):\n",
    "        if self.img < 0:\n",
    "            return '{} - {}j'.format(self.real, abs(self.img))\n",
    "        return '{} + {}j'.format(self.real, self.img)\n",
    "    \n",
    "    def __eq__(self, cn):\n",
    "        return self.real == cn.real and self.img == cn.img\n",
    "    \n",
    "    def __ne__(self, cn):\n",
    "        return self.real != cn.real or self.img != cn.img\n",
    "    \n",
    "    def __abs__(self):\n",
    "        return math.sqrt(self.real ** 2 + self.img ** 2)\n",
    "    \n",
    "    def __len__(self):\n",
    "        return self.real ** 2 + self.img ** 2\n",
    "    \n",
    "a = ComplexNumber(1, 2)\n",
    "b = ComplexNumber(3, 2)\n",
    "\n",
    "abs(a)"
   ]
  },
  {
   "cell_type": "code",
   "execution_count": null,
   "metadata": {},
   "outputs": [],
   "source": []
  }
 ],
 "metadata": {
  "kernelspec": {
   "display_name": "Python 3",
   "language": "python",
   "name": "python3"
  },
  "language_info": {
   "codemirror_mode": {
    "name": "ipython",
    "version": 3
   },
   "file_extension": ".py",
   "mimetype": "text/x-python",
   "name": "python",
   "nbconvert_exporter": "python",
   "pygments_lexer": "ipython3",
   "version": "3.6.10"
  }
 },
 "nbformat": 4,
 "nbformat_minor": 4
}
