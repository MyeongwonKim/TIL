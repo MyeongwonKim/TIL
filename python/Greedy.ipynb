{
 "cells": [
  {
   "cell_type": "markdown",
   "metadata": {},
   "source": [
    "### [백준] 거스름돈"
   ]
  },
  {
   "cell_type": "code",
   "execution_count": 1,
   "metadata": {},
   "outputs": [
    {
     "name": "stdout",
     "output_type": "stream",
     "text": [
      "380\n",
      "4\n"
     ]
    }
   ],
   "source": [
    "# 원시적인 풀이\n",
    "\n",
    "n = int(input())\n",
    "\n",
    "jandon = 1000 - n\n",
    "count = 0\n",
    "\n",
    "while jandon>0:\n",
    "  if jandon >= 500:\n",
    "    jandon -= 500\n",
    "    count += 1\n",
    "  elif jandon >= 100:\n",
    "    jandon -= 100\n",
    "    count += 1\n",
    "  elif jandon >= 50:\n",
    "    jandon -= 50\n",
    "    count += 1\n",
    "  elif jandon >= 10:\n",
    "    jandon -= 10\n",
    "    count += 1\n",
    "  elif jandon >= 5:\n",
    "    jandon -= 5\n",
    "    count += 1\n",
    "  else:\n",
    "    jandon -= 1\n",
    "    count += 1\n",
    "\n",
    "print(count)"
   ]
  },
  {
   "cell_type": "code",
   "execution_count": 2,
   "metadata": {},
   "outputs": [
    {
     "name": "stdout",
     "output_type": "stream",
     "text": [
      "380\n",
      "4\n"
     ]
    }
   ],
   "source": [
    "# list 사용\n",
    "\n",
    "num = int(input())\n",
    "jandon = 1000 - num\n",
    "count = 0\n",
    "\n",
    "list_coins = [500,100,50,10,5,1]\n",
    "\n",
    "for coin in list_coins:\n",
    "    count += jandon // coin      # 해당 coin으로 거슬러 줄 개수 만큼 count 값 증가\n",
    "    jandon %= coin               # 해당 coin으로 거슬러 준 후의 잔 돈\n",
    "\n",
    "print(count)"
   ]
  },
  {
   "cell_type": "code",
   "execution_count": null,
   "metadata": {},
   "outputs": [],
   "source": []
  }
 ],
 "metadata": {
  "kernelspec": {
   "display_name": "Python 3",
   "language": "python",
   "name": "python3"
  },
  "language_info": {
   "codemirror_mode": {
    "name": "ipython",
    "version": 3
   },
   "file_extension": ".py",
   "mimetype": "text/x-python",
   "name": "python",
   "nbconvert_exporter": "python",
   "pygments_lexer": "ipython3",
   "version": "3.6.10"
  }
 },
 "nbformat": 4,
 "nbformat_minor": 4
}
