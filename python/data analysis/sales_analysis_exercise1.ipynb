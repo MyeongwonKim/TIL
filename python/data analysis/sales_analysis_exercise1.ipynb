{
 "cells": [
  {
   "cell_type": "code",
   "execution_count": 1,
   "metadata": {},
   "outputs": [],
   "source": [
    "import numpy as np\n",
    "import pandas as pd\n",
    "import matplotlib.pyplot as plt\n",
    "\n",
    "%matplotlib inline"
   ]
  },
  {
   "cell_type": "code",
   "execution_count": 2,
   "metadata": {},
   "outputs": [],
   "source": [
    "sales = pd.read_csv(\n",
    "    'c:/py/sales_data.csv',\n",
    "    parse_dates=['Date'])"
   ]
  },
  {
   "cell_type": "code",
   "execution_count": 3,
   "metadata": {},
   "outputs": [
    {
     "data": {
      "text/html": [
       "<div>\n",
       "<style scoped>\n",
       "    .dataframe tbody tr th:only-of-type {\n",
       "        vertical-align: middle;\n",
       "    }\n",
       "\n",
       "    .dataframe tbody tr th {\n",
       "        vertical-align: top;\n",
       "    }\n",
       "\n",
       "    .dataframe thead th {\n",
       "        text-align: right;\n",
       "    }\n",
       "</style>\n",
       "<table border=\"1\" class=\"dataframe\">\n",
       "  <thead>\n",
       "    <tr style=\"text-align: right;\">\n",
       "      <th></th>\n",
       "      <th>Date</th>\n",
       "      <th>Day</th>\n",
       "      <th>Month</th>\n",
       "      <th>Year</th>\n",
       "      <th>Customer_Age</th>\n",
       "      <th>Age_Group</th>\n",
       "      <th>Customer_Gender</th>\n",
       "      <th>Country</th>\n",
       "      <th>State</th>\n",
       "      <th>Product_Category</th>\n",
       "      <th>Sub_Category</th>\n",
       "      <th>Product</th>\n",
       "      <th>Order_Quantity</th>\n",
       "      <th>Unit_Cost</th>\n",
       "      <th>Unit_Price</th>\n",
       "      <th>Profit</th>\n",
       "      <th>Cost</th>\n",
       "      <th>Revenue</th>\n",
       "    </tr>\n",
       "  </thead>\n",
       "  <tbody>\n",
       "    <tr>\n",
       "      <th>0</th>\n",
       "      <td>2013-11-26</td>\n",
       "      <td>26</td>\n",
       "      <td>November</td>\n",
       "      <td>2013</td>\n",
       "      <td>19</td>\n",
       "      <td>Youth (&lt;25)</td>\n",
       "      <td>M</td>\n",
       "      <td>Canada</td>\n",
       "      <td>British Columbia</td>\n",
       "      <td>Accessories</td>\n",
       "      <td>Bike Racks</td>\n",
       "      <td>Hitch Rack - 4-Bike</td>\n",
       "      <td>8</td>\n",
       "      <td>45</td>\n",
       "      <td>120</td>\n",
       "      <td>590</td>\n",
       "      <td>360</td>\n",
       "      <td>950</td>\n",
       "    </tr>\n",
       "    <tr>\n",
       "      <th>1</th>\n",
       "      <td>2015-11-26</td>\n",
       "      <td>26</td>\n",
       "      <td>November</td>\n",
       "      <td>2015</td>\n",
       "      <td>19</td>\n",
       "      <td>Youth (&lt;25)</td>\n",
       "      <td>M</td>\n",
       "      <td>Canada</td>\n",
       "      <td>British Columbia</td>\n",
       "      <td>Accessories</td>\n",
       "      <td>Bike Racks</td>\n",
       "      <td>Hitch Rack - 4-Bike</td>\n",
       "      <td>8</td>\n",
       "      <td>45</td>\n",
       "      <td>120</td>\n",
       "      <td>590</td>\n",
       "      <td>360</td>\n",
       "      <td>950</td>\n",
       "    </tr>\n",
       "    <tr>\n",
       "      <th>2</th>\n",
       "      <td>2014-03-23</td>\n",
       "      <td>23</td>\n",
       "      <td>March</td>\n",
       "      <td>2014</td>\n",
       "      <td>49</td>\n",
       "      <td>Adults (35-64)</td>\n",
       "      <td>M</td>\n",
       "      <td>Australia</td>\n",
       "      <td>New South Wales</td>\n",
       "      <td>Accessories</td>\n",
       "      <td>Bike Racks</td>\n",
       "      <td>Hitch Rack - 4-Bike</td>\n",
       "      <td>23</td>\n",
       "      <td>45</td>\n",
       "      <td>120</td>\n",
       "      <td>1366</td>\n",
       "      <td>1035</td>\n",
       "      <td>2401</td>\n",
       "    </tr>\n",
       "    <tr>\n",
       "      <th>3</th>\n",
       "      <td>2016-03-23</td>\n",
       "      <td>23</td>\n",
       "      <td>March</td>\n",
       "      <td>2016</td>\n",
       "      <td>49</td>\n",
       "      <td>Adults (35-64)</td>\n",
       "      <td>M</td>\n",
       "      <td>Australia</td>\n",
       "      <td>New South Wales</td>\n",
       "      <td>Accessories</td>\n",
       "      <td>Bike Racks</td>\n",
       "      <td>Hitch Rack - 4-Bike</td>\n",
       "      <td>20</td>\n",
       "      <td>45</td>\n",
       "      <td>120</td>\n",
       "      <td>1188</td>\n",
       "      <td>900</td>\n",
       "      <td>2088</td>\n",
       "    </tr>\n",
       "    <tr>\n",
       "      <th>4</th>\n",
       "      <td>2014-05-15</td>\n",
       "      <td>15</td>\n",
       "      <td>May</td>\n",
       "      <td>2014</td>\n",
       "      <td>47</td>\n",
       "      <td>Adults (35-64)</td>\n",
       "      <td>F</td>\n",
       "      <td>Australia</td>\n",
       "      <td>New South Wales</td>\n",
       "      <td>Accessories</td>\n",
       "      <td>Bike Racks</td>\n",
       "      <td>Hitch Rack - 4-Bike</td>\n",
       "      <td>4</td>\n",
       "      <td>45</td>\n",
       "      <td>120</td>\n",
       "      <td>238</td>\n",
       "      <td>180</td>\n",
       "      <td>418</td>\n",
       "    </tr>\n",
       "  </tbody>\n",
       "</table>\n",
       "</div>"
      ],
      "text/plain": [
       "        Date  Day     Month  Year  Customer_Age       Age_Group  \\\n",
       "0 2013-11-26   26  November  2013            19     Youth (<25)   \n",
       "1 2015-11-26   26  November  2015            19     Youth (<25)   \n",
       "2 2014-03-23   23     March  2014            49  Adults (35-64)   \n",
       "3 2016-03-23   23     March  2016            49  Adults (35-64)   \n",
       "4 2014-05-15   15       May  2014            47  Adults (35-64)   \n",
       "\n",
       "  Customer_Gender    Country             State Product_Category Sub_Category  \\\n",
       "0               M     Canada  British Columbia      Accessories   Bike Racks   \n",
       "1               M     Canada  British Columbia      Accessories   Bike Racks   \n",
       "2               M  Australia   New South Wales      Accessories   Bike Racks   \n",
       "3               M  Australia   New South Wales      Accessories   Bike Racks   \n",
       "4               F  Australia   New South Wales      Accessories   Bike Racks   \n",
       "\n",
       "               Product  Order_Quantity  Unit_Cost  Unit_Price  Profit  Cost  \\\n",
       "0  Hitch Rack - 4-Bike               8         45         120     590   360   \n",
       "1  Hitch Rack - 4-Bike               8         45         120     590   360   \n",
       "2  Hitch Rack - 4-Bike              23         45         120    1366  1035   \n",
       "3  Hitch Rack - 4-Bike              20         45         120    1188   900   \n",
       "4  Hitch Rack - 4-Bike               4         45         120     238   180   \n",
       "\n",
       "   Revenue  \n",
       "0      950  \n",
       "1      950  \n",
       "2     2401  \n",
       "3     2088  \n",
       "4      418  "
      ]
     },
     "execution_count": 3,
     "metadata": {},
     "output_type": "execute_result"
    }
   ],
   "source": [
    "sales.head()"
   ]
  },
  {
   "cell_type": "code",
   "execution_count": 4,
   "metadata": {},
   "outputs": [
    {
     "data": {
      "text/plain": [
       "35.91921157861212"
      ]
     },
     "execution_count": 4,
     "metadata": {},
     "output_type": "execute_result"
    }
   ],
   "source": [
    "sales['Customer_Age'].mean()"
   ]
  },
  {
   "cell_type": "code",
   "execution_count": 6,
   "metadata": {},
   "outputs": [
    {
     "data": {
      "text/plain": [
       "<matplotlib.lines.Line2D at 0x25bf553a6a0>"
      ]
     },
     "execution_count": 6,
     "metadata": {},
     "output_type": "execute_result"
    },
    {
     "data": {
      "image/png": "[encoded data removed]",
      "text/plain": [
       "<Figure size 1008x432 with 1 Axes>"
      ]
     },
     "metadata": {
      "needs_background": "light"
     },
     "output_type": "display_data"
    }
   ],
   "source": [
    "ax = sales['Customer_Age'].plot(kind='density', figsize=(14,6))\n",
    "ax.axvline(sales['Customer_Age'].mean(), color='red')"
   ]
  },
  {
   "cell_type": "code",
   "execution_count": 8,
   "metadata": {},
   "outputs": [
    {
     "data": {
      "image/png": "[encoded data removed]",
      "text/plain": [
       "<Figure size 432x432 with 1 Axes>"
      ]
     },
     "metadata": {
      "needs_background": "light"
     },
     "output_type": "display_data"
    }
   ],
   "source": [
    "ax = sales['Customer_Age'].plot(kind='box', figsize=(6,6))"
   ]
  },
  {
   "cell_type": "code",
   "execution_count": 9,
   "metadata": {},
   "outputs": [
    {
     "data": {
      "text/plain": [
       "2016    29398\n",
       "2014    29398\n",
       "2015    24443\n",
       "2013    24443\n",
       "2012     2677\n",
       "2011     2677\n",
       "Name: Year, dtype: int64"
      ]
     },
     "execution_count": 9,
     "metadata": {},
     "output_type": "execute_result"
    }
   ],
   "source": [
    "sales['Year'].value_counts()"
   ]
  },
  {
   "cell_type": "code",
   "execution_count": 10,
   "metadata": {},
   "outputs": [
    {
     "data": {
      "text/plain": [
       "<matplotlib.axes._subplots.AxesSubplot at 0x25bf568d940>"
      ]
     },
     "execution_count": 10,
     "metadata": {},
     "output_type": "execute_result"
    },
    {
     "data": {
      "image/png": "[encoded data removed]",
      "text/plain": [
       "<Figure size 432x432 with 1 Axes>"
      ]
     },
     "metadata": {},
     "output_type": "display_data"
    }
   ],
   "source": [
    "sales['Year'].value_counts().plot(kind='pie', figsize=(6,6))"
   ]
  },
  {
   "cell_type": "code",
   "execution_count": 13,
   "metadata": {},
   "outputs": [
    {
     "data": {
      "text/plain": [
       "<matplotlib.axes._subplots.AxesSubplot at 0x25bf5607c50>"
      ]
     },
     "execution_count": 13,
     "metadata": {},
     "output_type": "execute_result"
    },
    {
     "data": {
      "image/png": "[encoded data removed]",
      "text/plain": [
       "<Figure size 1008x432 with 1 Axes>"
      ]
     },
     "metadata": {
      "needs_background": "light"
     },
     "output_type": "display_data"
    }
   ],
   "source": [
    "sales['Month'].value_counts().plot(kind='bar', figsize=(14,6))"
   ]
  },
  {
   "cell_type": "code",
   "execution_count": 16,
   "metadata": {},
   "outputs": [
    {
     "data": {
      "text/plain": [
       "United States    39206\n",
       "Name: Country, dtype: int64"
      ]
     },
     "execution_count": 16,
     "metadata": {},
     "output_type": "execute_result"
    }
   ],
   "source": [
    "# max sales country\n",
    "sales['Country'].value_counts().head(1)"
   ]
  },
  {
   "cell_type": "code",
   "execution_count": 20,
   "metadata": {},
   "outputs": [
    {
     "data": {
      "text/plain": [
       "array(['Hitch Rack - 4-Bike', 'All-Purpose Bike Stand',\n",
       "       'Mountain Bottle Cage', 'Water Bottle - 30 oz.',\n",
       "       'Road Bottle Cage', 'AWC Logo Cap', 'Bike Wash - Dissolver',\n",
       "       'Fender Set - Mountain', 'Half-Finger Gloves, L',\n",
       "       'Half-Finger Gloves, M', 'Half-Finger Gloves, S',\n",
       "       'Sport-100 Helmet, Black', 'Sport-100 Helmet, Red',\n",
       "       'Sport-100 Helmet, Blue', 'Hydration Pack - 70 oz.',\n",
       "       'Short-Sleeve Classic Jersey, XL',\n",
       "       'Short-Sleeve Classic Jersey, L', 'Short-Sleeve Classic Jersey, M',\n",
       "       'Short-Sleeve Classic Jersey, S', 'Long-Sleeve Logo Jersey, M',\n",
       "       'Long-Sleeve Logo Jersey, XL', 'Long-Sleeve Logo Jersey, L',\n",
       "       'Long-Sleeve Logo Jersey, S', 'Mountain-100 Silver, 38',\n",
       "       'Mountain-100 Silver, 44', 'Mountain-100 Black, 48',\n",
       "       'Mountain-100 Silver, 48', 'Mountain-100 Black, 38',\n",
       "       'Mountain-200 Silver, 38', 'Mountain-100 Black, 44',\n",
       "       'Mountain-100 Silver, 42', 'Mountain-200 Black, 46',\n",
       "       'Mountain-200 Silver, 42', 'Mountain-200 Silver, 46',\n",
       "       'Mountain-200 Black, 38', 'Mountain-100 Black, 42',\n",
       "       'Mountain-200 Black, 42', 'Mountain-400-W Silver, 46',\n",
       "       'Mountain-500 Silver, 40', 'Mountain-500 Silver, 44',\n",
       "       'Mountain-500 Black, 48', 'Mountain-500 Black, 40',\n",
       "       'Mountain-400-W Silver, 42', 'Mountain-500 Silver, 52',\n",
       "       'Mountain-500 Black, 52', 'Mountain-500 Silver, 42',\n",
       "       'Mountain-500 Black, 44', 'Mountain-500 Silver, 48',\n",
       "       'Mountain-400-W Silver, 38', 'Mountain-400-W Silver, 40',\n",
       "       'Mountain-500 Black, 42', 'Road-150 Red, 48', 'Road-150 Red, 62',\n",
       "       'Road-750 Black, 48', 'Road-750 Black, 58', 'Road-750 Black, 52',\n",
       "       'Road-150 Red, 52', 'Road-150 Red, 44', 'Road-150 Red, 56',\n",
       "       'Road-750 Black, 44', 'Road-350-W Yellow, 40',\n",
       "       'Road-350-W Yellow, 42', 'Road-250 Black, 44',\n",
       "       'Road-250 Black, 48', 'Road-350-W Yellow, 48',\n",
       "       'Road-550-W Yellow, 44', 'Road-550-W Yellow, 38',\n",
       "       'Road-250 Black, 52', 'Road-550-W Yellow, 48', 'Road-250 Red, 58',\n",
       "       'Road-250 Black, 58', 'Road-250 Red, 52', 'Road-250 Red, 48',\n",
       "       'Road-250 Red, 44', 'Road-550-W Yellow, 42',\n",
       "       'Road-550-W Yellow, 40', 'Road-650 Red, 48', 'Road-650 Red, 60',\n",
       "       'Road-650 Black, 48', 'Road-350-W Yellow, 44', 'Road-650 Red, 52',\n",
       "       'Road-650 Black, 44', 'Road-650 Red, 62', 'Road-650 Red, 58',\n",
       "       'Road-650 Black, 60', 'Road-650 Black, 58', 'Road-650 Black, 52',\n",
       "       'Road-650 Black, 62', 'Road-650 Red, 44',\n",
       "       \"Women's Mountain Shorts, M\", \"Women's Mountain Shorts, S\",\n",
       "       \"Women's Mountain Shorts, L\", 'Racing Socks, L', 'Racing Socks, M',\n",
       "       'Mountain Tire Tube', 'Touring Tire Tube', 'Patch Kit/8 Patches',\n",
       "       'HL Mountain Tire', 'LL Mountain Tire', 'Road Tire Tube',\n",
       "       'LL Road Tire', 'Touring Tire', 'ML Mountain Tire', 'HL Road Tire',\n",
       "       'ML Road Tire', 'Touring-1000 Yellow, 50', 'Touring-1000 Blue, 46',\n",
       "       'Touring-1000 Yellow, 60', 'Touring-1000 Blue, 50',\n",
       "       'Touring-3000 Yellow, 50', 'Touring-3000 Blue, 54',\n",
       "       'Touring-3000 Blue, 58', 'Touring-3000 Yellow, 44',\n",
       "       'Touring-3000 Yellow, 54', 'Touring-3000 Blue, 62',\n",
       "       'Touring-3000 Blue, 44', 'Touring-1000 Blue, 54',\n",
       "       'Touring-1000 Yellow, 46', 'Touring-1000 Blue, 60',\n",
       "       'Touring-3000 Yellow, 62', 'Touring-1000 Yellow, 54',\n",
       "       'Touring-2000 Blue, 54', 'Touring-3000 Blue, 50',\n",
       "       'Touring-3000 Yellow, 58', 'Touring-2000 Blue, 46',\n",
       "       'Touring-2000 Blue, 50', 'Touring-2000 Blue, 60',\n",
       "       'Classic Vest, L', 'Classic Vest, M', 'Classic Vest, S'],\n",
       "      dtype=object)"
      ]
     },
     "execution_count": 20,
     "metadata": {},
     "output_type": "execute_result"
    }
   ],
   "source": [
    "sales['Product'].unique()"
   ]
  },
  {
   "cell_type": "code",
   "execution_count": 23,
   "metadata": {},
   "outputs": [
    {
     "data": {
      "text/plain": [
       "<matplotlib.axes._subplots.AxesSubplot at 0x25bf5cdab00>"
      ]
     },
     "execution_count": 23,
     "metadata": {},
     "output_type": "execute_result"
    },
    {
     "data": {
      "image/png": "[encoded data removed]",
      "text/plain": [
       "<Figure size 1008x432 with 1 Axes>"
      ]
     },
     "metadata": {
      "needs_background": "light"
     },
     "output_type": "display_data"
    }
   ],
   "source": [
    "sales['Product'].value_counts().head(10).plot(kind='bar', figsize=(14,6))"
   ]
  },
  {
   "cell_type": "code",
   "execution_count": 24,
   "metadata": {},
   "outputs": [],
   "source": [
    "# correlation\n",
    "corr = sales.corr()"
   ]
  },
  {
   "cell_type": "code",
   "execution_count": 25,
   "metadata": {},
   "outputs": [
    {
     "data": {
      "text/plain": [
       "<matplotlib.axes._subplots.AxesSubplot at 0x25bf5d13d30>"
      ]
     },
     "execution_count": 25,
     "metadata": {},
     "output_type": "execute_result"
    },
    {
     "data": {
      "image/png": "[encoded data removed]",
      "text/plain": [
       "<Figure size 432x432 with 1 Axes>"
      ]
     },
     "metadata": {
      "needs_background": "light"
     },
     "output_type": "display_data"
    }
   ],
   "source": [
    "sales.plot(kind='scatter', x='Unit_Cost', y='Unit_Price', figsize=(6,6))"
   ]
  },
  {
   "cell_type": "code",
   "execution_count": 28,
   "metadata": {},
   "outputs": [
    {
     "data": {
      "text/plain": [
       "<matplotlib.axes._subplots.AxesSubplot at 0x25b8ae262b0>"
      ]
     },
     "execution_count": 28,
     "metadata": {},
     "output_type": "execute_result"
    },
    {
     "data": {
      "image/png": "[encoded data removed]",
      "text/plain": [
       "<Figure size 720x432 with 1 Axes>"
      ]
     },
     "metadata": {
      "needs_background": "light"
     },
     "output_type": "display_data"
    }
   ],
   "source": [
    "sales[['Profit', 'Country']].boxplot(by='Country', figsize=(10,6))"
   ]
  },
  {
   "cell_type": "code",
   "execution_count": 33,
   "metadata": {},
   "outputs": [
    {
     "data": {
      "text/plain": [
       "0    1000\n",
       "1    1000\n",
       "2    2451\n",
       "3    2138\n",
       "4     468\n",
       "Name: Revenue, dtype: int64"
      ]
     },
     "execution_count": 33,
     "metadata": {},
     "output_type": "execute_result"
    }
   ],
   "source": [
    "# update a column\n",
    "sales['Revenue']+=50\n",
    "sales['Revenue'].head()"
   ]
  },
  {
   "cell_type": "code",
   "execution_count": 35,
   "metadata": {},
   "outputs": [
    {
     "data": {
      "text/html": [
       "<div>\n",
       "<style scoped>\n",
       "    .dataframe tbody tr th:only-of-type {\n",
       "        vertical-align: middle;\n",
       "    }\n",
       "\n",
       "    .dataframe tbody tr th {\n",
       "        vertical-align: top;\n",
       "    }\n",
       "\n",
       "    .dataframe thead th {\n",
       "        text-align: right;\n",
       "    }\n",
       "</style>\n",
       "<table border=\"1\" class=\"dataframe\">\n",
       "  <thead>\n",
       "    <tr style=\"text-align: right;\">\n",
       "      <th></th>\n",
       "      <th>Date</th>\n",
       "      <th>Day</th>\n",
       "      <th>Month</th>\n",
       "      <th>Year</th>\n",
       "      <th>Customer_Age</th>\n",
       "      <th>Age_Group</th>\n",
       "      <th>Customer_Gender</th>\n",
       "      <th>Country</th>\n",
       "      <th>State</th>\n",
       "      <th>Product_Category</th>\n",
       "      <th>Sub_Category</th>\n",
       "      <th>Product</th>\n",
       "      <th>Order_Quantity</th>\n",
       "      <th>Unit_Cost</th>\n",
       "      <th>Unit_Price</th>\n",
       "      <th>Profit</th>\n",
       "      <th>Cost</th>\n",
       "      <th>Revenue</th>\n",
       "    </tr>\n",
       "  </thead>\n",
       "  <tbody>\n",
       "    <tr>\n",
       "      <th>0</th>\n",
       "      <td>2013-11-26</td>\n",
       "      <td>26</td>\n",
       "      <td>November</td>\n",
       "      <td>2013</td>\n",
       "      <td>19</td>\n",
       "      <td>Youth (&lt;25)</td>\n",
       "      <td>M</td>\n",
       "      <td>Canada</td>\n",
       "      <td>British Columbia</td>\n",
       "      <td>Accessories</td>\n",
       "      <td>Bike Racks</td>\n",
       "      <td>Hitch Rack - 4-Bike</td>\n",
       "      <td>8</td>\n",
       "      <td>45</td>\n",
       "      <td>120</td>\n",
       "      <td>590</td>\n",
       "      <td>360</td>\n",
       "      <td>1000</td>\n",
       "    </tr>\n",
       "    <tr>\n",
       "      <th>1</th>\n",
       "      <td>2015-11-26</td>\n",
       "      <td>26</td>\n",
       "      <td>November</td>\n",
       "      <td>2015</td>\n",
       "      <td>19</td>\n",
       "      <td>Youth (&lt;25)</td>\n",
       "      <td>M</td>\n",
       "      <td>Canada</td>\n",
       "      <td>British Columbia</td>\n",
       "      <td>Accessories</td>\n",
       "      <td>Bike Racks</td>\n",
       "      <td>Hitch Rack - 4-Bike</td>\n",
       "      <td>8</td>\n",
       "      <td>45</td>\n",
       "      <td>120</td>\n",
       "      <td>590</td>\n",
       "      <td>360</td>\n",
       "      <td>1000</td>\n",
       "    </tr>\n",
       "    <tr>\n",
       "      <th>14</th>\n",
       "      <td>2013-08-02</td>\n",
       "      <td>2</td>\n",
       "      <td>August</td>\n",
       "      <td>2013</td>\n",
       "      <td>29</td>\n",
       "      <td>Young Adults (25-34)</td>\n",
       "      <td>M</td>\n",
       "      <td>Canada</td>\n",
       "      <td>British Columbia</td>\n",
       "      <td>Accessories</td>\n",
       "      <td>Bike Racks</td>\n",
       "      <td>Hitch Rack - 4-Bike</td>\n",
       "      <td>5</td>\n",
       "      <td>45</td>\n",
       "      <td>120</td>\n",
       "      <td>369</td>\n",
       "      <td>225</td>\n",
       "      <td>644</td>\n",
       "    </tr>\n",
       "    <tr>\n",
       "      <th>15</th>\n",
       "      <td>2015-08-02</td>\n",
       "      <td>2</td>\n",
       "      <td>August</td>\n",
       "      <td>2015</td>\n",
       "      <td>29</td>\n",
       "      <td>Young Adults (25-34)</td>\n",
       "      <td>M</td>\n",
       "      <td>Canada</td>\n",
       "      <td>British Columbia</td>\n",
       "      <td>Accessories</td>\n",
       "      <td>Bike Racks</td>\n",
       "      <td>Hitch Rack - 4-Bike</td>\n",
       "      <td>7</td>\n",
       "      <td>45</td>\n",
       "      <td>120</td>\n",
       "      <td>517</td>\n",
       "      <td>315</td>\n",
       "      <td>882</td>\n",
       "    </tr>\n",
       "    <tr>\n",
       "      <th>16</th>\n",
       "      <td>2013-09-02</td>\n",
       "      <td>2</td>\n",
       "      <td>September</td>\n",
       "      <td>2013</td>\n",
       "      <td>29</td>\n",
       "      <td>Young Adults (25-34)</td>\n",
       "      <td>M</td>\n",
       "      <td>Canada</td>\n",
       "      <td>British Columbia</td>\n",
       "      <td>Accessories</td>\n",
       "      <td>Bike Racks</td>\n",
       "      <td>Hitch Rack - 4-Bike</td>\n",
       "      <td>2</td>\n",
       "      <td>45</td>\n",
       "      <td>120</td>\n",
       "      <td>148</td>\n",
       "      <td>90</td>\n",
       "      <td>288</td>\n",
       "    </tr>\n",
       "    <tr>\n",
       "      <th>...</th>\n",
       "      <td>...</td>\n",
       "      <td>...</td>\n",
       "      <td>...</td>\n",
       "      <td>...</td>\n",
       "      <td>...</td>\n",
       "      <td>...</td>\n",
       "      <td>...</td>\n",
       "      <td>...</td>\n",
       "      <td>...</td>\n",
       "      <td>...</td>\n",
       "      <td>...</td>\n",
       "      <td>...</td>\n",
       "      <td>...</td>\n",
       "      <td>...</td>\n",
       "      <td>...</td>\n",
       "      <td>...</td>\n",
       "      <td>...</td>\n",
       "      <td>...</td>\n",
       "    </tr>\n",
       "    <tr>\n",
       "      <th>112979</th>\n",
       "      <td>2015-09-08</td>\n",
       "      <td>8</td>\n",
       "      <td>September</td>\n",
       "      <td>2015</td>\n",
       "      <td>31</td>\n",
       "      <td>Young Adults (25-34)</td>\n",
       "      <td>M</td>\n",
       "      <td>France</td>\n",
       "      <td>Essonne</td>\n",
       "      <td>Clothing</td>\n",
       "      <td>Vests</td>\n",
       "      <td>Classic Vest, M</td>\n",
       "      <td>28</td>\n",
       "      <td>24</td>\n",
       "      <td>64</td>\n",
       "      <td>1048</td>\n",
       "      <td>672</td>\n",
       "      <td>1770</td>\n",
       "    </tr>\n",
       "    <tr>\n",
       "      <th>113000</th>\n",
       "      <td>2014-07-27</td>\n",
       "      <td>27</td>\n",
       "      <td>July</td>\n",
       "      <td>2014</td>\n",
       "      <td>34</td>\n",
       "      <td>Young Adults (25-34)</td>\n",
       "      <td>M</td>\n",
       "      <td>France</td>\n",
       "      <td>Essonne</td>\n",
       "      <td>Clothing</td>\n",
       "      <td>Vests</td>\n",
       "      <td>Classic Vest, M</td>\n",
       "      <td>6</td>\n",
       "      <td>24</td>\n",
       "      <td>64</td>\n",
       "      <td>225</td>\n",
       "      <td>144</td>\n",
       "      <td>419</td>\n",
       "    </tr>\n",
       "    <tr>\n",
       "      <th>113001</th>\n",
       "      <td>2016-07-27</td>\n",
       "      <td>27</td>\n",
       "      <td>July</td>\n",
       "      <td>2016</td>\n",
       "      <td>34</td>\n",
       "      <td>Young Adults (25-34)</td>\n",
       "      <td>M</td>\n",
       "      <td>France</td>\n",
       "      <td>Essonne</td>\n",
       "      <td>Clothing</td>\n",
       "      <td>Vests</td>\n",
       "      <td>Classic Vest, M</td>\n",
       "      <td>7</td>\n",
       "      <td>24</td>\n",
       "      <td>64</td>\n",
       "      <td>262</td>\n",
       "      <td>168</td>\n",
       "      <td>480</td>\n",
       "    </tr>\n",
       "    <tr>\n",
       "      <th>113034</th>\n",
       "      <td>2014-03-04</td>\n",
       "      <td>4</td>\n",
       "      <td>March</td>\n",
       "      <td>2014</td>\n",
       "      <td>37</td>\n",
       "      <td>Adults (35-64)</td>\n",
       "      <td>F</td>\n",
       "      <td>France</td>\n",
       "      <td>Seine (Paris)</td>\n",
       "      <td>Clothing</td>\n",
       "      <td>Vests</td>\n",
       "      <td>Classic Vest, L</td>\n",
       "      <td>24</td>\n",
       "      <td>24</td>\n",
       "      <td>64</td>\n",
       "      <td>684</td>\n",
       "      <td>576</td>\n",
       "      <td>1310</td>\n",
       "    </tr>\n",
       "    <tr>\n",
       "      <th>113035</th>\n",
       "      <td>2016-03-04</td>\n",
       "      <td>4</td>\n",
       "      <td>March</td>\n",
       "      <td>2016</td>\n",
       "      <td>37</td>\n",
       "      <td>Adults (35-64)</td>\n",
       "      <td>F</td>\n",
       "      <td>France</td>\n",
       "      <td>Seine (Paris)</td>\n",
       "      <td>Clothing</td>\n",
       "      <td>Vests</td>\n",
       "      <td>Classic Vest, L</td>\n",
       "      <td>23</td>\n",
       "      <td>24</td>\n",
       "      <td>64</td>\n",
       "      <td>655</td>\n",
       "      <td>552</td>\n",
       "      <td>1257</td>\n",
       "    </tr>\n",
       "  </tbody>\n",
       "</table>\n",
       "<p>25176 rows × 18 columns</p>\n",
       "</div>"
      ],
      "text/plain": [
       "             Date  Day      Month  Year  Customer_Age             Age_Group  \\\n",
       "0      2013-11-26   26   November  2013            19           Youth (<25)   \n",
       "1      2015-11-26   26   November  2015            19           Youth (<25)   \n",
       "14     2013-08-02    2     August  2013            29  Young Adults (25-34)   \n",
       "15     2015-08-02    2     August  2015            29  Young Adults (25-34)   \n",
       "16     2013-09-02    2  September  2013            29  Young Adults (25-34)   \n",
       "...           ...  ...        ...   ...           ...                   ...   \n",
       "112979 2015-09-08    8  September  2015            31  Young Adults (25-34)   \n",
       "113000 2014-07-27   27       July  2014            34  Young Adults (25-34)   \n",
       "113001 2016-07-27   27       July  2016            34  Young Adults (25-34)   \n",
       "113034 2014-03-04    4      March  2014            37        Adults (35-64)   \n",
       "113035 2016-03-04    4      March  2016            37        Adults (35-64)   \n",
       "\n",
       "       Customer_Gender Country             State Product_Category  \\\n",
       "0                    M  Canada  British Columbia      Accessories   \n",
       "1                    M  Canada  British Columbia      Accessories   \n",
       "14                   M  Canada  British Columbia      Accessories   \n",
       "15                   M  Canada  British Columbia      Accessories   \n",
       "16                   M  Canada  British Columbia      Accessories   \n",
       "...                ...     ...               ...              ...   \n",
       "112979               M  France           Essonne         Clothing   \n",
       "113000               M  France           Essonne         Clothing   \n",
       "113001               M  France           Essonne         Clothing   \n",
       "113034               F  France     Seine (Paris)         Clothing   \n",
       "113035               F  France     Seine (Paris)         Clothing   \n",
       "\n",
       "       Sub_Category              Product  Order_Quantity  Unit_Cost  \\\n",
       "0        Bike Racks  Hitch Rack - 4-Bike               8         45   \n",
       "1        Bike Racks  Hitch Rack - 4-Bike               8         45   \n",
       "14       Bike Racks  Hitch Rack - 4-Bike               5         45   \n",
       "15       Bike Racks  Hitch Rack - 4-Bike               7         45   \n",
       "16       Bike Racks  Hitch Rack - 4-Bike               2         45   \n",
       "...             ...                  ...             ...        ...   \n",
       "112979        Vests      Classic Vest, M              28         24   \n",
       "113000        Vests      Classic Vest, M               6         24   \n",
       "113001        Vests      Classic Vest, M               7         24   \n",
       "113034        Vests      Classic Vest, L              24         24   \n",
       "113035        Vests      Classic Vest, L              23         24   \n",
       "\n",
       "        Unit_Price  Profit  Cost  Revenue  \n",
       "0              120     590   360     1000  \n",
       "1              120     590   360     1000  \n",
       "14             120     369   225      644  \n",
       "15             120     517   315      882  \n",
       "16             120     148    90      288  \n",
       "...            ...     ...   ...      ...  \n",
       "112979          64    1048   672     1770  \n",
       "113000          64     225   144      419  \n",
       "113001          64     262   168      480  \n",
       "113034          64     684   576     1310  \n",
       "113035          64     655   552     1257  \n",
       "\n",
       "[25176 rows x 18 columns]"
      ]
     },
     "execution_count": 35,
     "metadata": {},
     "output_type": "execute_result"
    }
   ],
   "source": [
    "sales.loc[(sales['Country'] == 'Canada') | (sales['Country']=='France')]"
   ]
  },
  {
   "cell_type": "code",
   "execution_count": 36,
   "metadata": {},
   "outputs": [
    {
     "data": {
      "text/plain": [
       "<matplotlib.axes._subplots.AxesSubplot at 0x25b88723e48>"
      ]
     },
     "execution_count": 36,
     "metadata": {},
     "output_type": "execute_result"
    },
    {
     "data": {
      "image/png": "[encoded data removed]",
      "text/plain": [
       "<Figure size 1008x432 with 1 Axes>"
      ]
     },
     "metadata": {
      "needs_background": "light"
     },
     "output_type": "display_data"
    }
   ],
   "source": [
    "france_states = sales.loc[sales['Country'] == 'France', 'State'].value_counts()\n",
    "\n",
    "france_states.plot(kind='bar', figsize=(14,6))"
   ]
  },
  {
   "cell_type": "code",
   "execution_count": 39,
   "metadata": {},
   "outputs": [
    {
     "data": {
      "text/plain": [
       "50"
      ]
     },
     "execution_count": 39,
     "metadata": {},
     "output_type": "execute_result"
    }
   ],
   "source": [
    "sales.loc[(sales['Customer_Gender'] == 'M') & (sales['Revenue'] == 500)].shape[0]"
   ]
  }
 ],
 "metadata": {
  "kernelspec": {
   "display_name": "Python 3",
   "language": "python",
   "name": "python3"
  },
  "language_info": {
   "codemirror_mode": {
    "name": "ipython",
    "version": 3
   },
   "file_extension": ".py",
   "mimetype": "text/x-python",
   "name": "python",
   "nbconvert_exporter": "python",
   "pygments_lexer": "ipython3",
   "version": "3.6.10"
  }
 },
 "nbformat": 4,
 "nbformat_minor": 4
}
