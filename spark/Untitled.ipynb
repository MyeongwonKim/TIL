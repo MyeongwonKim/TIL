{
 "cells": [
  {
   "cell_type": "code",
   "execution_count": 1,
   "metadata": {},
   "outputs": [],
   "source": [
    "import findspark\n",
    "findspark.init()"
   ]
  },
  {
   "cell_type": "code",
   "execution_count": 2,
   "metadata": {},
   "outputs": [
    {
     "name": "stdout",
     "output_type": "stream",
     "text": [
      "+-----+\n",
      "|hello|\n",
      "+-----+\n",
      "|spark|\n",
      "+-----+\n",
      "\n"
     ]
    }
   ],
   "source": [
    "# spark session 생성\n",
    "import pyspark\n",
    "from pyspark.sql import SparkSession\n",
    "spark = SparkSession.builder.getOrCreate()\n",
    "df = spark.sql(\"select 'spark' as hello \")\n",
    "df.show()"
   ]
  },
  {
   "cell_type": "code",
   "execution_count": 3,
   "metadata": {},
   "outputs": [],
   "source": [
    "OP_RS_2019 = spark\\\n",
    ".read\\\n",
    ".option(\"inferSchema\", \"true\")\\\n",
    ".option(\"header\", \"true\")\\\n",
    ".csv(\"C:\\SparkDG\\data\\PGYR19\\OP_DTL_RSRCH_PGYR2019_P06302020.csv\")"
   ]
  },
  {
   "cell_type": "code",
   "execution_count": 7,
   "metadata": {
    "collapsed": true
   },
   "outputs": [
    {
     "data": {
      "text/plain": [
       "<bound method DataFrame.printSchema of DataFrame[Change_Type: string, Covered_Recipient_Type: string, Noncovered_Recipient_Entity_Name: string, Teaching_Hospital_CCN: int, Teaching_Hospital_ID: int, Teaching_Hospital_Name: string, Physician_Profile_ID: int, Physician_First_Name: string, Physician_Middle_Name: string, Physician_Last_Name: string, Physician_Name_Suffix: string, Recipient_Primary_Business_Street_Address_Line1: string, Recipient_Primary_Business_Street_Address_Line2: string, Recipient_City: string, Recipient_State: string, Recipient_Zip_Code: string, Recipient_Country: string, Recipient_Province: string, Recipient_Postal_Code: string, Physician_Primary_Type: string, Physician_Specialty: string, Physician_License_State_code1: string, Physician_License_State_code2: string, Physician_License_State_code3: string, Physician_License_State_code4: string, Physician_License_State_code5: string, Principal_Investigator_1_Profile_ID: int, Principal_Investigator_1_First_Name: string, Principal_Investigator_1_Middle_Name: string, Principal_Investigator_1_Last_Name: string, Principal_Investigator_1_Name_Suffix: string, Principal_Investigator_1_Business_Street_Address_Line1: string, Principal_Investigator_1_Business_Street_Address_Line2: string, Principal_Investigator_1_City: string, Principal_Investigator_1_State: string, Principal_Investigator_1_Zip_Code: string, Principal_Investigator_1_Country: string, Principal_Investigator_1_Province: string, Principal_Investigator_1_Postal_Code: string, Principal_Investigator_1_Primary_Type: string, Principal_Investigator_1_Specialty: string, Principal_Investigator_1_License_State_code1: string, Principal_Investigator_1_License_State_code2: string, Principal_Investigator_1_License_State_code3: string, Principal_Investigator_1_License_State_code4: string, Principal_Investigator_1_License_State_code5: string, Principal_Investigator_2_Profile_ID: int, Principal_Investigator_2_First_Name: string, Principal_Investigator_2_Middle_Name: string, Principal_Investigator_2_Last_Name: string, Principal_Investigator_2_Name_Suffix: string, Principal_Investigator_2_Business_Street_Address_Line1: string, Principal_Investigator_2_Business_Street_Address_Line2: string, Principal_Investigator_2_City: string, Principal_Investigator_2_State: string, Principal_Investigator_2_Zip_Code: string, Principal_Investigator_2_Country: string, Principal_Investigator_2_Province: string, Principal_Investigator_2_Postal_Code: int, Principal_Investigator_2_Primary_Type: string, Principal_Investigator_2_Specialty: string, Principal_Investigator_2_License_State_code1: string, Principal_Investigator_2_License_State_code2: string, Principal_Investigator_2_License_State_code3: string, Principal_Investigator_2_License_State_code4: string, Principal_Investigator_2_License_State_code5: string, Principal_Investigator_3_Profile_ID: int, Principal_Investigator_3_First_Name: string, Principal_Investigator_3_Middle_Name: string, Principal_Investigator_3_Last_Name: string, Principal_Investigator_3_Name_Suffix: string, Principal_Investigator_3_Business_Street_Address_Line1: string, Principal_Investigator_3_Business_Street_Address_Line2: string, Principal_Investigator_3_City: string, Principal_Investigator_3_State: string, Principal_Investigator_3_Zip_Code: string, Principal_Investigator_3_Country: string, Principal_Investigator_3_Province: string, Principal_Investigator_3_Postal_Code: string, Principal_Investigator_3_Primary_Type: string, Principal_Investigator_3_Specialty: string, Principal_Investigator_3_License_State_code1: string, Principal_Investigator_3_License_State_code2: string, Principal_Investigator_3_License_State_code3: string, Principal_Investigator_3_License_State_code4: string, Principal_Investigator_3_License_State_code5: string, Principal_Investigator_4_Profile_ID: int, Principal_Investigator_4_First_Name: string, Principal_Investigator_4_Middle_Name: string, Principal_Investigator_4_Last_Name: string, Principal_Investigator_4_Name_Suffix: string, Principal_Investigator_4_Business_Street_Address_Line1: string, Principal_Investigator_4_Business_Street_Address_Line2: string, Principal_Investigator_4_City: string, Principal_Investigator_4_State: string, Principal_Investigator_4_Zip_Code: string, Principal_Investigator_4_Country: string, Principal_Investigator_4_Province: string, Principal_Investigator_4_Postal_Code: string, Principal_Investigator_4_Primary_Type: string, Principal_Investigator_4_Specialty: string, Principal_Investigator_4_License_State_code1: string, Principal_Investigator_4_License_State_code2: string, Principal_Investigator_4_License_State_code3: string, Principal_Investigator_4_License_State_code4: string, Principal_Investigator_4_License_State_code5: string, Principal_Investigator_5_Profile_ID: int, Principal_Investigator_5_First_Name: string, Principal_Investigator_5_Middle_Name: string, Principal_Investigator_5_Last_Name: string, Principal_Investigator_5_Name_Suffix: string, Principal_Investigator_5_Business_Street_Address_Line1: string, Principal_Investigator_5_Business_Street_Address_Line2: string, Principal_Investigator_5_City: string, Principal_Investigator_5_State: string, Principal_Investigator_5_Zip_Code: string, Principal_Investigator_5_Country: string, Principal_Investigator_5_Province: string, Principal_Investigator_5_Postal_Code: string, Principal_Investigator_5_Primary_Type: string, Principal_Investigator_5_Specialty: string, Principal_Investigator_5_License_State_code1: string, Principal_Investigator_5_License_State_code2: string, Principal_Investigator_5_License_State_code3: string, Principal_Investigator_5_License_State_code4: string, Principal_Investigator_5_License_State_code5: string, Submitting_Applicable_Manufacturer_or_Applicable_GPO_Name: string, Applicable_Manufacturer_or_Applicable_GPO_Making_Payment_ID: bigint, Applicable_Manufacturer_or_Applicable_GPO_Making_Payment_Name: string, Applicable_Manufacturer_or_Applicable_GPO_Making_Payment_State: string, Applicable_Manufacturer_or_Applicable_GPO_Making_Payment_Country: string, Related_Product_Indicator: string, Covered_or_Noncovered_Indicator_1: string, Indicate_Drug_or_Biological_or_Device_or_Medical_Supply_1: string, Product_Category_or_Therapeutic_Area_1: string, Name_of_Drug_or_Biological_or_Device_or_Medical_Supply_1: string, Associated_Drug_or_Biological_NDC_1: string, Covered_or_Noncovered_Indicator_2: string, Indicate_Drug_or_Biological_or_Device_or_Medical_Supply_2: string, Product_Category_or_Therapeutic_Area_2: string, Name_of_Drug_or_Biological_or_Device_or_Medical_Supply_2: string, Associated_Drug_or_Biological_NDC_2: string, Covered_or_Noncovered_Indicator_3: string, Indicate_Drug_or_Biological_or_Device_or_Medical_Supply_3: string, Product_Category_or_Therapeutic_Area_3: string, Name_of_Drug_or_Biological_or_Device_or_Medical_Supply_3: string, Associated_Drug_or_Biological_NDC_3: string, Covered_or_Noncovered_Indicator_4: string, Indicate_Drug_or_Biological_or_Device_or_Medical_Supply_4: string, Product_Category_or_Therapeutic_Area_4: string, Name_of_Drug_or_Biological_or_Device_or_Medical_Supply_4: string, Associated_Drug_or_Biological_NDC_4: string, Covered_or_Noncovered_Indicator_5: string, Indicate_Drug_or_Biological_or_Device_or_Medical_Supply_5: string, Product_Category_or_Therapeutic_Area_5: string, Name_of_Drug_or_Biological_or_Device_or_Medical_Supply_5: string, Associated_Drug_or_Biological_NDC_5: string, Total_Amount_of_Payment_USDollars: double, Date_of_Payment: string, Form_of_Payment_or_Transfer_of_Value: string, Expenditure_Category1: string, Expenditure_Category2: string, Expenditure_Category3: string, Expenditure_Category4: string, Expenditure_Category5: string, Expenditure_Category6: string, Preclinical_Research_Indicator: string, Delay_in_Publication_Indicator: string, Name_of_Study: string, Dispute_Status_for_Publication: string, Record_ID: string, Program_Year: string, Payment_Publication_Date: string, ClinicalTrials_Gov_Identifier: string, Research_Information_Link: string, Context_of_Research: string]>"
      ]
     },
     "execution_count": 7,
     "metadata": {},
     "output_type": "execute_result"
    }
   ],
   "source": [
    "OP_RS_2019.printSchema"
   ]
  },
  {
   "cell_type": "code",
   "execution_count": 8,
   "metadata": {},
   "outputs": [],
   "source": [
    "OP_RS_2019.write.parquet(\"output/OP_RS_2019.parquet\")"
   ]
  },
  {
   "cell_type": "code",
   "execution_count": 10,
   "metadata": {},
   "outputs": [
    {
     "ename": "NameError",
     "evalue": "name 'parquetFile' is not defined",
     "output_type": "error",
     "traceback": [
      "\u001b[1;31m---------------------------------------------------------------------------\u001b[0m",
      "\u001b[1;31mNameError\u001b[0m                                 Traceback (most recent call last)",
      "\u001b[1;32m<ipython-input-10-8edd1d5623fa>\u001b[0m in \u001b[0;36m<module>\u001b[1;34m\u001b[0m\n\u001b[1;32m----> 1\u001b[1;33m \u001b[0mrelations\u001b[0m \u001b[1;33m=\u001b[0m \u001b[0mparquetFile\u001b[0m\u001b[1;33m(\u001b[0m\u001b[1;34m\"C:\\SparkDG\\output\\OP_RS_2019.parquet\"\u001b[0m\u001b[1;33m)\u001b[0m\u001b[1;33m.\u001b[0m\u001b[0mcache\u001b[0m\u001b[1;33m\u001b[0m\u001b[1;33m\u001b[0m\u001b[0m\n\u001b[0m",
      "\u001b[1;31mNameError\u001b[0m: name 'parquetFile' is not defined"
     ]
    }
   ],
   "source": [
    "relations = parquetFile(\"C:\\SparkDG\\output\\OP_RS_2019.parquet\").cache"
   ]
  },
  {
   "cell_type": "code",
   "execution_count": null,
   "metadata": {},
   "outputs": [],
   "source": []
  }
 ],
 "metadata": {
  "kernelspec": {
   "display_name": "Python 3",
   "language": "python",
   "name": "python3"
  },
  "language_info": {
   "codemirror_mode": {
    "name": "ipython",
    "version": 3
   },
   "file_extension": ".py",
   "mimetype": "text/x-python",
   "name": "python",
   "nbconvert_exporter": "python",
   "pygments_lexer": "ipython3",
   "version": "3.6.10"
  }
 },
 "nbformat": 4,
 "nbformat_minor": 4
}
