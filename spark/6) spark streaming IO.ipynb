{
 "cells": [
  {
   "cell_type": "markdown",
   "metadata": {},
   "source": [
    "## 입력과 출력\n",
    "---\n",
    "### 카프카\n",
    "- 데이터 스트림을 위한 publish-subscribe 방식의 분산형 시스템\n",
    "- spark 2.2.x는 kafka 0.10과 호환됨\n",
    "\n",
    "### 트리거\n",
    "- 데이터를 sink로 출력하는 시점을 제어함\n",
    "- 처리 시간 기반 트리거  \n",
    "\n",
    "```scala\n",
    "import org.apache.spark.sql.streaming.Trigger\n",
    "\n",
    "activityCounts.writeStream.trigger(Trigger.ProcessingTime(\"100 seconds\"))\n",
    "  .format(\"console\").outputMode(\"complete\").start()\n",
    "```\n",
    "\n",
    "- 일회성 트리거  \n",
    "\n",
    "```scala\n",
    "import org.apache.spark.sql.streaming.Trigger\n",
    "\n",
    "activityCounts.writeStream.trigger(Trigger.Once())\n",
    "  .format(\"console\").outputMode(\"complete\").start()\n",
    "```"
   ]
  }
 ],
 "metadata": {
  "kernelspec": {
   "display_name": "spylon-kernel",
   "language": "scala",
   "name": "spylon-kernel"
  },
  "language_info": {
   "codemirror_mode": "text/x-scala",
   "file_extension": ".scala",
   "help_links": [
    {
     "text": "MetaKernel Magics",
     "url": "https://metakernel.readthedocs.io/en/latest/source/README.html"
    }
   ],
   "mimetype": "text/x-scala",
   "name": "scala",
   "pygments_lexer": "scala",
   "version": "0.4.1"
  }
 },
 "nbformat": 4,
 "nbformat_minor": 4
}
