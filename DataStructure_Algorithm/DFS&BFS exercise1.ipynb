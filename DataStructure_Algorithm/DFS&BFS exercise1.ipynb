{
 "cells": [
  {
   "cell_type": "markdown",
   "metadata": {},
   "source": [
    "#### 백준[DFS와 BFS]\n",
    "- 정점 N개, 간선 M개, 시작 정점 번호 V가 주어지고, 간선 M개의 연결 정보가 주어짐\n",
    "- 정점 번호가 작은 것을 먼저 방문\n",
    "- DFS 결과와 BFS 결과를 각각 출력"
   ]
  },
  {
   "cell_type": "code",
   "execution_count": 4,
   "metadata": {
    "scrolled": true
   },
   "outputs": [
    {
     "name": "stdout",
     "output_type": "stream",
     "text": [
      "4 5 1\n",
      "1 2\n",
      "1 3\n",
      "1 4\n",
      "2 4\n",
      "3 4\n",
      "1 2 4 3 \n",
      "1 2 3 4 "
     ]
    }
   ],
   "source": [
    "# 인접 리스트 형태로 구현\n",
    "# 2차원 리스트 내의 각 리스트에 대해 sort()를 수행해야 작은 것 먼저 방문 가능\n",
    "from collections import deque\n",
    "n, m, v = map(int, input().split())\n",
    "\n",
    "def dfs(v):\n",
    "    print(v, end=' ')\n",
    "    visited[v] = True\n",
    "    for e in graph[v]:\n",
    "        if visited[e] == False:\n",
    "            dfs(e)\n",
    "\n",
    "def bfs(v):\n",
    "    q = deque([v])\n",
    "    while q:\n",
    "        v = q.popleft()\n",
    "        if visited[v] == False:\n",
    "            visited[v] = True\n",
    "            print(v, end=' ')\n",
    "            for e in graph[v]:\n",
    "                if visited[e] == False:\n",
    "                    q.append(e)\n",
    "\n",
    "graph = [[] for _ in range(n+1)]\n",
    "for _ in range(m):\n",
    "    x, y = map(int, input().split())\n",
    "    graph[x].append(y)\n",
    "    graph[y].append(x)\n",
    "\n",
    "for e in graph:\n",
    "    e.sort()\n",
    "\n",
    "visited = [False] * (n+1)\n",
    "dfs(v)\n",
    "print()\n",
    "visited = [False] * (n+1)\n",
    "bfs(v)\n"
   ]
  },
  {
   "cell_type": "markdown",
   "metadata": {},
   "source": [
    "#### [백준] 숨바꼭질\n",
    "- n에서 k로 이동하는 최단 시간을 구하시오."
   ]
  },
  {
   "cell_type": "code",
   "execution_count": 18,
   "metadata": {},
   "outputs": [
    {
     "name": "stdout",
     "output_type": "stream",
     "text": [
      "5 17\n",
      "4\n"
     ]
    }
   ],
   "source": [
    "# bfs 한번 수행시 count를 1 늘림\n",
    "# bfs로 모든 경우를 수행해가면서 n이 k값에 도달했을 때에 나온 최소의 count를 출력\n",
    "from collections import deque\n",
    "\n",
    "n, k = map(int, input().split())\n",
    "# 방문 여부와 걸린 시간 동시에 체크\n",
    "time = [0] * 100001\n",
    "\n",
    "def bfs(start, end):\n",
    "    q = deque()\n",
    "    q.append(start)\n",
    "    while q:\n",
    "        new = q.popleft()\n",
    "        if new == end:\n",
    "            return time[new]\n",
    "        for _next in (new+1, new-1, new*2):\n",
    "            # 다음 지점이 범위 안에 들고 방문한 적이 없는지 확인\n",
    "            if 0 <= _next < 100001 and time[_next] == 0:\n",
    "                # 현재 지점까지의 시간에 1초를 더함\n",
    "                time[_next] = time[new] + 1\n",
    "                q.append(_next)\n",
    "\n",
    "print(bfs(n, k))"
   ]
  },
  {
   "cell_type": "markdown",
   "metadata": {},
   "source": [
    "#### [백준] 바이러스\n",
    "- 바이러스는 연결된 모든 컴퓨터를 감염시킨다.\n",
    "- 1번 컴퓨터를 통해 감염되는 컴퓨터의 개수를 출력하시오."
   ]
  },
  {
   "cell_type": "code",
   "execution_count": 28,
   "metadata": {},
   "outputs": [
    {
     "name": "stdout",
     "output_type": "stream",
     "text": [
      "7\n",
      "6\n",
      "1 2\n",
      "2 3\n",
      "1 5\n",
      "5 2\n",
      "5 6\n",
      "4 7\n",
      "4\n"
     ]
    }
   ],
   "source": [
    "from collections import deque\n",
    "n = int(input())\n",
    "m = int(input())\n",
    "\n",
    "# 인접 리스트로 구현\n",
    "graph = [[] for _ in range(n+1)]\n",
    "for _ in range(m):\n",
    "    x, y = map(int, input().split())\n",
    "    graph[x].append(y)\n",
    "    graph[y].append(x)\n",
    "\n",
    "visited = [False] * (n+1)\n",
    "count = 0\n",
    "\n",
    "\"\"\"\n",
    "def dfs(now):\n",
    "    global count\n",
    "    count += 1\n",
    "    visited[now] = True\n",
    "    for e in graph[now]:\n",
    "        if visited[e] == False:\n",
    "            dfs(e)\n",
    "\"\"\"\n",
    "\n",
    "def bfs(start):\n",
    "    global count\n",
    "    q = deque()\n",
    "    q.append(start)\n",
    "    while q:\n",
    "        new = q.popleft()\n",
    "        if visited[new] == False:\n",
    "            visited[new] = True\n",
    "            count += 1\n",
    "            for e in graph[new]:\n",
    "                if visited[e] == False:\n",
    "                    q.append(e)\n",
    "\n",
    "bfs(1)\n",
    "print(count - 1)"
   ]
  },
  {
   "cell_type": "markdown",
   "metadata": {},
   "source": [
    "#### [백준] 단지번호붙이기\n",
    "- 단지 번호를 출력하고, 단지내 집의 수를 정렬하여 출력하시오."
   ]
  },
  {
   "cell_type": "code",
   "execution_count": 30,
   "metadata": {},
   "outputs": [
    {
     "name": "stdout",
     "output_type": "stream",
     "text": [
      "3\n",
      "001\n",
      "101\n",
      "010\n",
      "3\n",
      "1\n",
      "1\n",
      "2\n"
     ]
    }
   ],
   "source": [
    "# 1인 곳을 모두 방문한다.\n",
    "# 단지 탐색을 하며 cnt를 1씩 증가시키고, 단지 탐색이 끝나면 cnt를 list에 담는다\n",
    "# 리스트 길이 출력, 리스트 정렬하여 출력\n",
    "n = int(input())\n",
    "graph = []\n",
    "for _ in range(n):\n",
    "    graph.append(list(map(int, input())))\n",
    "cnt = 0\n",
    "answer = []\n",
    "dx = [-1, 1, 0, 0]\n",
    "dy = [0, 0, -1, 1]\n",
    "    \n",
    "def dfs(x, y):\n",
    "    global cnt\n",
    "    graph[x][y] = 0\n",
    "    cnt += 1\n",
    "    for i in range(4):\n",
    "        nx = x + dx[i]\n",
    "        ny = y + dy[i]\n",
    "        if nx<0 or nx>=n or ny<0 or ny>=n:\n",
    "            continue\n",
    "        if graph[nx][ny] == 1:\n",
    "            dfs(nx, ny)\n",
    "\n",
    "for i in range(n):\n",
    "    for j in range(n):\n",
    "        if graph[i][j] == 1:\n",
    "            cnt = 0\n",
    "            dfs(i, j)\n",
    "            answer.append(cnt)\n",
    "            \n",
    "print(len(answer))\n",
    "for e in sorted(answer):\n",
    "    print(e)"
   ]
  },
  {
   "cell_type": "markdown",
   "metadata": {},
   "source": [
    "#### [백준] 유기농 배추"
   ]
  },
  {
   "cell_type": "code",
   "execution_count": 36,
   "metadata": {},
   "outputs": [
    {
     "name": "stdout",
     "output_type": "stream",
     "text": [
      "1\n",
      "5 3 6\n",
      "0 2\n",
      "1 2\n",
      "2 2\n",
      "3 2\n",
      "4 2\n",
      "4 0\n",
      "2\n"
     ]
    }
   ],
   "source": [
    "# 0으로된 인접 리스트를 만든 다음, 배추가 있는 곳을 모두 1로 표시\n",
    "# 그런 다음 dfs 방문을 하면서 한번의 방문시 마다 cnt를 1씩 늘림\n",
    "# 재귀 함수 호출 limit을 변경해주어야 함\n",
    "import sys\n",
    "sys.setrecursionlimit(100000)\n",
    "\n",
    "case = int(input())\n",
    "for _ in range(case):\n",
    "    warm = 0\n",
    "    m, n, k = map(int, input().split())\n",
    "    graph = [[0]*m for _ in range(n)]\n",
    "    # 배추를 1로 표시\n",
    "    for _ in range(k):\n",
    "        y, x = map(int, input().split())\n",
    "        graph[x][y] = 1\n",
    "    \n",
    "    def dfs(x, y):\n",
    "        graph[x][y] = 0\n",
    "        dx = [-1, 1, 0, 0]\n",
    "        dy = [0, 0, -1, 1]\n",
    "        for i in range(4):\n",
    "            nx = x + dx[i]\n",
    "            ny = y + dy[i]\n",
    "            if nx <0 or nx>=n or ny<0 or ny>=m:\n",
    "                continue\n",
    "            if graph[nx][ny] == 1:\n",
    "                dfs(nx,ny)\n",
    "        \n",
    "    warm = 0\n",
    "    for i in range(n):\n",
    "        for j in range(m):\n",
    "            if graph[i][j] == 1:\n",
    "                dfs(i, j)\n",
    "                warm += 1\n",
    "                \n",
    "    print(warm)"
   ]
  },
  {
   "cell_type": "markdown",
   "metadata": {},
   "source": [
    "#### [백준] 효율적인 해킹"
   ]
  },
  {
   "cell_type": "code",
   "execution_count": 39,
   "metadata": {
    "scrolled": true
   },
   "outputs": [
    {
     "name": "stdout",
     "output_type": "stream",
     "text": [
      "5 4\n",
      "3 1\n",
      "3 2\n",
      "4 3\n",
      "5 3\n",
      "1 2 "
     ]
    }
   ],
   "source": [
    "# A가 B를 신뢰함: B에서 A로 갈 수 있음\n",
    "# 인접 리스트로 구현\n",
    "# 각 컴퓨터에 대해 dfs를 수행하고 cnt 저장\n",
    "# list에 cnt를 모두 담은 뒤, cnt 값이 max(list)인 컴퓨터 번호를 출력\n",
    "# dfs로 제출 시 메모리 초과\n",
    "import sys\n",
    "sys.setrecursionlimit(100000)\n",
    "\n",
    "n, m = map(int, input().split())\n",
    "graph = [[] for _ in range(n+1)]\n",
    "for _ in range(m):\n",
    "    y, x = map(int, input().split())\n",
    "    graph[x].append(y)\n",
    "\n",
    "cnt = 0\n",
    "max_cnt = 0\n",
    "ans = []\n",
    "def dfs(start):\n",
    "    global cnt\n",
    "    visited[start] = True\n",
    "    cnt += 1\n",
    "    for e in graph[start]:\n",
    "        if visited[e] == False:\n",
    "            dfs(e)\n",
    "    \n",
    "for i in range(1, n+1):\n",
    "    visited = [False] * (n+1)\n",
    "    cnt = 0\n",
    "    dfs(i)\n",
    "    max_cnt = max(max_cnt, cnt)\n",
    "    ans.append((i,cnt))\n",
    "    \n",
    "ans.sort(key=lambda x:x[1])\n",
    "for e in ans:\n",
    "    if e[1] == max_cnt:\n",
    "        print(e[0], end=' ')"
   ]
  },
  {
   "cell_type": "code",
   "execution_count": 40,
   "metadata": {},
   "outputs": [
    {
     "name": "stdout",
     "output_type": "stream",
     "text": [
      "5 4\n",
      "3 1\n",
      "3 2\n",
      "4 3\n",
      "5 3\n",
      "1 2 "
     ]
    }
   ],
   "source": [
    "# bfs로 제출시 통과\n",
    "from collections import deque\n",
    "\n",
    "n, m = map(int, input().split())\n",
    "graph = [[] for _ in range(n+1)]\n",
    "for _ in range(m):\n",
    "    y, x = map(int, input().split())\n",
    "    graph[x].append(y)\n",
    "\n",
    "cnt = 0\n",
    "max_cnt = 0\n",
    "ans = []\n",
    "def bfs(v):\n",
    "    global cnt\n",
    "    q = deque([v])\n",
    "    visited[v] = True\n",
    "    cnt += 1\n",
    "    while q:\n",
    "        v = q.popleft()\n",
    "        for e in graph[v]:\n",
    "            if visited[e] == False:\n",
    "                q.append(e)\n",
    "                visited[e] = True\n",
    "                cnt += 1\n",
    "\n",
    "for i in range(1, n+1):\n",
    "    visited = [False] * (n+1)\n",
    "    cnt = 0\n",
    "    bfs(i)\n",
    "    max_cnt = max(max_cnt, cnt)\n",
    "    ans.append((i,cnt))\n",
    "    \n",
    "ans.sort(key=lambda x:x[1])\n",
    "for e in ans:\n",
    "    if e[1] == max_cnt:\n",
    "        print(e[0], end=' ')"
   ]
  },
  {
   "cell_type": "code",
   "execution_count": null,
   "metadata": {},
   "outputs": [],
   "source": []
  }
 ],
 "metadata": {
  "kernelspec": {
   "display_name": "Python 3",
   "language": "python",
   "name": "python3"
  },
  "language_info": {
   "codemirror_mode": {
    "name": "ipython",
    "version": 3
   },
   "file_extension": ".py",
   "mimetype": "text/x-python",
   "name": "python",
   "nbconvert_exporter": "python",
   "pygments_lexer": "ipython3",
   "version": "3.6.10"
  }
 },
 "nbformat": 4,
 "nbformat_minor": 4
}
