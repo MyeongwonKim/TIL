{
 "cells": [
  {
   "cell_type": "markdown",
   "metadata": {},
   "source": [
    "### Fish\n",
    "- N voracious fish are moving along a river. Calculate how many fish are alive."
   ]
  },
  {
   "cell_type": "code",
   "execution_count": null,
   "metadata": {},
   "outputs": [],
   "source": [
    "# 반환값: 살아남은 물고기의 수\n",
    "# edge case 처리 (요소가 하나인 경우 )\n",
    "# 하나의 queue와 하나의 stack을 사용 \n",
    "\n",
    "import collections\n",
    "\n",
    "def solution(A, B):\n",
    "    # edge case\n",
    "    if len(A) == 1:\n",
    "        return 1\n",
    "    \n",
    "    queue = collections.deque()\n",
    "    stack = []\n",
    "\n",
    "    # 우선 모두 queue에 넣기\n",
    "    for i in range(len(A)):\n",
    "        queue.append((B[i], A[i]))\n",
    "\n",
    "    # up / down 확인하면서 꺼내기\n",
    "    count = 0\n",
    "    while queue:\n",
    "        # downstream인 경우 queue에서 stack으로\n",
    "        if queue[0][0] == 1:\n",
    "            stack.append(queue.popleft())\n",
    "        # upstream인 경우\n",
    "        else:\n",
    "            # downstream 물고기가 없을 경우\n",
    "            if len(stack) == 0:\n",
    "                queue.popleft()\n",
    "                count += 1\n",
    "            # upstream과 downstream size 비교하여 먹힌 것 제외\n",
    "            else:\n",
    "                if stack[-1][1] > queue[0][1]:\n",
    "                    queue.popleft()\n",
    "                else:\n",
    "                    stack.pop()\n",
    "    # 남은 downstream의 물고기들 counting\n",
    "    count += len(stack)\n",
    "    return count"
   ]
  },
  {
   "cell_type": "code",
   "execution_count": null,
   "metadata": {},
   "outputs": [],
   "source": [
    "# downstream용 하나의 stack만 사용\n",
    "def solution(A, B):\n",
    "    survivals = 0\n",
    "    stack = []\n",
    "\n",
    "    for i in range(len(A)):\n",
    "        # downstream인 경우\n",
    "        if B[i] == 1:\n",
    "            stack.append(A[i])\n",
    "        # upstream인 경우\n",
    "        else:\n",
    "            while len(stack) != 0:\n",
    "                if stack[-1] < A[i]:\n",
    "                    stack.pop()\n",
    "                else:\n",
    "                    break\n",
    "            else:\n",
    "                survivals += 1\n",
    "    \n",
    "    survivals += len(stack)\n",
    "    return survivals"
   ]
  }
 ],
 "metadata": {
  "kernelspec": {
   "display_name": "Python 3",
   "language": "python",
   "name": "python3"
  },
  "language_info": {
   "codemirror_mode": {
    "name": "ipython",
    "version": 3
   },
   "file_extension": ".py",
   "mimetype": "text/x-python",
   "name": "python",
   "nbconvert_exporter": "python",
   "pygments_lexer": "ipython3",
   "version": "3.6.10"
  }
 },
 "nbformat": 4,
 "nbformat_minor": 4
}
