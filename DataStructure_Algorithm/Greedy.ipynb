{
 "cells": [
  {
   "cell_type": "markdown",
   "metadata": {},
   "source": [
    "### [백준] 거스름돈"
   ]
  },
  {
   "cell_type": "code",
   "execution_count": 1,
   "metadata": {},
   "outputs": [
    {
     "name": "stdout",
     "output_type": "stream",
     "text": [
      "380\n",
      "4\n"
     ]
    }
   ],
   "source": [
    "# 풀이1) 원시적인 풀이\n",
    "\n",
    "n = int(input())\n",
    "\n",
    "jandon = 1000 - n\n",
    "count = 0\n",
    "\n",
    "while jandon>0:\n",
    "  if jandon >= 500:\n",
    "    jandon -= 500\n",
    "    count += 1\n",
    "  elif jandon >= 100:\n",
    "    jandon -= 100\n",
    "    count += 1\n",
    "  elif jandon >= 50:\n",
    "    jandon -= 50\n",
    "    count += 1\n",
    "  elif jandon >= 10:\n",
    "    jandon -= 10\n",
    "    count += 1\n",
    "  elif jandon >= 5:\n",
    "    jandon -= 5\n",
    "    count += 1\n",
    "  else:\n",
    "    jandon -= 1\n",
    "    count += 1\n",
    "\n",
    "print(count)"
   ]
  },
  {
   "cell_type": "code",
   "execution_count": 2,
   "metadata": {},
   "outputs": [
    {
     "name": "stdout",
     "output_type": "stream",
     "text": [
      "380\n",
      "4\n"
     ]
    }
   ],
   "source": [
    "# 풀이2) list 사용\n",
    "\n",
    "num = int(input())\n",
    "jandon = 1000 - num\n",
    "count = 0\n",
    "\n",
    "list_coins = [500,100,50,10,5,1]\n",
    "\n",
    "for coin in list_coins:\n",
    "    count += jandon // coin      # 해당 coin으로 거슬러 줄 개수 만큼 count 값 증가\n",
    "    jandon %= coin               # 해당 coin으로 거슬러 준 후의 잔 돈\n",
    "\n",
    "print(count)"
   ]
  },
  {
   "cell_type": "markdown",
   "metadata": {},
   "source": [
    "### 큰 수의 법칙\n",
    "- 주어진 수를 M번 더하여 가장 큰 수를 출력하시오. (같은 수는 K번까지만 연속으로 더할 수 있음)"
   ]
  },
  {
   "cell_type": "code",
   "execution_count": 3,
   "metadata": {
    "collapsed": true
   },
   "outputs": [
    {
     "name": "stdout",
     "output_type": "stream",
     "text": [
      "5 8 3\n",
      "2 4 5 4 6\n",
      "46\n"
     ]
    }
   ],
   "source": [
    "# 주어진 수를 정렬한 뒤, 가장 큰 수 두개만 사용하면 됨\n",
    "# 풀이1) 가장 큰 수를 K번 더한 뒤, 두번째로 큰 수를 한번 더하고, 다시 가장 큰 수를 K번 더하는 방식\n",
    "# 더할 때 마다 횟수 M을 1씩 감소시킴. M이 0이 되면 while문 빠져나오고 result 출력\n",
    "\n",
    "N, M, K = map(int, input().split())\n",
    "data = list(map(int, input().split()))\n",
    "\n",
    "data.sort()\n",
    "first = data[N-1] \n",
    "second = data[N-2]\n",
    "\n",
    "result = 0\n",
    "\n",
    "while True:\n",
    "  for i in range(K):\n",
    "    if M == 0:\n",
    "      break\n",
    "    result += first\n",
    "    M -= 1\n",
    "  if M == 0:\n",
    "    break\n",
    "  result += second\n",
    "  M -= 1\n",
    "\n",
    "print(result)"
   ]
  },
  {
   "cell_type": "code",
   "execution_count": 4,
   "metadata": {
    "collapsed": true
   },
   "outputs": [
    {
     "name": "stdout",
     "output_type": "stream",
     "text": [
      "5 8 3\n",
      "2 4 5 4 6\n",
      "46\n"
     ]
    }
   ],
   "source": [
    "# 풀이2) 가장 큰 수가 더해지는 횟수를 수식으로 계산하기\n",
    "\n",
    "N, M, K = map(int, input().split())\n",
    "data = list(map(int, input().split()))\n",
    "\n",
    "data.sort()\n",
    "first = data[N-1] \n",
    "second = data[N-2]\n",
    "\n",
    "# 가장 큰 수가 더해지는 횟수. (first + first + ... + first + second)를 하나의 단위로 봄\n",
    "count = (M // (K+1)) * K\n",
    "count += M % (K+1)\n",
    "\n",
    "result = 0\n",
    "result += count * first\n",
    "result += (M - count) * second\n",
    "\n",
    "print(result)"
   ]
  },
  {
   "cell_type": "markdown",
   "metadata": {},
   "source": [
    "### 숫자 카드 게임\n",
    "- 주어진 카드 중 한 행을 선택하고, 거기서 최소값을 선택해야함. 경우의 수 중 가장 큰 수를 출력하시오."
   ]
  },
  {
   "cell_type": "code",
   "execution_count": 9,
   "metadata": {},
   "outputs": [
    {
     "name": "stdout",
     "output_type": "stream",
     "text": [
      "2 4\n",
      "7 3 1 8\n",
      "3 3 3 4\n",
      "3\n"
     ]
    }
   ],
   "source": [
    "# 각 행마다 가장 작은 수를 찾은 뒤에 그 수들 중 가장 큰 수를 찾기\n",
    "n, m = map(int, input().split())\n",
    "\n",
    "final = 0\n",
    "for i in range(n):\n",
    "    data = list(map(int, input().split()))\n",
    "    final = max(final, min(data))\n",
    "print(final)"
   ]
  },
  {
   "cell_type": "markdown",
   "metadata": {},
   "source": [
    "### 1이 될 때까지\n",
    "- N이 주어졌을 때, 1) N-1 2) N//K 를 수행하여 1로 만드는 최소 횟수를 구하라 ( 2)는 나누어떨어질 때만 사용 가능)"
   ]
  },
  {
   "cell_type": "code",
   "execution_count": 18,
   "metadata": {},
   "outputs": [
    {
     "name": "stdout",
     "output_type": "stream",
     "text": [
      "30 4\n",
      "7\n"
     ]
    }
   ],
   "source": [
    "# 풀이 1)\n",
    "n, k = map(int, input().split())\n",
    "\n",
    "count = 0\n",
    "while n >= k:\n",
    "    if n % k !=0:\n",
    "        n -= 1\n",
    "        count += 1\n",
    "    else:\n",
    "        n //= k\n",
    "        count += 1\n",
    "\n",
    "while n > 1:\n",
    "    n -= 1\n",
    "    count += 1\n",
    "\n",
    "print(count)"
   ]
  },
  {
   "cell_type": "code",
   "execution_count": 22,
   "metadata": {},
   "outputs": [
    {
     "name": "stdout",
     "output_type": "stream",
     "text": [
      "30 4\n",
      "7\n"
     ]
    }
   ],
   "source": [
    "# 풀이 2)\n",
    "n, k = map(int, input().split())\n",
    "\n",
    "count = 0\n",
    "\n",
    "\n",
    "while True:\n",
    "    target = (n // k) * k\n",
    "    count += (n - target)     \n",
    "    n = target                  # n을 k로 나누어 떨어지는 수로 만들기\n",
    "    if n < k: \n",
    "        break\n",
    "    n //= k\n",
    "    count += 1\n",
    "\n",
    "count += (n - 1)               # 남은 수에 대해 1씩 빼기\n",
    "\n",
    "print(count)\n"
   ]
  },
  {
   "cell_type": "markdown",
   "metadata": {},
   "source": [
    "### [백준]ATM\n",
    "- 각 사람의 인출 시간이 다를 때, 최소 인출 시간 총합을 구하라.\n",
    "- for문을 돌리면서 합을 구하고, 다시 합이 매번 더해진 총합을 구한다."
   ]
  },
  {
   "cell_type": "code",
   "execution_count": null,
   "metadata": {},
   "outputs": [],
   "source": [
    "n = int(input())\n",
    "data = list(map(int, input().split()))\n",
    "\n",
    "data.sort()\n",
    "sum = 0\n",
    "total = 0\n",
    "for i in data:\n",
    "  sum += i\n",
    "  total += sum\n",
    "\n",
    "print(total)"
   ]
  },
  {
   "cell_type": "markdown",
   "metadata": {},
   "source": [
    "### [백준] 동전0\n",
    "- 주어진 동전을 이용해 합K를 만드는 최소의 동전 개수 출력"
   ]
  },
  {
   "cell_type": "code",
   "execution_count": null,
   "metadata": {},
   "outputs": [],
   "source": [
    "# K보다 작은 수 중 가장 큰 수부터 차례대로 사용하여 K를 만든다. \n",
    "\n",
    "n, k = map(int, input().split())\n",
    "data = []\n",
    "count = 0\n",
    "\n",
    "for i in range(n):\n",
    "  data.append(int(input()))\n",
    "data.sort(reverse=True)\n",
    "\n",
    "for j in data:\n",
    "  if k >= j:\n",
    "    count += (k // j)\n",
    "    k %= j \n",
    "\n",
    "print(count)"
   ]
  },
  {
   "cell_type": "markdown",
   "metadata": {},
   "source": [
    "### [백준] 뒤집기\n",
    "- 0, 1로 이루어진 문자열에 대해 연속된 하나 이상의 숫자를 뒤집어서 모두 0 또는 모두 1로 바꾸는 최소 횟수 출력"
   ]
  },
  {
   "cell_type": "code",
   "execution_count": 11,
   "metadata": {},
   "outputs": [
    {
     "name": "stdout",
     "output_type": "stream",
     "text": [
      "1100101100\n",
      "3\n"
     ]
    }
   ],
   "source": [
    "# 숫자가 바뀔 때 마다 counting. count를 2로 나눈 뒤 올림하여 출력\n",
    "import math\n",
    "\n",
    "s = input()\n",
    "count = 0\n",
    "\n",
    "for i in range(len(s)-1):\n",
    "    if s[i] != s[i+1]:\n",
    "        count += 1\n",
    "        \n",
    "print(math.ceil(count/2))"
   ]
  },
  {
   "cell_type": "code",
   "execution_count": null,
   "metadata": {},
   "outputs": [],
   "source": [
    "# 다른 풀이. 모두 0으로 바꾸거나 모두 1로 바꾸는 경우의 수 둘 다 계산 후 min 처리\n",
    "s = input()\n",
    "count0 = 0   # 모두 0으로\n",
    "count1 = 0   # 모두 1로\n",
    "\n",
    "if s[0] == '1':\n",
    "    count0 += 1\n",
    "else:\n",
    "    count1 += 0\n",
    "\n",
    "for i in range(len(s)-1):\n",
    "    if s[i] != s[i+1]:\n",
    "        if s[i+1] == '1':\n",
    "            count0 += 1\n",
    "        else:\n",
    "            count1 += 0\n",
    "\n",
    "print(min(count0, count1))"
   ]
  },
  {
   "cell_type": "markdown",
   "metadata": {},
   "source": [
    "### [백준] 등수 매기기\n",
    "- 예상 등수와 실제 등수의 차이를 불만도라고 할 때, 전체의 불만도를 최소로 만드는 프로그램을 작성하고, 그 최소 불만도를 출력"
   ]
  },
  {
   "cell_type": "code",
   "execution_count": 12,
   "metadata": {},
   "outputs": [
    {
     "name": "stdout",
     "output_type": "stream",
     "text": [
      "5\n",
      "1\n",
      "5\n",
      "3\n",
      "1\n",
      "2\n",
      "3\n"
     ]
    }
   ],
   "source": [
    "# 우선 입력된 수들을 list로 받은 다음 sort\n",
    "# sort 후에 1씩 증가하는 수열과의 차를 구해서 더하면 되는듯?\n",
    "\n",
    "n = int(input())\n",
    "grades = []\n",
    "total = 0\n",
    "num = 1\n",
    "\n",
    "for _ in range(n):\n",
    "    grades.append(int(input()))\n",
    "\n",
    "grades.sort()\n",
    "\n",
    "for i in grades:\n",
    "    total += abs(i-num)\n",
    "    num += 1\n",
    "\n",
    "print(total)"
   ]
  },
  {
   "cell_type": "markdown",
   "metadata": {},
   "source": [
    "### [백준] 배\n",
    "- 무게 제한이 있는 크레인들이 N대 있다. 크레인으로 모든 박스를 옮기는 최소 시간을 구하시오."
   ]
  },
  {
   "cell_type": "code",
   "execution_count": 13,
   "metadata": {
    "collapsed": true
   },
   "outputs": [
    {
     "name": "stdout",
     "output_type": "stream",
     "text": [
      "3\n",
      "6\n",
      "1\n",
      "3\n",
      "1\n"
     ]
    }
   ],
   "source": [
    "# 엣지 케이스 처리: 만약 limit의 모든 요소 보다 큰 weight 요소가 있으면 -1 출력\n",
    "# 우선 두 리스트를 내림차순 정렬함. 그런 다음 크레인 개수만큼 제거시켜나간다.\n",
    "# 각 크레인이 처리할 수 있는 가장 무거운 것부터 차례로 제거시켜나가야 함\n",
    "# 각 크레인이 현재 옮겨야 하는 박스 번호 필요\n",
    "# 각 박스를 옮겼는지의 여부 필요\n",
    "# 그런 다음 각 크레인에 대해 옮길 수 있는 박스를 찾고 옮겨나가는 작업 수행. 매 분 마다 반복문 수행\n",
    "import sys\n",
    "\n",
    "n = int(input())\n",
    "cranes = list(map(int, input().split()))\n",
    "m = int(input())\n",
    "boxes = list(map(int, input().split()))\n",
    "\n",
    "# 엣지 케이스 처리\n",
    "if max(cranes) < max(boxes):\n",
    "    print(-1)\n",
    "    sys.exit()\n",
    "\n",
    "# 각 크레인이 현재 옮겨야 하는 박스의 번호 \n",
    "position = [0] * n\n",
    "# 각 박스를 옮겼는지의 여부\n",
    "checked = [False] * m\n",
    "\n",
    "cranes.sort(reverse=True)\n",
    "boxes.sort(reverse=True)\n",
    "\n",
    "count = 0\n",
    "time = 0\n",
    "\n",
    "while True:\n",
    "    if count == len(boxes):\n",
    "        break\n",
    "    for i in range(n):\n",
    "        while position[i] < len(boxes):\n",
    "            # 만약 해당 박스가 옮겨지지 않았고, 무게제한 내에 있다면 옮겨라\n",
    "            if not checked[position[i]] and cranes[i] >= boxes[position[i]]:\n",
    "                checked[position[i]] = True\n",
    "                count += 1\n",
    "                position[i] += 1\n",
    "                break\n",
    "            # 만약 그렇지 않으면 그냥 다음 박스를 체크하라\n",
    "            position[i] += 1\n",
    "    time += 1\n",
    "\n",
    "print(time)"
   ]
  },
  {
   "cell_type": "code",
   "execution_count": null,
   "metadata": {},
   "outputs": [],
   "source": []
  }
 ],
 "metadata": {
  "kernelspec": {
   "display_name": "Python 3",
   "language": "python",
   "name": "python3"
  },
  "language_info": {
   "codemirror_mode": {
    "name": "ipython",
    "version": 3
   },
   "file_extension": ".py",
   "mimetype": "text/x-python",
   "name": "python",
   "nbconvert_exporter": "python",
   "pygments_lexer": "ipython3",
   "version": "3.6.10"
  }
 },
 "nbformat": 4,
 "nbformat_minor": 4
}
