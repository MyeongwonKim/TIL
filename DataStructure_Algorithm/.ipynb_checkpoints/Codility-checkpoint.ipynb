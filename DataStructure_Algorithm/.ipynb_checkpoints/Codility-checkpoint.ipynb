{
 "cells": [
  {
   "cell_type": "markdown",
   "metadata": {},
   "source": [
    "### Binary Gap\n",
    "- int가 하나 주어질 때, 이것을 2진수로 바꾼 수가 갖는 가장 큰 binary gap 출력\n",
    "- binary gap: 1과 1 사이에 연속되어 나타나는 0의 수"
   ]
  },
  {
   "cell_type": "code",
   "execution_count": null,
   "metadata": {},
   "outputs": [],
   "source": [
    "# 순차적으로 binary gap을 세고 max(cnt)로 구하기\n",
    "# 0->1인 경우 체크\n",
    "def solution(N):\n",
    "    str_bin = bin(N)[2:]\n",
    "    cnt = 0\n",
    "    gap = 0\n",
    "    \n",
    "    for i in range(1, len(str_bin)-1):\n",
    "        if int(str_bin[i]) == 0:\n",
    "            cnt += 1\n",
    "            if int(str_bin[i+1]) == 1:\n",
    "                gap = max(gap, cnt)\n",
    "                cnt = 0\n",
    "    return gap"
   ]
  },
  {
   "cell_type": "code",
   "execution_count": null,
   "metadata": {},
   "outputs": [],
   "source": [
    "# 다른 풀이 (1의 인덱스를 구하여 계산)\n",
    "def solution(N):\n",
    "    str_binary = bin(N)[2:]\n",
    "    \n",
    "    one_index = []\n",
    "    for i in range(len(str_binary)):\n",
    "        if str_binary[i] == '1':\n",
    "            one_index.append(i)\n",
    "    # print(one_index) // [0, 6, 10]\n",
    "    \n",
    "    # 1의 인덱스를 기반으로 gap 계산\n",
    "    binary_gap = []\n",
    "    binary_gap.append(0)\n",
    "    for i in range(len(one_index)-1):\n",
    "        binary_gap.append(one_index[i+1] - one_index[i] - 1)\n",
    "    return max(binary_gap)"
   ]
  },
  {
   "cell_type": "markdown",
   "metadata": {},
   "source": [
    "### FrogJump\n",
    "- X -> Y (또는 그 이상) 로 D 만큼의 점프를 몇 번해야 가는지 계산"
   ]
  },
  {
   "cell_type": "code",
   "execution_count": 1,
   "metadata": {},
   "outputs": [],
   "source": [
    "# (Y-X) % D == 0 인 경우: return (Y-X) // D\n",
    "# (Y-X) % D != 0 인 경우: return (Y-X) // D + 1\n",
    "# O(1)\n",
    "\n",
    "def solution(X, Y, D):\n",
    "    if (Y-X) % D == 0:\n",
    "        return (Y-X) // D\n",
    "    else:\n",
    "        return (Y-X) // D + 1"
   ]
  },
  {
   "cell_type": "code",
   "execution_count": null,
   "metadata": {},
   "outputs": [],
   "source": [
    "# 삼항연산자 사용\n",
    "def solution(X, Y, D):\n",
    "    return (Y-X) // D + ((Y-X) % D == 0 ? 0:1)"
   ]
  },
  {
   "cell_type": "markdown",
   "metadata": {},
   "source": [
    "### FrogRiverOne"
   ]
  },
  {
   "cell_type": "code",
   "execution_count": 2,
   "metadata": {},
   "outputs": [],
   "source": [
    "# 1 ~ X 까지의 모든 수가 나오는 시점 리턴\n",
    "# 불가능시 -1 리턴\n",
    "# count 배열 사용\n",
    "# N, X 값이 100,000 이하이므로 O(N^2)으로 풀어도 될 듯 -> 통과하지 못함\n",
    "\n",
    "def solution(X, A):\n",
    "    count = [0] * (X+1)\n",
    "    \n",
    "    for i in range(len(A)):\n",
    "        count[A[i]] += 1\n",
    "        AllCovered = True\n",
    "        for j in range(1, len(count)):\n",
    "            if count[j] == 0:\n",
    "                AllCovered = False\n",
    "        if AllCovered == True:\n",
    "            return i\n",
    "    return -1   "
   ]
  },
  {
   "cell_type": "code",
   "execution_count": null,
   "metadata": {},
   "outputs": [],
   "source": [
    "#O(N)\n",
    "def solution(X, A):\n",
    "    count = [0] * (X+1)\n",
    "    sum_ = 0\n",
    "    for i in range(len(A)):\n",
    "        if count[A[i]] == 0:\n",
    "            count[A[i]] += 1\n",
    "            sum_ += 1\n",
    "        if sum_ == X:\n",
    "            return i\n",
    "    return -1"
   ]
  }
 ],
 "metadata": {
  "kernelspec": {
   "display_name": "Python 3",
   "language": "python",
   "name": "python3"
  },
  "language_info": {
   "codemirror_mode": {
    "name": "ipython",
    "version": 3
   },
   "file_extension": ".py",
   "mimetype": "text/x-python",
   "name": "python",
   "nbconvert_exporter": "python",
   "pygments_lexer": "ipython3",
   "version": "3.6.10"
  }
 },
 "nbformat": 4,
 "nbformat_minor": 4
}
