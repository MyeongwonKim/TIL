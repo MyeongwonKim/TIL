{
 "cells": [
  {
   "cell_type": "markdown",
   "metadata": {},
   "source": [
    "### Binary Gap\n"
   ]
  },
  {
   "cell_type": "code",
   "execution_count": null,
   "metadata": {},
   "outputs": [],
   "source": [
    "def solution(N):\n",
    "    str_bin = bin(N)[2:]\n",
    "    # 순차적으로 binary gap을 세고 max(cnt)로 구하기\n",
    "    # 0->1인 경우 체크\n",
    "    cnt = 0\n",
    "    gap = 0\n",
    "    \n",
    "    for i in range(1, len(str_bin)-1):\n",
    "        if int(str_bin[i]) == 0:\n",
    "            cnt += 1\n",
    "            if int(str_bin[i+1]) == 1:\n",
    "                gap = max(gap, cnt)\n",
    "                cnt = 0\n",
    "    return gap"
   ]
  }
 ],
 "metadata": {
  "kernelspec": {
   "display_name": "Python 3",
   "language": "python",
   "name": "python3"
  },
  "language_info": {
   "codemirror_mode": {
    "name": "ipython",
    "version": 3
   },
   "file_extension": ".py",
   "mimetype": "text/x-python",
   "name": "python",
   "nbconvert_exporter": "python",
   "pygments_lexer": "ipython3",
   "version": "3.6.10"
  }
 },
 "nbformat": 4,
 "nbformat_minor": 4
}
