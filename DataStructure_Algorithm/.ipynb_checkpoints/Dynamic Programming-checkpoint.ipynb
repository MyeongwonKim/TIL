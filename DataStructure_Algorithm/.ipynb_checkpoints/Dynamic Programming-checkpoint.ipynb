{
 "cells": [
  {
   "cell_type": "markdown",
   "metadata": {},
   "source": [
    "### 다이나믹 프로그래밍\n",
    "- 사용조건\n",
    "  - 큰 문제를 작은 문제로 나눌 수 있다.\n",
    "  - 작은 문제에서 구한 정답은 그것을 포함하는 큰 문제에서도 동일하다.\n",
    "- 메모이제이션(memoization) 기법: 한번 구한 결과를 메모리 공간에 넣고 같은 식 호출 시 그 결과를 그대로 가져오는 기법\n",
    "- 탑다운 방식 (메모이제이션): 재귀 함수를 이용한 구현\n",
    "- 보텀업 방식 (전형적인 DP): 반복문을 이용한 구현\n",
    "- 주어진 문제가 완전 탐색으로 시간이 매우 오래 걸릴 경우 DP를 적용할 수 있는지 확인!\n",
    "- recursion depth 제한으로 인해 보텀업 방식으로 먼저 구현하는 것을 권장"
   ]
  },
  {
   "cell_type": "code",
   "execution_count": 1,
   "metadata": {},
   "outputs": [
    {
     "name": "stdout",
     "output_type": "stream",
     "text": [
      "218922995834555169026\n"
     ]
    }
   ],
   "source": [
    "# 피보나치 수열을 DP Top-down 방식으로 구현\n",
    "# O(N) / 재귀만 사용했을 경우에는 O(2^N). 엄청난 차이임\n",
    "\n",
    "d = [0] * 100\n",
    "\n",
    "def fibo(x):\n",
    "    if x == 1 or x == 2:\n",
    "        return 1\n",
    "    # 계산한 적이 있는 문제는 리스트에서 반환\n",
    "    if d[x] != 0:\n",
    "        return d[x]\n",
    "    # 계산한 적이 없는 문제는 계산한 값을 리스트에 넣고 반환\n",
    "    d[x] = fibo(x-1) + fibo(x-2)\n",
    "    return d[x]\n",
    "\n",
    "print(fibo(99))"
   ]
  },
  {
   "cell_type": "code",
   "execution_count": 3,
   "metadata": {},
   "outputs": [
    {
     "name": "stdout",
     "output_type": "stream",
     "text": [
      "218922995834555169026\n"
     ]
    }
   ],
   "source": [
    "# 피보나치 수열 DP bottom-up 방식 구현\n",
    "\n",
    "d = [0] * 100\n",
    "\n",
    "d[1] = 1\n",
    "d[2] = 1\n",
    "n = 99\n",
    "\n",
    "for i in range(3, n+1):\n",
    "    d[i] = d[i-1] + d[i-2]\n",
    "    \n",
    "print(d[n])"
   ]
  },
  {
   "cell_type": "markdown",
   "metadata": {},
   "source": [
    "### 1로 만들기\n",
    "- 정수 X를 5, 3, 2로 나누거나 (나누어 떨어지는 경우에만) 1을 빼는 과정 반복\n",
    "- 1을 얻는 최소의 횟수 출력"
   ]
  },
  {
   "cell_type": "code",
   "execution_count": 8,
   "metadata": {},
   "outputs": [
    {
     "name": "stdout",
     "output_type": "stream",
     "text": [
      "26\n",
      "3\n"
     ]
    }
   ],
   "source": [
    "# 보텀업 방식 ( 점화식: ai = min(ai-1, ai/2, ai/3, ai/5) + 1 )\n",
    "n = int(input())\n",
    "\n",
    "# DP 테이블 초기화 (각 수를 구성하는 최소 횟수를 담는 배열. d[1]=0으로 설정됨)\n",
    "d = [0] * 30001\n",
    "\n",
    "for i in range(2, n + 1):\n",
    "    d[i] = d[i-1] + 1\n",
    "    if i % 2 == 0:\n",
    "        d[i] = min(d[i], d[i // 2] + 1)\n",
    "    if i % 3 == 0:\n",
    "        d[i] = min(d[i], d[i // 3] + 1)\n",
    "    if i % 5 == 0:\n",
    "        d[i] = min(d[i], d[i // 5] + 1)\n",
    "    # 결과적으로 2부터 n+1까지를 돌면서 최소 횟수를 배열에 담게 됨\n",
    "    \n",
    "print(d[n])"
   ]
  },
  {
   "cell_type": "code",
   "execution_count": null,
   "metadata": {},
   "outputs": [],
   "source": []
  }
 ],
 "metadata": {
  "kernelspec": {
   "display_name": "Python 3",
   "language": "python",
   "name": "python3"
  },
  "language_info": {
   "codemirror_mode": {
    "name": "ipython",
    "version": 3
   },
   "file_extension": ".py",
   "mimetype": "text/x-python",
   "name": "python",
   "nbconvert_exporter": "python",
   "pygments_lexer": "ipython3",
   "version": "3.6.10"
  }
 },
 "nbformat": 4,
 "nbformat_minor": 4
}
