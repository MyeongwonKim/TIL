{
 "cells": [
  {
   "cell_type": "markdown",
   "metadata": {},
   "source": [
    "### Binary Gap\n",
    "- int가 하나 주어질 때, 이것을 2진수로 바꾼 수가 갖는 가장 큰 binary gap 출력\n",
    "- binary gap: 1과 1 사이에 연속되어 나타나는 0의 수"
   ]
  },
  {
   "cell_type": "code",
   "execution_count": null,
   "metadata": {},
   "outputs": [],
   "source": [
    "# 순차적으로 binary gap을 세고 max(cnt)로 구하기\n",
    "# 0->1인 경우 체크\n",
    "def solution(N):\n",
    "    str_bin = bin(N)[2:]\n",
    "    cnt = 0\n",
    "    gap = 0\n",
    "    \n",
    "    for i in range(1, len(str_bin)-1):\n",
    "        if int(str_bin[i]) == 0:\n",
    "            cnt += 1\n",
    "            if int(str_bin[i+1]) == 1:\n",
    "                gap = max(gap, cnt)\n",
    "                cnt = 0\n",
    "    return gap"
   ]
  },
  {
   "cell_type": "code",
   "execution_count": null,
   "metadata": {},
   "outputs": [],
   "source": [
    "# 다른 풀이 (1의 인덱스를 구하여 계산)\n",
    "def solution(N):\n",
    "    str_binary = bin(N)[2:]\n",
    "    \n",
    "    one_index = []\n",
    "    for i in range(len(str_binary)):\n",
    "        if str_binary[i] == '1':\n",
    "            one_index.append(i)\n",
    "    # print(one_index) // [0, 6, 10]\n",
    "    \n",
    "    # 1의 인덱스를 기반으로 gap 계산\n",
    "    binary_gap = []\n",
    "    binary_gap.append(0)\n",
    "    for i in range(len(one_index)-1):\n",
    "        binary_gap.append(one_index[i+1] - one_index[i] - 1)\n",
    "    return max(binary_gap)"
   ]
  },
  {
   "cell_type": "markdown",
   "metadata": {},
   "source": [
    "### FrogJump\n",
    "- X -> Y (또는 그 이상) 로 D 만큼의 점프를 몇 번해야 가는지 계산"
   ]
  },
  {
   "cell_type": "code",
   "execution_count": 1,
   "metadata": {},
   "outputs": [],
   "source": [
    "# (Y-X) % D == 0 인 경우: return (Y-X) // D\n",
    "# (Y-X) % D != 0 인 경우: return (Y-X) // D + 1\n",
    "# O(1)\n",
    "\n",
    "def solution(X, Y, D):\n",
    "    if (Y-X) % D == 0:\n",
    "        return (Y-X) // D\n",
    "    else:\n",
    "        return (Y-X) // D + 1"
   ]
  },
  {
   "cell_type": "code",
   "execution_count": null,
   "metadata": {},
   "outputs": [],
   "source": [
    "# 삼항연산자 사용\n",
    "def solution(X, Y, D):\n",
    "    remainder = 0 if (Y-X) % D == 0 else 1\n",
    "    return (Y-X) // D + remainder"
   ]
  },
  {
   "cell_type": "markdown",
   "metadata": {},
   "source": [
    "### FrogRiverOne"
   ]
  },
  {
   "cell_type": "code",
   "execution_count": 2,
   "metadata": {},
   "outputs": [],
   "source": [
    "# 1 ~ X 까지의 모든 수가 나오는 시점 리턴\n",
    "# 불가능시 -1 리턴\n",
    "# count 배열 사용\n",
    "# N, X 값이 100,000 이하이므로 O(N^2)으로 풀어도 될 듯 -> 통과하지 못함\n",
    "\n",
    "def solution(X, A):\n",
    "    count = [0] * (X+1)\n",
    "    \n",
    "    for i in range(len(A)):\n",
    "        count[A[i]] += 1\n",
    "        AllCovered = True\n",
    "        for j in range(1, len(count)):\n",
    "            if count[j] == 0:\n",
    "                AllCovered = False\n",
    "        if AllCovered == True:\n",
    "            return i\n",
    "    return -1   "
   ]
  },
  {
   "cell_type": "code",
   "execution_count": null,
   "metadata": {},
   "outputs": [],
   "source": [
    "#O(N)\n",
    "def solution(X, A):\n",
    "    count = [0] * (X+1)\n",
    "    sum_ = 0\n",
    "    for i in range(len(A)):\n",
    "        if count[A[i]] == 0:\n",
    "            count[A[i]] += 1\n",
    "            sum_ += 1\n",
    "        if sum_ == X:\n",
    "            return i\n",
    "    return -1"
   ]
  },
  {
   "cell_type": "markdown",
   "metadata": {},
   "source": [
    "### OddOccurrencesInArray\n",
    "- 배열 내에서 pair되지 않은 하나의 요소 찾아서 출력"
   ]
  },
  {
   "cell_type": "code",
   "execution_count": 1,
   "metadata": {},
   "outputs": [],
   "source": [
    "# 비트연산자 ^ 사용. 두 비트가 다를 때만 1임. 따라서 유일한 하나의 원소만 남음\n",
    "\n",
    "def solution(A):\n",
    "    sum_ = A[0]\n",
    "    \n",
    "    for i in range(1, len(A)):\n",
    "        sum_ = sum_ ^ A[i]\n",
    "    \n",
    "    return sum_"
   ]
  },
  {
   "cell_type": "code",
   "execution_count": null,
   "metadata": {},
   "outputs": [],
   "source": [
    "# 다른 풀이\n",
    "from functools import reduce\n",
    "def solution(A):\n",
    "    return reduce(lambda x,y:x^y, A)"
   ]
  },
  {
   "cell_type": "code",
   "execution_count": null,
   "metadata": {},
   "outputs": [],
   "source": [
    "# 다른 풀이 (sorting 후 2칸 씩 순회하며 확인)\n",
    "def solution(A):\n",
    "    if len(A) == 1:\n",
    "        return A[0]\n",
    "\n",
    "    A = sorted(A)\n",
    "    print(A)\n",
    "    for i in range(0, len(A), 2):\n",
    "        if i+1 == len(A):\n",
    "            return A[i]\n",
    "        if A[i] != A[i+1]:\n",
    "            return A[i]"
   ]
  },
  {
   "cell_type": "markdown",
   "metadata": {},
   "source": [
    "### PermMissingElem\n",
    "- 1 ~ N+1 중 없는 요소 출력"
   ]
  },
  {
   "cell_type": "code",
   "execution_count": 6,
   "metadata": {
    "collapsed": true
   },
   "outputs": [
    {
     "ename": "SyntaxError",
     "evalue": "invalid syntax (<ipython-input-6-63b7ee26aafc>, line 10)",
     "output_type": "error",
     "traceback": [
      "\u001b[1;36m  File \u001b[1;32m\"<ipython-input-6-63b7ee26aafc>\"\u001b[1;36m, line \u001b[1;32m10\u001b[0m\n\u001b[1;33m    print(def(nums))\u001b[0m\n\u001b[1;37m            ^\u001b[0m\n\u001b[1;31mSyntaxError\u001b[0m\u001b[1;31m:\u001b[0m invalid syntax\n"
     ]
    }
   ],
   "source": [
    "# 원소의 범위가 1~100001이므로 count 배열 사용\n",
    "# 먼저 edge case 처리\n",
    "\n",
    "def solution(A):\n",
    "    if len(A) == 0:\n",
    "        return 1\n",
    "    if len(A) == 1:\n",
    "        if A[0] == 1: return 2\n",
    "        else:         return 1\n",
    "    \n",
    "    count = [0] * 100002\n",
    "    for e in A:\n",
    "        count[e] += 1\n",
    "        \n",
    "    for i in range(1, len(count)):\n",
    "        if count[i] == 0:\n",
    "            return i"
   ]
  },
  {
   "cell_type": "markdown",
   "metadata": {},
   "source": [
    "### TapeEquilibrium\n",
    "- 배열에서 차의 최소값 출력"
   ]
  },
  {
   "cell_type": "code",
   "execution_count": null,
   "metadata": {},
   "outputs": [],
   "source": [
    "# 순차적으로 차를 구하며 최소값 업데이트\n",
    "# O(N)\n",
    "def solution(A):\n",
    "    sum_left = A[0]\n",
    "    sum_right = sum(A) - A[0]\n",
    "    diff = abs(sum_left - sum_right)\n",
    "    \n",
    "    for i in range(1, len(A)-1):\n",
    "        sum_left += A[i]\n",
    "        sum_right -= A[i]\n",
    "        diff = min(diff, abs(sum_left - sum_right))\n",
    "        \n",
    "    return diff"
   ]
  },
  {
   "cell_type": "markdown",
   "metadata": {},
   "source": [
    "### MaxCounters\n",
    "- counter에 대한 operation 진행 후 최종적인 counter 배열 반환"
   ]
  },
  {
   "cell_type": "code",
   "execution_count": 1,
   "metadata": {},
   "outputs": [],
   "source": [
    "# O(N^2)\n",
    "def solution(N, A):\n",
    "    ans = [0] * N\n",
    "    max_ = 0\n",
    "    for a in A:\n",
    "        if a <= N:\n",
    "            ans[a-1] += 1\n",
    "            max_ = max(max_, ans[a-1])\n",
    "        else:\n",
    "            for i in range(N):\n",
    "                ans[i] = max_\n",
    "    return ans"
   ]
  },
  {
   "cell_type": "code",
   "execution_count": null,
   "metadata": {},
   "outputs": [],
   "source": [
    "# O(N+M)\n",
    "# max operation의 경우 max_curr 업데이트\n",
    "# increase(X)에서도 max_curr 고려\n",
    "# 마지막에 max_curr 보다 작은 값들 max_curr로 수정\n",
    "def solution(N, A):\n",
    "    ans = [0] * N\n",
    "    max_ = 0\n",
    "    max_curr = 0\n",
    "    for a in A:\n",
    "        if a <= N:\n",
    "            if ans[a-1] < max_curr:\n",
    "                ans[a-1] = max_curr + 1\n",
    "            else:\n",
    "                ans[a-1] += 1\n",
    "            max_ = max(max_, ans[a-1])\n",
    "        else:\n",
    "            max_curr = max_\n",
    "    \n",
    "    for i in range(N):\n",
    "        if ans[i] < max_curr:\n",
    "            ans[i] = max_curr\n",
    "    \n",
    "    return ans"
   ]
  },
  {
   "cell_type": "markdown",
   "metadata": {},
   "source": [
    "### CountDiv\n",
    "- A와 B 사이에 K로 나누어 떨어지는 수 개수는?"
   ]
  },
  {
   "cell_type": "code",
   "execution_count": null,
   "metadata": {},
   "outputs": [],
   "source": [
    "# 단순히 loop를 돌면서 체크하면 O(N) -> TimeOut 발생\n",
    "# O(1)\n",
    "def solution(A, B, K):\n",
    "    start = A // K\n",
    "    end = B // K\n",
    "    ans = end - start\n",
    "    if A % K == 0:\n",
    "        ans += 1\n",
    "    return ans"
   ]
  },
  {
   "cell_type": "markdown",
   "metadata": {},
   "source": [
    "### MissingInteger\n",
    "- 주어진 배열 내에 포함되지 않은 최소의 양의 정수 출력"
   ]
  },
  {
   "cell_type": "code",
   "execution_count": null,
   "metadata": {},
   "outputs": [],
   "source": [
    "# count 배열 사용. 음수는 무시함\n",
    "# 그런 다음 loop를 돌면서 최소 양수 return. O(N)\n",
    "\n",
    "def solution(A):\n",
    "    count = [0] * 1000001\n",
    "    for e in A:\n",
    "        if e >= 0:\n",
    "            count[e] += 1\n",
    "    \n",
    "    for i in range(1, len(count)):\n",
    "        if count[i] == 0:\n",
    "            return i"
   ]
  },
  {
   "cell_type": "markdown",
   "metadata": {},
   "source": [
    "### PermCheck\n",
    "- 주어진 배열이 1,2,3,...,N-1,N이면 permutation. permutation인지 아닌지 확인하라"
   ]
  },
  {
   "cell_type": "code",
   "execution_count": 1,
   "metadata": {},
   "outputs": [],
   "source": [
    "# sorting 이용\n",
    "def solution(A):\n",
    "    A.sort()\n",
    "    ans = 1\n",
    "    for i in range(1,len(A)):\n",
    "        if A[i] - A[i-1] != 1:\n",
    "            ans = 0\n",
    "    \n",
    "    if max(A) != len(A):\n",
    "        ans = 0\n",
    "            \n",
    "    return ans"
   ]
  },
  {
   "cell_type": "code",
   "execution_count": null,
   "metadata": {},
   "outputs": [],
   "source": [
    "# 다른 풀이\n",
    "def solution(A):\n",
    "    if max(A) != len(A) or len(set(A)) != len(A):\n",
    "        return 0\n",
    "    return 1"
   ]
  },
  {
   "cell_type": "markdown",
   "metadata": {},
   "source": [
    "### GenomicRangeQuery\n",
    "- ACGT (1,2,3,4) sequence 에 대해 각 범위에 대한 최소값으로 이루어진 배열 반환"
   ]
  },
  {
   "cell_type": "code",
   "execution_count": 1,
   "metadata": {},
   "outputs": [],
   "source": [
    "# A,C,G,T -> 1,2,3,4\n",
    "# P[K] ~ Q[K] : find minimal IF\n",
    "# brute force: P, Q를 순회하면서 각 범위에 대해 S를 순회하여 답을 찾음\n",
    "# O(N*M) -> 정확도는 있으나 large example에서 시간 초과. 62% \n",
    "\n",
    "def solution(S, P, Q):\n",
    "    IF = {'A':1,'C':2,'G':3,'T':4}\n",
    "    ans = []\n",
    "\n",
    "    for i in range(len(P)):\n",
    "        min_ = 5\n",
    "        for j in range(P[i], Q[i]+1):\n",
    "            min_ = min(min_, IF[S[j]])\n",
    "        ans.append(min_)\n",
    "    return ans"
   ]
  },
  {
   "cell_type": "code",
   "execution_count": null,
   "metadata": {},
   "outputs": [],
   "source": [
    "# A, C, G의 개수 변화를 감지하는 count list 선언\n",
    "# count list를 이용하여 result list를 만듦\n",
    "# O(N+M)\n",
    "\n",
    "def solution(S, P, Q):\n",
    "\n",
    "    count = []\n",
    "    for _ in range(3):\n",
    "        count.append([0]*(len(S)+1))\n",
    "\n",
    "    for i in range(len(S)):\n",
    "        A, C, G = 0, 0, 0\n",
    "        if S[i] == 'A':\n",
    "            A = 1\n",
    "        elif S[i] == 'C':\n",
    "            C = 1\n",
    "        elif S[i] == 'G':\n",
    "            G = 1\n",
    "        count[0][i + 1] = count[0][i] + A\n",
    "        count[1][i + 1] = count[1][i] + C\n",
    "        count[2][i + 1] = count[2][i] + G\n",
    "\n",
    "    ans = []\n",
    "\n",
    "    for i in range(len(P)):\n",
    "        start = P[i]\n",
    "        end = Q[i] + 1\n",
    "\n",
    "        if count[0][end] - count[0][start] >= 1:\n",
    "            ans.append(1)\n",
    "        elif count[1][end] - count[1][start] >= 1:\n",
    "            ans.append(2)\n",
    "        elif count[2][end] - count[2][start] >= 1:\n",
    "            ans.append(3)\n",
    "        else:\n",
    "            ans.append(4)\n",
    "\n",
    "    return ans"
   ]
  },
  {
   "cell_type": "markdown",
   "metadata": {},
   "source": [
    "### MaxProductOfThree\n",
    "- Maximize A[P] * A[Q] * A[R] for any triplet (P, Q, R)."
   ]
  },
  {
   "cell_type": "code",
   "execution_count": null,
   "metadata": {},
   "outputs": [],
   "source": [
    "# 세 수 곱의 최대값을 반환\n",
    "# 음수 2개, 양수 1개인 경우도 생각해야함 -> sorting 후 무조건 마지막 3개의 곱이 최대값이 아닐 수도 있음\n",
    "# sorting 후 1) 음수 2개 (가장 앞의 두 수) x 양수 1개, 2) 마지막 수 3개의 곱 구한다. \n",
    "# 그런 다음 1)과 2)를 max()하여 반환\n",
    "# Edge case나 예외 처리: \n",
    "  # 1) 만약 모든 수가 음수 -> 마지막 3개의 곱이 최대\n",
    "\n",
    "def solution(A):\n",
    "    n = len(A)\n",
    "    # sorting\n",
    "    A.sort()\n",
    "    \n",
    "    # 1)과 2)에 대한 곱 연산\n",
    "    product_one = A[0] * A[1] * A[n-1]\n",
    "    product_two = A[n-3] * A[n-2] * A[n-1]\n",
    "    \n",
    "    return max(product_one, product_two)"
   ]
  },
  {
   "cell_type": "markdown",
   "metadata": {},
   "source": [
    "### NumberOfDiscIntersections\n",
    "- Compute the number of intersections in a sequence of discs."
   ]
  },
  {
   "cell_type": "code",
   "execution_count": null,
   "metadata": {},
   "outputs": [],
   "source": [
    "# intersect하는 pair의 수를 반환.\n",
    "# 각 원이 지닌 x좌표상의 범위를 구함\n",
    "# 해당 좌표들이 겹칠 경우 count수를 +1하고 마지막에 반환\n",
    "  # 각 원에 대해 나머지 모든 원들이 겹치는 지 확인-> brute force: O(n^2)\n",
    "# 중복되는 pair는 count 해선 안 됨\n",
    "# 10,000,000 넘어가면 -1 반환\n",
    "\n",
    "#O(N^2)\n",
    "def solution(A):\n",
    "    # 각 원이 지닌 좌표 범위 구하기\n",
    "    circle_ranges = []\n",
    "    for i, n in enumerate(A):\n",
    "        left = i - n\n",
    "        right = i + n\n",
    "        circle_ranges.append((left, right))\n",
    "    \n",
    "    # 겹치는 경우의 수 세기\n",
    "    # A[0], A[1]이 겹치는 지 판단: A[0]의 right와 A[1]의 left 비교\n",
    "    count = 0\n",
    "    for i in range(len(A)-1):\n",
    "        for j in range(i+1, len(A)):\n",
    "            if circle_ranges[i][1] >= circle_ranges[j][0]:\n",
    "                count += 1\n",
    "                # 10,000,000 초과시 처리\n",
    "                if count > 10000000:\n",
    "                    return -1\n",
    "    \n",
    "    return count"
   ]
  },
  {
   "cell_type": "code",
   "execution_count": null,
   "metadata": {},
   "outputs": [],
   "source": [
    "# sorting을 이용할 수 있는가?\n",
    "# O(NlogN)\n",
    "def solution(A):\n",
    "    # 각 원이 지닌 좌표 범위 구하기\n",
    "    left = []\n",
    "    right = []\n",
    "\n",
    "    for i, n in enumerate(A):\n",
    "        left.append(i - n)\n",
    "        right.append(i + n)\n",
    "\n",
    "    left.sort()\n",
    "    right.sort()\n",
    "\n",
    "    intersection = 0;\n",
    "    j = 0\n",
    "\n",
    "    for i in range(len(A) - 1):\n",
    "        while j < len(A) and right[i] >= left[j]:\n",
    "            intersection += j - i\n",
    "            j += 1\n",
    "            if intersection > 10000000:\n",
    "                return -1\n",
    "\n",
    "    return intersection"
   ]
  },
  {
   "cell_type": "markdown",
   "metadata": {},
   "source": [
    "### Triangle\n",
    "- Determine whether a triangle can be built from a given set of edges."
   ]
  },
  {
   "cell_type": "code",
   "execution_count": null,
   "metadata": {},
   "outputs": [],
   "source": [
    "# O(NlogN)\n",
    "# sorting 후에는 사실상 A[i] + A[i+1] > A[i+2] 하나만 확인 하면 됨\n",
    "# A[i] + A[i+2] > A[i+3]와 같은 경우는? \n",
    "# 만약 A[i+1] + A[i+2] > A[i+3]이 거짓이라면 위의 명제는 무조건 거짓\n",
    "# 따라서 살펴볼 필요가 없음\n",
    "def solution(A):\n",
    "    if len(A) < 3:\n",
    "        return 0\n",
    "        \n",
    "    A.sort()\n",
    "    \n",
    "    for i in range(len(A)-2):\n",
    "        if A[i] + A[i+1] > A[i+2]:\n",
    "            return 1\n",
    "            \n",
    "    return 0"
   ]
  },
  {
   "cell_type": "markdown",
   "metadata": {},
   "source": [
    "### PassingCars\n",
    "- Count the number of passing cars on the road."
   ]
  },
  {
   "cell_type": "code",
   "execution_count": null,
   "metadata": {},
   "outputs": [],
   "source": [
    "# Brute force: 각각의 0에 대해서, 오른쪽에 1이 몇개 있는지 계산 -> O(N^2)\n",
    "# 한번만 loop를 돌면서 해결하는 방법은?\n",
    "# loop를 돌면서 0의 개수를 셈. 그 이후로 1이 추가될 때마다 0의 개수만 큼 answer에 더하면 됨\n",
    "# Edge case 처리: 모두 0인 경우?\n",
    "# Large numbers 체크!\n",
    "# O(N)\n",
    "\n",
    "def solution(A):\n",
    "    if len(A) == 1 or sum(A) == 0:\n",
    "        return 0\n",
    "    \n",
    "    zeros = 0\n",
    "    pairs = 0\n",
    "    for i, n in enumerate(A):\n",
    "        if n == 0:\n",
    "            zeros += 1\n",
    "            continue\n",
    "        else:\n",
    "            pairs += zeros\n",
    "            if pairs > 1000000000:\n",
    "                return -1\n",
    "    \n",
    "    return pairs"
   ]
  }
 ],
 "metadata": {
  "kernelspec": {
   "display_name": "Python 3",
   "language": "python",
   "name": "python3"
  },
  "language_info": {
   "codemirror_mode": {
    "name": "ipython",
    "version": 3
   },
   "file_extension": ".py",
   "mimetype": "text/x-python",
   "name": "python",
   "nbconvert_exporter": "python",
   "pygments_lexer": "ipython3",
   "version": "3.6.10"
  }
 },
 "nbformat": 4,
 "nbformat_minor": 4
}
