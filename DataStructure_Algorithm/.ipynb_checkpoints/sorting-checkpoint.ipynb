{
 "cells": [
  {
   "cell_type": "markdown",
   "metadata": {},
   "source": [
    "### 선택 정렬 (Selection Sort)\n",
    "- 가장 작은 원소를 선택해 맨 앞에 있는 원소와 바꾸고, 그다음 작은 원소를 선택해 두번째에 두는 과정을 반복\n",
    "- O(N^2)"
   ]
  },
  {
   "cell_type": "code",
   "execution_count": 3,
   "metadata": {},
   "outputs": [
    {
     "name": "stdout",
     "output_type": "stream",
     "text": [
      "[0, 1, 2, 3, 4, 5, 6, 7, 8, 9]\n"
     ]
    }
   ],
   "source": [
    "array = [7,5,9,0,3,1,6,2,4,8]\n",
    "\n",
    "for i in range(len(array)):\n",
    "    min_index = i\n",
    "    for j in range(i + 1, len(array)):\n",
    "        if array[min_index] > array[j]:\n",
    "            # 가장 작은 원소 선택\n",
    "            min_index = j\n",
    "    # 스와프\n",
    "    array[i], array[min_index] = array[min_index], array[i]\n",
    "    \n",
    "print(array)"
   ]
  },
  {
   "cell_type": "markdown",
   "metadata": {},
   "source": [
    "### 삽입 정렬 (Insertion Sort)\n",
    "- 각 원소를 하나씩 확인하며 적절한 위치에 삽입하는 방식\n",
    "- 첫번째 원소는 두고, 두번째 원소부터 첫번째 원소를 기준으로 어디에 삽입할지 결정해나감\n",
    "- O(N^2). 현재 리스트가 거의 정렬된 상태라면 최선의 경우 O(N)의 시간 복잡도를 가짐"
   ]
  },
  {
   "cell_type": "code",
   "execution_count": 4,
   "metadata": {},
   "outputs": [
    {
     "name": "stdout",
     "output_type": "stream",
     "text": [
      "[0, 1, 2, 3, 4, 5, 6, 7, 8, 9]\n"
     ]
    }
   ],
   "source": [
    "array = [7,5,9,0,3,1,6,2,4,8]\n",
    "\n",
    "for i in range(1, len(array)):\n",
    "    for j in range(i, 0, -1):\n",
    "        if array[j] < array[j-1]:\n",
    "            # 한 칸씩 왼쪽으로 이동\n",
    "            array[j], array[j-1] = array[j-1], array[j]\n",
    "        else:\n",
    "            # 자신 보다 작은 원소를 만나면 멈춤\n",
    "            break\n",
    "\n",
    "print(array)"
   ]
  },
  {
   "cell_type": "markdown",
   "metadata": {},
   "source": [
    "### 퀵 정렬(Quick Sort)\n",
    "- 기준 원소(피벗)를 설정하고, 그 기준을 중심으로 큰 원소와 작은 원소의 위치를 바꿈\n",
    "- 호어 분할 방식\n",
    "  - 첫 번째 원소를 피벗으로 정하고 왼쪽부터 피벗보다 큰 원소를 찾고, 오른쪽부터 작은 원소를 찾아 위치 교환\n",
    "  - 왼쪽 searching과 오른쪽 searching이 엇갈린 경우 작은 원소와 피벗의 위치를 변경하고 분할을 수행함\n",
    "  - 분할된 파트들에 대해 동일한 정렬 과정을 수행하고, 1개의 원소가 남아서 분할이 불가능할 때까지 반복한다.\n",
    "- 평균적으로 O(NlogN), 최악의 경우 O(N^2). 데이터가 이미 정렬된 경우에 매우 느린 편"
   ]
  },
  {
   "cell_type": "code",
   "execution_count": 5,
   "metadata": {},
   "outputs": [
    {
     "name": "stdout",
     "output_type": "stream",
     "text": [
      "[0, 1, 2, 3, 4, 5, 6, 7, 8, 9]\n"
     ]
    }
   ],
   "source": [
    "# 가장 직관적인 방식\n",
    "array = [5,7,9,0,3,1,6,2,4,8]\n",
    "\n",
    "def quick_sort(array, start, end):\n",
    "    # 원소가 하나라면 종료\n",
    "    if start >= end:\n",
    "        return\n",
    "    pivot = start\n",
    "    left = start + 1\n",
    "    right = end\n",
    "    while left <= right:\n",
    "        # 피벗보다 큰 데이터를 찾을 때까지 이동\n",
    "        while left <= end and array[left] <= array[pivot]:\n",
    "            left += 1\n",
    "        # 피벗보다 작은 데이터를 찾을 때까지 이동\n",
    "        while right > start and array[right] >= array[pivot]:\n",
    "            right -= 1\n",
    "        # 엇갈린 경우 작은 데이터와 피벗 교체\n",
    "        if left > right:\n",
    "            array[right], array[pivot] = array[pivot], array[right]\n",
    "        # 엇갈리지 않은 경우 작은 데이터와 큰 데이터 교체\n",
    "        else:\n",
    "            array[left], array[right] = array[right], array[left]\n",
    "        # 분할 이후 왼쪽 파트와 오론쪽 파트에서 각각 정렬 수행\n",
    "        quick_sort(array, start, right - 1)\n",
    "        quick_sort(array, right + 1, end)\n",
    "        \n",
    "quick_sort(array, 0, len(array) - 1)\n",
    "print(array)"
   ]
  },
  {
   "cell_type": "code",
   "execution_count": 6,
   "metadata": {},
   "outputs": [
    {
     "name": "stdout",
     "output_type": "stream",
     "text": [
      "[0, 1, 2, 3, 4, 5, 6, 7, 8, 9]\n"
     ]
    }
   ],
   "source": [
    "# 파이썬의 장점을 살린 방식\n",
    "array = [5,7,9,0,3,1,6,2,4,8]\n",
    "\n",
    "def quick_sort(array):\n",
    "    # 원소가 하나라면 종료\n",
    "    if len(array) <= 1:\n",
    "        return array\n",
    "    \n",
    "    pivot = array[0]\n",
    "    tail = array[1:]\n",
    "    \n",
    "    left_side = [x for x in tail if x <= pivot]\n",
    "    right_side = [x for x in tail if x > pivot]\n",
    "    \n",
    "    return quick_sort(left_side) + [pivot] + quick_sort(right_side)\n",
    "\n",
    "print(quick_sort(array))"
   ]
  },
  {
   "cell_type": "markdown",
   "metadata": {},
   "source": [
    "### 계수 정렬(Count Sort)\n",
    "- 데이터의 크기 범위가 제한되어 정수로 표현할 수 있을 때만 사용 가능\n",
    "- 일반적으로 가장 작은 데이터와 가장 큰 데이터의 차이가 1000000을 넘지 않을 때 효과적으로 사용 가능\n",
    "- 모든 범위를 담을 수 있는 리스트를 선언하고 count하고, 순서대로 출력하는 방식\n",
    "- 데이터 개수 N, 최댓값 K에 대해 O(N + K) 보장. 공간 복잡도 또한 O(N + K)\n",
    "- 데이터의 크기가 한정되어 있고, 데이터가 많이 중복되어 있을 수록 유리함"
   ]
  },
  {
   "cell_type": "code",
   "execution_count": 7,
   "metadata": {},
   "outputs": [
    {
     "name": "stdout",
     "output_type": "stream",
     "text": [
      "0 0 1 1 2 2 3 4 5 5 6 7 8 9 9 "
     ]
    }
   ],
   "source": [
    "array = [7,5,9,0,3,1,6,2,9,1,4,8,0,5,2]\n",
    "count = [0] * (max(array) + 1)\n",
    "\n",
    "for i in range(len(array)):\n",
    "    # 각 데이터에 해당하는 인덱스를 1씩 증가\n",
    "    count[array[i]] += 1\n",
    "    \n",
    "for i in range(len(count)):\n",
    "    # 해당 인덱스가 count된 횟수만틈 순서대로 출력\n",
    "    for j in range(count[i]):\n",
    "        print(i, end=' ')"
   ]
  },
  {
   "cell_type": "markdown",
   "metadata": {},
   "source": [
    "### 정렬 라이브러리\n",
    "- 최악의 경우에도 O(NlogN) 보장\n",
    "- 병합 정렬과 삽입 정렬을 더한 하이브리드 방식"
   ]
  },
  {
   "cell_type": "markdown",
   "metadata": {},
   "source": [
    "### 정렬 알고리즘 문제 유형\n",
    "1) 정렬 라이브러리 사용: 단순한 정렬 문제  \n",
    "2) 정렬 알고리즘의 원리 관련  \n",
    "3) 빠른 정렬이 요구되는 문제: 계수 정렬 또는 개선된 알고리즘을 사용해야 함"
   ]
  },
  {
   "cell_type": "markdown",
   "metadata": {},
   "source": [
    "#### 위에서 아래로\n",
    "- 내림차순 정렬 후 출력하는 기본 문제"
   ]
  },
  {
   "cell_type": "code",
   "execution_count": 8,
   "metadata": {},
   "outputs": [
    {
     "name": "stdout",
     "output_type": "stream",
     "text": [
      "3\n",
      "15\n",
      "27\n",
      "12\n",
      "27 15 12 "
     ]
    }
   ],
   "source": [
    "n = int(input())\n",
    "\n",
    "array = []\n",
    "for _ in range(n):\n",
    "    array.append(int(input()))\n",
    "array.sort(reverse=True)\n",
    "\n",
    "for i in array:\n",
    "    print(i, end=' ')"
   ]
  },
  {
   "cell_type": "markdown",
   "metadata": {},
   "source": [
    "#### 성적이 낮은 학생 순 출력\n",
    "- 성적이 낮은 순서대로 학생의 이름을 출력"
   ]
  },
  {
   "cell_type": "code",
   "execution_count": 10,
   "metadata": {},
   "outputs": [
    {
     "name": "stdout",
     "output_type": "stream",
     "text": [
      "2\n",
      "홍 95\n",
      "이 77\n",
      "이 홍 "
     ]
    }
   ],
   "source": [
    "n = int(input())\n",
    "\n",
    "array = []\n",
    "for _ in range(n):\n",
    "    name, score = input().split()\n",
    "    array.append((name, int(score)))\n",
    "\n",
    "array.sort(key=lambda x:x[1])\n",
    "\n",
    "for e in array:\n",
    "    print(e[0], end=' ')"
   ]
  },
  {
   "cell_type": "markdown",
   "metadata": {},
   "source": [
    "#### 두 배열의 원소 교체\n",
    "- 배열 A와 B에 대해 K번 교체를 수행하여 얻은 배열 A의 합의 최댓값을 출력"
   ]
  },
  {
   "cell_type": "code",
   "execution_count": 12,
   "metadata": {},
   "outputs": [
    {
     "name": "stdout",
     "output_type": "stream",
     "text": [
      "5 3\n",
      "1 2 5 4 3\n",
      "5 5 6 6 5\n",
      "15\n"
     ]
    }
   ],
   "source": [
    "# A에서 가장 작은 원소를 찾고, B에서 가장 큰 원소를 찾아 교체 수행. 이것을 K번 반복\n",
    "# O(K*N)\n",
    "n, k = map(int, input().split())\n",
    "A = list(map(int, input().split()))\n",
    "B = list(map(int, input().split()))\n",
    "\n",
    "for _ in range(k):\n",
    "    A_min = min(A)\n",
    "    B_max = max(B)\n",
    "    A.remove(A_min)\n",
    "    A.append(B_max)\n",
    "    B.remove(B_max)\n",
    "    B.append(A_min)\n",
    "\n",
    "print(sum(A))"
   ]
  },
  {
   "cell_type": "code",
   "execution_count": 14,
   "metadata": {},
   "outputs": [
    {
     "name": "stdout",
     "output_type": "stream",
     "text": [
      "5 3\n",
      "1 2 5 4 3\n",
      "5 5 6 6 5\n",
      "26\n"
     ]
    }
   ],
   "source": [
    "# 정렬 라이브러리 이용\n",
    "# O(NlogN)\n",
    "n, k = map(int, input().split())\n",
    "A = list(map(int, input().split()))\n",
    "B = list(map(int, input().split()))\n",
    "\n",
    "A.sort()\n",
    "B.sort(reverse=True)\n",
    "\n",
    "for i in range(k):\n",
    "    if A[i] < B[i]:\n",
    "        A[i], B[i] = B[i], A[i]\n",
    "    else:\n",
    "        break\n",
    "        \n",
    "print(sum(A))"
   ]
  },
  {
   "cell_type": "code",
   "execution_count": null,
   "metadata": {},
   "outputs": [],
   "source": []
  }
 ],
 "metadata": {
  "kernelspec": {
   "display_name": "Python 3",
   "language": "python",
   "name": "python3"
  },
  "language_info": {
   "codemirror_mode": {
    "name": "ipython",
    "version": 3
   },
   "file_extension": ".py",
   "mimetype": "text/x-python",
   "name": "python",
   "nbconvert_exporter": "python",
   "pygments_lexer": "ipython3",
   "version": "3.6.10"
  }
 },
 "nbformat": 4,
 "nbformat_minor": 4
}
