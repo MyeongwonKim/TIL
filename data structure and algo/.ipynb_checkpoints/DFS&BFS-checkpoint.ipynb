{
 "cells": [
  {
   "cell_type": "code",
   "execution_count": 1,
   "metadata": {},
   "outputs": [
    {
     "name": "stdout",
     "output_type": "stream",
     "text": [
      "[5, 2, 7, 1]\n",
      "[1, 7, 2, 5]\n"
     ]
    }
   ],
   "source": [
    "# stack 구현\n",
    "stack = []\n",
    "stack.append(5)\n",
    "stack.append(2)\n",
    "stack.append(7)\n",
    "stack.append(1)\n",
    "stack.append(4)\n",
    "stack.pop()\n",
    "\n",
    "print(stack)\n",
    "print(stack[::-1]) # 최상단 원소부터 출력"
   ]
  },
  {
   "cell_type": "code",
   "execution_count": 2,
   "metadata": {},
   "outputs": [
    {
     "name": "stdout",
     "output_type": "stream",
     "text": [
      "deque([4, 7, 1, 3])\n",
      "deque([3, 1, 7, 4])\n"
     ]
    }
   ],
   "source": [
    "# queue 구현\n",
    "from collections import deque\n",
    "queue = deque()\n",
    "\n",
    "queue.append(5)\n",
    "queue.append(4)\n",
    "queue.append(7)\n",
    "queue.popleft()\n",
    "queue.append(1)\n",
    "queue.append(3)\n",
    "\n",
    "print(queue)\n",
    "queue.reverse()\n",
    "print(queue)"
   ]
  },
  {
   "cell_type": "markdown",
   "metadata": {},
   "source": [
    "### 재귀 함수\n",
    "- 자기 자신을 호출하는 함수. 스택 자료구조와 동일한 방식으로 작동\n",
    "- 항들 간의 관계를 나타내는 점화식을 그대로 코드로 옮김\n",
    "- if문을 이용하여 종료 조건을 명시해주어야 함"
   ]
  },
  {
   "cell_type": "markdown",
   "metadata": {},
   "source": [
    "### graph\n",
    "- 노드와 간선으로 표현됨\n",
    "- 인접하다: 두 노드가 간선으로 연결되어 있음\n",
    "- 연결 되지 않은 경우: 무한의 비용으로 표시\n",
    "- 그래프 표현의 2가지 방식\n",
    "  - 인접 행렬: 2차원 배열로 표현. 모든 관계를 저장. 노드가 많으면 메모리가 낭비됨\n",
    "  - 인접 리스트: 리스트로 표현. 연결된 정보만 저장. 메모리를 효율적으로 사용. 연결 정보 확인이 느림"
   ]
  },
  {
   "cell_type": "code",
   "execution_count": 3,
   "metadata": {},
   "outputs": [
    {
     "name": "stdout",
     "output_type": "stream",
     "text": [
      "[[0, 7, 5], [7, 0, 99999999999], [5, 99999999999, 0]]\n"
     ]
    }
   ],
   "source": [
    "# graph 표현\n",
    "# 인접 행렬 방식\n",
    "INF = 99999999999\n",
    "\n",
    "graph = [\n",
    "    [0,7,5],\n",
    "    [7,0,INF],\n",
    "    [5,INF,0]\n",
    "]\n",
    "\n",
    "print(graph)"
   ]
  },
  {
   "cell_type": "code",
   "execution_count": 4,
   "metadata": {},
   "outputs": [
    {
     "name": "stdout",
     "output_type": "stream",
     "text": [
      "[[(1, 7), (2, 5)], [(0, 7)], [(0, 5)]]\n"
     ]
    }
   ],
   "source": [
    "# 인접 리스(트 방식\n",
    "graph = [[] for _ in range(3)]\n",
    "\n",
    "graph[0].append((1,7))\n",
    "graph[0].append((2,5))\n",
    "\n",
    "graph[1].append((0,7))\n",
    "\n",
    "graph[2].append((0,5))\n",
    "\n",
    "print(graph)"
   ]
  },
  {
   "cell_type": "markdown",
   "metadata": {},
   "source": [
    "### DFS\n",
    "- 그래프의 깊은 부분을 우선적으로 탐색\n",
    "- 동작 방식:\n",
    "  - 시작 노드를 스택에 삽입하고 방문 처리함\n",
    "  - 방문하지 않은 인접 노드를 스택에 넣고 방문 처리함. 방문하지 않은 인접 노드가 없으면 스택에서 최상단 노드를 꺼냄\n",
    "  - 바로 위의 과정을 계속해서 반복함\n",
    "- 시간복잡도: O(N)\n",
    "- 재귀 함수를 이용하여 구현 가능"
   ]
  },
  {
   "cell_type": "code",
   "execution_count": 6,
   "metadata": {},
   "outputs": [
    {
     "name": "stdout",
     "output_type": "stream",
     "text": [
      "1 2 7 6 8 3 4 5 "
     ]
    }
   ],
   "source": [
    "# dfs 함수 정의\n",
    "def dfs(graph, v, visited):\n",
    "    # 현재 노드 방문 처리\n",
    "    visited[v] = True\n",
    "    print(v, end=' ')\n",
    "    # 인접한 노드 방문\n",
    "    for i in graph[v]:\n",
    "        if not visited[i]:\n",
    "            dfs(graph, i, visited)\n",
    "          \n",
    "# 인접 리스트로 그래프 표현\n",
    "graph = [\n",
    "    [],\n",
    "    [2,3,8],\n",
    "    [1,7],\n",
    "    [1,4,5],\n",
    "    [3,5],\n",
    "    [3,4],\n",
    "    [7],\n",
    "    [2,6,8],\n",
    "    [1,7]\n",
    "]\n",
    "\n",
    "visited = [False] * 9\n",
    "\n",
    "dfs(graph, 1, visited)"
   ]
  },
  {
   "cell_type": "markdown",
   "metadata": {},
   "source": [
    "### BFS\n",
    "- 가까운 노드부터 탐색\n",
    "- 큐 자료구조를 이용하여 구현\n",
    "- 동작 방식\n",
    "  - 시작 노드를 큐에 삽입하고 방문 처리\n",
    "  - 인접 노드 중 방문하지 않은 노드를 모두 큐에 삽입하고 방문 처리\n",
    "  - 바로 위의 과정을 계속 반복\n",
    "- 시간 복잡도 O(N) (실제 컴퓨터 수행 시간은 DFS 보다 좋은 편)"
   ]
  },
  {
   "cell_type": "code",
   "execution_count": 7,
   "metadata": {},
   "outputs": [
    {
     "name": "stdout",
     "output_type": "stream",
     "text": [
      "1 2 3 8 7 4 5 6 "
     ]
    }
   ],
   "source": [
    "from collections import deque\n",
    "\n",
    "# bfs 함수 정의\n",
    "def bfs(graph, start, visited):\n",
    "    queue = deque([start])\n",
    "    visited[start] = True\n",
    "    \n",
    "    while queue:\n",
    "        v = queue.popleft()\n",
    "        print(v, end=' ')\n",
    "        # 방문하지 않은 인접 노드 삽입\n",
    "        for i in graph[v]:\n",
    "            if not visited[i]:\n",
    "                queue.append(i)\n",
    "                visited[i] = True\n",
    "\n",
    "graph = [\n",
    "    [],\n",
    "    [2,3,8],\n",
    "    [1,7],\n",
    "    [1,4,5],\n",
    "    [3,5],\n",
    "    [3,4],\n",
    "    [7],\n",
    "    [2,6,8],\n",
    "    [1,7]\n",
    "]  \n",
    "\n",
    "visited = [False] * 9\n",
    "\n",
    "bfs(graph, 1, visited)"
   ]
  },
  {
   "cell_type": "code",
   "execution_count": 8,
   "metadata": {},
   "outputs": [
    {
     "name": "stdout",
     "output_type": "stream",
     "text": [
      "3 3\n",
      "001\n",
      "010\n",
      "101\n",
      "3\n"
     ]
    }
   ],
   "source": [
    "# 실전 문제 (음료수 얼려 먹기)\n",
    "# 0인 곳에 음료수를 넣어 아이스크림을 만듦. 연결된 곳은 하나로 만들어짐. 총 몇개의 아이스크림이 만들어지겠는가?\n",
    "# 모든 점에 대해 dfs로 인접한 모든 노드를 방문하면서 값을 1로 바꾸고, 한 세트의 방문에 대해 result를 1씩 증가\n",
    "n, m = map(int, input().split())\n",
    "\n",
    "graph = []\n",
    "for i in range(n):\n",
    "    graph.append(list(map(int, input())))\n",
    "    \n",
    "def dfs(x,y):\n",
    "    # 범위를 벗어나면 종료\n",
    "    if x <= -1 or x >= n or y <= -1 or y >= m:\n",
    "        return False\n",
    "    \n",
    "    #현재 노드를 방문 안 했다면\n",
    "    if graph[x][y] == 0:\n",
    "        # 방문 처리\n",
    "        graph[x][y] = 1\n",
    "        # 상하좌우 방문\n",
    "        dfs(x-1,y)\n",
    "        dfs(x+1,y)\n",
    "        dfs(x,y-1)\n",
    "        dfs(x,y+1)\n",
    "        return True\n",
    "    return False\n",
    "\n",
    "# 모든 노드에 대하여 음료수 채우기\n",
    "result = 0\n",
    "for i in range(n):\n",
    "    for j in range(m):\n",
    "        if dfs(i, j) == True:\n",
    "            result += 1\n",
    "            \n",
    "print(result)"
   ]
  }
 ],
 "metadata": {
  "kernelspec": {
   "display_name": "Python 3",
   "language": "python",
   "name": "python3"
  },
  "language_info": {
   "codemirror_mode": {
    "name": "ipython",
    "version": 3
   },
   "file_extension": ".py",
   "mimetype": "text/x-python",
   "name": "python",
   "nbconvert_exporter": "python",
   "pygments_lexer": "ipython3",
   "version": "3.6.10"
  }
 },
 "nbformat": 4,
 "nbformat_minor": 4
}
